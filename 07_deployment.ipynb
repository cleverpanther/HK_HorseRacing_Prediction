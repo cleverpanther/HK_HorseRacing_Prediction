{
 "cells": [
  {
   "cell_type": "code",
   "execution_count": 1,
   "id": "5c9bbacb",
   "metadata": {},
   "outputs": [],
   "source": [
    "import pandas as pd\n",
    "import numpy as np\n",
    "import matplotlib.pyplot as plt\n",
    "import seaborn as sns\n",
    "\n",
    "%matplotlib inline"
   ]
  },
  {
   "cell_type": "code",
   "execution_count": 9,
   "id": "6f59cca9",
   "metadata": {},
   "outputs": [
    {
     "data": {
      "text/html": [
       "<div>\n",
       "<style scoped>\n",
       "    .dataframe tbody tr th:only-of-type {\n",
       "        vertical-align: middle;\n",
       "    }\n",
       "\n",
       "    .dataframe tbody tr th {\n",
       "        vertical-align: top;\n",
       "    }\n",
       "\n",
       "    .dataframe thead th {\n",
       "        text-align: right;\n",
       "    }\n",
       "</style>\n",
       "<table border=\"1\" class=\"dataframe\">\n",
       "  <thead>\n",
       "    <tr style=\"text-align: right;\">\n",
       "      <th></th>\n",
       "      <th>finishing_position</th>\n",
       "      <th>horse_number</th>\n",
       "      <th>horse_name</th>\n",
       "      <th>horse_id</th>\n",
       "      <th>jockey</th>\n",
       "      <th>trainer</th>\n",
       "      <th>actual_weight</th>\n",
       "      <th>declared_horse_weight</th>\n",
       "      <th>draw</th>\n",
       "      <th>length_behind_winner</th>\n",
       "      <th>...</th>\n",
       "      <th>running_position_6</th>\n",
       "      <th>race_id</th>\n",
       "      <th>recent_6_runs</th>\n",
       "      <th>recent_ave_rank</th>\n",
       "      <th>race_distance</th>\n",
       "      <th>HorseWin</th>\n",
       "      <th>HorseRankTop3</th>\n",
       "      <th>HorseRankTop50Percent</th>\n",
       "      <th>jockey_ave_rank</th>\n",
       "      <th>trainer_ave_rank</th>\n",
       "    </tr>\n",
       "  </thead>\n",
       "  <tbody>\n",
       "    <tr>\n",
       "      <th>0</th>\n",
       "      <td>1</td>\n",
       "      <td>1.0</td>\n",
       "      <td>DOUBLE DRAGON</td>\n",
       "      <td>K019</td>\n",
       "      <td>B Prebble</td>\n",
       "      <td>D Cruz</td>\n",
       "      <td>133</td>\n",
       "      <td>1032</td>\n",
       "      <td>1</td>\n",
       "      <td>-</td>\n",
       "      <td>...</td>\n",
       "      <td>NaN</td>\n",
       "      <td>2014-001</td>\n",
       "      <td>1</td>\n",
       "      <td>1.0</td>\n",
       "      <td>1400</td>\n",
       "      <td>1</td>\n",
       "      <td>1</td>\n",
       "      <td>1</td>\n",
       "      <td>6.052910</td>\n",
       "      <td>7.381862</td>\n",
       "    </tr>\n",
       "    <tr>\n",
       "      <th>1</th>\n",
       "      <td>2</td>\n",
       "      <td>2.0</td>\n",
       "      <td>PLAIN BLUE BANNER</td>\n",
       "      <td>S070</td>\n",
       "      <td>D Whyte</td>\n",
       "      <td>D E Ferraris</td>\n",
       "      <td>133</td>\n",
       "      <td>1075</td>\n",
       "      <td>13</td>\n",
       "      <td>2</td>\n",
       "      <td>...</td>\n",
       "      <td>NaN</td>\n",
       "      <td>2014-001</td>\n",
       "      <td>2</td>\n",
       "      <td>2.0</td>\n",
       "      <td>1400</td>\n",
       "      <td>0</td>\n",
       "      <td>1</td>\n",
       "      <td>1</td>\n",
       "      <td>5.825153</td>\n",
       "      <td>6.611465</td>\n",
       "    </tr>\n",
       "    <tr>\n",
       "      <th>2</th>\n",
       "      <td>3</td>\n",
       "      <td>10.0</td>\n",
       "      <td>GOLDWEAVER</td>\n",
       "      <td>P072</td>\n",
       "      <td>Y T Cheng</td>\n",
       "      <td>Y S Tsui</td>\n",
       "      <td>121</td>\n",
       "      <td>1065</td>\n",
       "      <td>3</td>\n",
       "      <td>2</td>\n",
       "      <td>...</td>\n",
       "      <td>NaN</td>\n",
       "      <td>2014-001</td>\n",
       "      <td>3</td>\n",
       "      <td>3.0</td>\n",
       "      <td>1400</td>\n",
       "      <td>0</td>\n",
       "      <td>1</td>\n",
       "      <td>1</td>\n",
       "      <td>7.857759</td>\n",
       "      <td>6.888713</td>\n",
       "    </tr>\n",
       "    <tr>\n",
       "      <th>3</th>\n",
       "      <td>4</td>\n",
       "      <td>3.0</td>\n",
       "      <td>SUPREME PROFIT</td>\n",
       "      <td>P230</td>\n",
       "      <td>J Moreira</td>\n",
       "      <td>C S Shum</td>\n",
       "      <td>132</td>\n",
       "      <td>1222</td>\n",
       "      <td>2</td>\n",
       "      <td>2</td>\n",
       "      <td>...</td>\n",
       "      <td>NaN</td>\n",
       "      <td>2014-001</td>\n",
       "      <td>4</td>\n",
       "      <td>4.0</td>\n",
       "      <td>1400</td>\n",
       "      <td>0</td>\n",
       "      <td>0</td>\n",
       "      <td>1</td>\n",
       "      <td>4.179172</td>\n",
       "      <td>6.680328</td>\n",
       "    </tr>\n",
       "    <tr>\n",
       "      <th>4</th>\n",
       "      <td>5</td>\n",
       "      <td>7.0</td>\n",
       "      <td>THE ONLY KID</td>\n",
       "      <td>H173</td>\n",
       "      <td>Z Purton</td>\n",
       "      <td>K W Lui</td>\n",
       "      <td>125</td>\n",
       "      <td>1136</td>\n",
       "      <td>9</td>\n",
       "      <td>4-1/4</td>\n",
       "      <td>...</td>\n",
       "      <td>NaN</td>\n",
       "      <td>2014-001</td>\n",
       "      <td>5</td>\n",
       "      <td>5.0</td>\n",
       "      <td>1400</td>\n",
       "      <td>0</td>\n",
       "      <td>0</td>\n",
       "      <td>1</td>\n",
       "      <td>5.284127</td>\n",
       "      <td>6.903955</td>\n",
       "    </tr>\n",
       "  </tbody>\n",
       "</table>\n",
       "<p>5 rows × 27 columns</p>\n",
       "</div>"
      ],
      "text/plain": [
       "   finishing_position  horse_number         horse_name horse_id     jockey  \\\n",
       "0                   1           1.0      DOUBLE DRAGON     K019  B Prebble   \n",
       "1                   2           2.0  PLAIN BLUE BANNER     S070    D Whyte   \n",
       "2                   3          10.0         GOLDWEAVER     P072  Y T Cheng   \n",
       "3                   4           3.0     SUPREME PROFIT     P230  J Moreira   \n",
       "4                   5           7.0       THE ONLY KID     H173   Z Purton   \n",
       "\n",
       "        trainer  actual_weight  declared_horse_weight  draw  \\\n",
       "0        D Cruz            133                   1032     1   \n",
       "1  D E Ferraris            133                   1075    13   \n",
       "2      Y S Tsui            121                   1065     3   \n",
       "3      C S Shum            132                   1222     2   \n",
       "4       K W Lui            125                   1136     9   \n",
       "\n",
       "  length_behind_winner  ...  running_position_6   race_id  recent_6_runs  \\\n",
       "0                    -  ...                 NaN  2014-001              1   \n",
       "1                    2  ...                 NaN  2014-001              2   \n",
       "2                    2  ...                 NaN  2014-001              3   \n",
       "3                    2  ...                 NaN  2014-001              4   \n",
       "4                4-1/4  ...                 NaN  2014-001              5   \n",
       "\n",
       "   recent_ave_rank race_distance  HorseWin  HorseRankTop3  \\\n",
       "0              1.0          1400         1              1   \n",
       "1              2.0          1400         0              1   \n",
       "2              3.0          1400         0              1   \n",
       "3              4.0          1400         0              0   \n",
       "4              5.0          1400         0              0   \n",
       "\n",
       "   HorseRankTop50Percent jockey_ave_rank trainer_ave_rank  \n",
       "0                      1        6.052910         7.381862  \n",
       "1                      1        5.825153         6.611465  \n",
       "2                      1        7.857759         6.888713  \n",
       "3                      1        4.179172         6.680328  \n",
       "4                      1        5.284127         6.903955  \n",
       "\n",
       "[5 rows x 27 columns]"
      ]
     },
     "execution_count": 9,
     "metadata": {},
     "output_type": "execute_result"
    }
   ],
   "source": [
    "# Read in the test file\n",
    "df_train = pd.read_csv('./data/df_train.csv')\n",
    "df_train.reset_index(inplace=True, drop=True)\n",
    "df_train.head()"
   ]
  },
  {
   "cell_type": "code",
   "execution_count": 10,
   "id": "5f2a1547",
   "metadata": {},
   "outputs": [
    {
     "data": {
      "text/plain": [
       "Index(['finishing_position', 'horse_number', 'horse_name', 'horse_id',\n",
       "       'jockey', 'trainer', 'actual_weight', 'declared_horse_weight', 'draw',\n",
       "       'length_behind_winner', 'running_position_1', 'running_position_2',\n",
       "       'running_position_3', 'running_position_4', 'finish_time', 'win_odds',\n",
       "       'running_position_5', 'running_position_6', 'race_id', 'recent_6_runs',\n",
       "       'recent_ave_rank', 'race_distance', 'HorseWin', 'HorseRankTop3',\n",
       "       'HorseRankTop50Percent', 'jockey_ave_rank', 'trainer_ave_rank'],\n",
       "      dtype='object')"
      ]
     },
     "execution_count": 10,
     "metadata": {},
     "output_type": "execute_result"
    }
   ],
   "source": [
    "df_test.columns"
   ]
  },
  {
   "cell_type": "code",
   "execution_count": 11,
   "id": "f8a1fbdb",
   "metadata": {},
   "outputs": [
    {
     "name": "stdout",
     "output_type": "stream",
     "text": [
      "<class 'pandas.core.frame.DataFrame'>\n",
      "RangeIndex: 23500 entries, 0 to 23499\n",
      "Data columns (total 27 columns):\n",
      " #   Column                 Non-Null Count  Dtype  \n",
      "---  ------                 --------------  -----  \n",
      " 0   finishing_position     23500 non-null  int64  \n",
      " 1   horse_number           23500 non-null  float64\n",
      " 2   horse_name             23500 non-null  object \n",
      " 3   horse_id               23500 non-null  object \n",
      " 4   jockey                 23500 non-null  object \n",
      " 5   trainer                23500 non-null  object \n",
      " 6   actual_weight          23500 non-null  int64  \n",
      " 7   declared_horse_weight  23500 non-null  int64  \n",
      " 8   draw                   23500 non-null  int64  \n",
      " 9   length_behind_winner   23500 non-null  object \n",
      " 10  running_position_1     23500 non-null  float64\n",
      " 11  running_position_2     23500 non-null  float64\n",
      " 12  running_position_3     23500 non-null  float64\n",
      " 13  running_position_4     13299 non-null  float64\n",
      " 14  finish_time            23500 non-null  object \n",
      " 15  win_odds               23500 non-null  float64\n",
      " 16  running_position_5     2964 non-null   float64\n",
      " 17  running_position_6     395 non-null    float64\n",
      " 18  race_id                23500 non-null  object \n",
      " 19  recent_6_runs          23500 non-null  object \n",
      " 20  recent_ave_rank        23500 non-null  float64\n",
      " 21  race_distance          23500 non-null  int64  \n",
      " 22  HorseWin               23500 non-null  int64  \n",
      " 23  HorseRankTop3          23500 non-null  int64  \n",
      " 24  HorseRankTop50Percent  23500 non-null  int64  \n",
      " 25  jockey_ave_rank        23500 non-null  float64\n",
      " 26  trainer_ave_rank       23500 non-null  float64\n",
      "dtypes: float64(11), int64(8), object(8)\n",
      "memory usage: 4.8+ MB\n"
     ]
    }
   ],
   "source": [
    "df_train.info()"
   ]
  },
  {
   "cell_type": "code",
   "execution_count": 103,
   "id": "f8949fb1",
   "metadata": {},
   "outputs": [],
   "source": [
    "# Keep the features we want to train our model on\n",
    "df = df_train[['horse_name', 'horse_number', 'jockey',\n",
    "                'actual_weight', 'declared_horse_weight',\n",
    "                'draw', 'win_odds', 'jockey_ave_rank',\n",
    "                'trainer_ave_rank', 'recent_ave_rank', 'race_distance',\n",
    "                'HorseWin', 'HorseRankTop3', 'HorseRankTop50Percent']]"
   ]
  },
  {
   "cell_type": "code",
   "execution_count": 104,
   "id": "fe86b636",
   "metadata": {},
   "outputs": [
    {
     "data": {
      "text/plain": [
       "horse_name               23500\n",
       "horse_number             23500\n",
       "jockey                   23500\n",
       "actual_weight            23500\n",
       "declared_horse_weight    23500\n",
       "draw                     23500\n",
       "win_odds                 23500\n",
       "jockey_ave_rank          23500\n",
       "trainer_ave_rank         23500\n",
       "recent_ave_rank          23500\n",
       "race_distance            23500\n",
       "HorseWin                 23500\n",
       "HorseRankTop3            23500\n",
       "HorseRankTop50Percent    23500\n",
       "dtype: int64"
      ]
     },
     "execution_count": 104,
     "metadata": {},
     "output_type": "execute_result"
    }
   ],
   "source": [
    "df.notnull().sum()"
   ]
  },
  {
   "cell_type": "code",
   "execution_count": 105,
   "id": "6e65f4ef",
   "metadata": {},
   "outputs": [
    {
     "name": "stdout",
     "output_type": "stream",
     "text": [
      "<class 'pandas.core.frame.DataFrame'>\n",
      "RangeIndex: 23500 entries, 0 to 23499\n",
      "Data columns (total 14 columns):\n",
      " #   Column                 Non-Null Count  Dtype  \n",
      "---  ------                 --------------  -----  \n",
      " 0   horse_name             23500 non-null  object \n",
      " 1   horse_number           23500 non-null  float64\n",
      " 2   jockey                 23500 non-null  object \n",
      " 3   actual_weight          23500 non-null  int64  \n",
      " 4   declared_horse_weight  23500 non-null  int64  \n",
      " 5   draw                   23500 non-null  int64  \n",
      " 6   win_odds               23500 non-null  float64\n",
      " 7   jockey_ave_rank        23500 non-null  float64\n",
      " 8   trainer_ave_rank       23500 non-null  float64\n",
      " 9   recent_ave_rank        23500 non-null  float64\n",
      " 10  race_distance          23500 non-null  int64  \n",
      " 11  HorseWin               23500 non-null  int64  \n",
      " 12  HorseRankTop3          23500 non-null  int64  \n",
      " 13  HorseRankTop50Percent  23500 non-null  int64  \n",
      "dtypes: float64(5), int64(7), object(2)\n",
      "memory usage: 2.5+ MB\n"
     ]
    }
   ],
   "source": [
    "df.info()"
   ]
  },
  {
   "cell_type": "code",
   "execution_count": 106,
   "id": "796597d6",
   "metadata": {},
   "outputs": [
    {
     "name": "stderr",
     "output_type": "stream",
     "text": [
      "C:\\Users\\finan\\AppData\\Local\\Temp/ipykernel_13028/853827769.py:8: SettingWithCopyWarning: \n",
      "A value is trying to be set on a copy of a slice from a DataFrame.\n",
      "Try using .loc[row_indexer,col_indexer] = value instead\n",
      "\n",
      "See the caveats in the documentation: https://pandas.pydata.org/pandas-docs/stable/user_guide/indexing.html#returning-a-view-versus-a-copy\n",
      "  df['horse_name'] = le_horse_name.fit_transform(df['horse_name'])\n",
      "C:\\Users\\finan\\AppData\\Local\\Temp/ipykernel_13028/853827769.py:14: SettingWithCopyWarning: \n",
      "A value is trying to be set on a copy of a slice from a DataFrame.\n",
      "Try using .loc[row_indexer,col_indexer] = value instead\n",
      "\n",
      "See the caveats in the documentation: https://pandas.pydata.org/pandas-docs/stable/user_guide/indexing.html#returning-a-view-versus-a-copy\n",
      "  df['jockey'] = le_jockey.fit_transform(df['jockey'])\n"
     ]
    }
   ],
   "source": [
    "# import label encoder\n",
    "from sklearn.preprocessing import LabelEncoder\n",
    "\n",
    "# instantiate labelencoder object\n",
    "le_horse_name = LabelEncoder()\n",
    "\n",
    "# apply le on categorical feature columns\n",
    "df['horse_name'] = le_horse_name.fit_transform(df['horse_name'])\n",
    "\n",
    "# instantiate labelencoder object\n",
    "le_jockey = LabelEncoder()\n",
    "\n",
    "# apply le on categorical feature columns\n",
    "df['jockey'] = le_jockey.fit_transform(df['jockey'])\n"
   ]
  },
  {
   "cell_type": "code",
   "execution_count": 107,
   "id": "3d645d9c",
   "metadata": {},
   "outputs": [
    {
     "name": "stdout",
     "output_type": "stream",
     "text": [
      "<class 'pandas.core.frame.DataFrame'>\n",
      "RangeIndex: 23500 entries, 0 to 23499\n",
      "Data columns (total 14 columns):\n",
      " #   Column                 Non-Null Count  Dtype  \n",
      "---  ------                 --------------  -----  \n",
      " 0   horse_name             23500 non-null  int32  \n",
      " 1   horse_number           23500 non-null  float64\n",
      " 2   jockey                 23500 non-null  int32  \n",
      " 3   actual_weight          23500 non-null  int64  \n",
      " 4   declared_horse_weight  23500 non-null  int64  \n",
      " 5   draw                   23500 non-null  int64  \n",
      " 6   win_odds               23500 non-null  float64\n",
      " 7   jockey_ave_rank        23500 non-null  float64\n",
      " 8   trainer_ave_rank       23500 non-null  float64\n",
      " 9   recent_ave_rank        23500 non-null  float64\n",
      " 10  race_distance          23500 non-null  int64  \n",
      " 11  HorseWin               23500 non-null  int64  \n",
      " 12  HorseRankTop3          23500 non-null  int64  \n",
      " 13  HorseRankTop50Percent  23500 non-null  int64  \n",
      "dtypes: float64(5), int32(2), int64(7)\n",
      "memory usage: 2.3 MB\n"
     ]
    }
   ],
   "source": [
    "df.info()"
   ]
  },
  {
   "cell_type": "code",
   "execution_count": 116,
   "id": "9c698ff6",
   "metadata": {},
   "outputs": [
    {
     "data": {
      "text/html": [
       "<div>\n",
       "<style scoped>\n",
       "    .dataframe tbody tr th:only-of-type {\n",
       "        vertical-align: middle;\n",
       "    }\n",
       "\n",
       "    .dataframe tbody tr th {\n",
       "        vertical-align: top;\n",
       "    }\n",
       "\n",
       "    .dataframe thead th {\n",
       "        text-align: right;\n",
       "    }\n",
       "</style>\n",
       "<table border=\"1\" class=\"dataframe\">\n",
       "  <thead>\n",
       "    <tr style=\"text-align: right;\">\n",
       "      <th></th>\n",
       "      <th>horse_name</th>\n",
       "      <th>horse_number</th>\n",
       "      <th>jockey</th>\n",
       "      <th>actual_weight</th>\n",
       "      <th>declared_horse_weight</th>\n",
       "      <th>draw</th>\n",
       "      <th>win_odds</th>\n",
       "      <th>jockey_ave_rank</th>\n",
       "      <th>trainer_ave_rank</th>\n",
       "      <th>recent_ave_rank</th>\n",
       "      <th>race_distance</th>\n",
       "      <th>HorseWin</th>\n",
       "      <th>HorseRankTop3</th>\n",
       "      <th>HorseRankTop50Percent</th>\n",
       "    </tr>\n",
       "  </thead>\n",
       "  <tbody>\n",
       "    <tr>\n",
       "      <th>0</th>\n",
       "      <td>393</td>\n",
       "      <td>1.0</td>\n",
       "      <td>6</td>\n",
       "      <td>133</td>\n",
       "      <td>1032</td>\n",
       "      <td>1</td>\n",
       "      <td>3.8</td>\n",
       "      <td>6.052910</td>\n",
       "      <td>7.381862</td>\n",
       "      <td>1.0</td>\n",
       "      <td>1400</td>\n",
       "      <td>1</td>\n",
       "      <td>1</td>\n",
       "      <td>1</td>\n",
       "    </tr>\n",
       "    <tr>\n",
       "      <th>1</th>\n",
       "      <td>1303</td>\n",
       "      <td>2.0</td>\n",
       "      <td>25</td>\n",
       "      <td>133</td>\n",
       "      <td>1075</td>\n",
       "      <td>13</td>\n",
       "      <td>8.0</td>\n",
       "      <td>5.825153</td>\n",
       "      <td>6.611465</td>\n",
       "      <td>2.0</td>\n",
       "      <td>1400</td>\n",
       "      <td>0</td>\n",
       "      <td>1</td>\n",
       "      <td>1</td>\n",
       "    </tr>\n",
       "    <tr>\n",
       "      <th>2</th>\n",
       "      <td>690</td>\n",
       "      <td>10.0</td>\n",
       "      <td>96</td>\n",
       "      <td>121</td>\n",
       "      <td>1065</td>\n",
       "      <td>3</td>\n",
       "      <td>5.7</td>\n",
       "      <td>7.857759</td>\n",
       "      <td>6.888713</td>\n",
       "      <td>3.0</td>\n",
       "      <td>1400</td>\n",
       "      <td>0</td>\n",
       "      <td>1</td>\n",
       "      <td>1</td>\n",
       "    </tr>\n",
       "    <tr>\n",
       "      <th>3</th>\n",
       "      <td>1664</td>\n",
       "      <td>3.0</td>\n",
       "      <td>41</td>\n",
       "      <td>132</td>\n",
       "      <td>1222</td>\n",
       "      <td>2</td>\n",
       "      <td>6.1</td>\n",
       "      <td>4.179172</td>\n",
       "      <td>6.680328</td>\n",
       "      <td>4.0</td>\n",
       "      <td>1400</td>\n",
       "      <td>0</td>\n",
       "      <td>0</td>\n",
       "      <td>1</td>\n",
       "    </tr>\n",
       "    <tr>\n",
       "      <th>4</th>\n",
       "      <td>1701</td>\n",
       "      <td>7.0</td>\n",
       "      <td>98</td>\n",
       "      <td>125</td>\n",
       "      <td>1136</td>\n",
       "      <td>9</td>\n",
       "      <td>6.1</td>\n",
       "      <td>5.284127</td>\n",
       "      <td>6.903955</td>\n",
       "      <td>5.0</td>\n",
       "      <td>1400</td>\n",
       "      <td>0</td>\n",
       "      <td>0</td>\n",
       "      <td>1</td>\n",
       "    </tr>\n",
       "  </tbody>\n",
       "</table>\n",
       "</div>"
      ],
      "text/plain": [
       "   horse_name  horse_number  jockey  actual_weight  declared_horse_weight  \\\n",
       "0         393           1.0       6            133                   1032   \n",
       "1        1303           2.0      25            133                   1075   \n",
       "2         690          10.0      96            121                   1065   \n",
       "3        1664           3.0      41            132                   1222   \n",
       "4        1701           7.0      98            125                   1136   \n",
       "\n",
       "   draw  win_odds  jockey_ave_rank  trainer_ave_rank  recent_ave_rank  \\\n",
       "0     1       3.8         6.052910          7.381862              1.0   \n",
       "1    13       8.0         5.825153          6.611465              2.0   \n",
       "2     3       5.7         7.857759          6.888713              3.0   \n",
       "3     2       6.1         4.179172          6.680328              4.0   \n",
       "4     9       6.1         5.284127          6.903955              5.0   \n",
       "\n",
       "   race_distance  HorseWin  HorseRankTop3  HorseRankTop50Percent  \n",
       "0           1400         1              1                      1  \n",
       "1           1400         0              1                      1  \n",
       "2           1400         0              1                      1  \n",
       "3           1400         0              0                      1  \n",
       "4           1400         0              0                      1  "
      ]
     },
     "execution_count": 116,
     "metadata": {},
     "output_type": "execute_result"
    }
   ],
   "source": [
    "df.head()"
   ]
  },
  {
   "cell_type": "code",
   "execution_count": 108,
   "id": "81cc90f4",
   "metadata": {},
   "outputs": [],
   "source": [
    "## split df into X and y\n",
    "X = df.drop(['HorseWin', 'HorseRankTop3', 'HorseRankTop50Percent'], axis=1)\n",
    "y = df['HorseWin']"
   ]
  },
  {
   "cell_type": "code",
   "execution_count": 109,
   "id": "7327e2fa",
   "metadata": {},
   "outputs": [
    {
     "name": "stdout",
     "output_type": "stream",
     "text": [
      "0.2798935968040621\n"
     ]
    },
    {
     "name": "stderr",
     "output_type": "stream",
     "text": [
      "c:\\Users\\finan\\anaconda3\\lib\\site-packages\\sklearn\\linear_model\\_logistic.py:444: ConvergenceWarning: lbfgs failed to converge (status=1):\n",
      "STOP: TOTAL NO. of ITERATIONS REACHED LIMIT.\n",
      "\n",
      "Increase the number of iterations (max_iter) or scale the data as shown in:\n",
      "    https://scikit-learn.org/stable/modules/preprocessing.html\n",
      "Please also refer to the documentation for alternative solver options:\n",
      "    https://scikit-learn.org/stable/modules/linear_model.html#logistic-regression\n",
      "  n_iter_i = _check_optimize_result(\n"
     ]
    }
   ],
   "source": [
    "# import logistic regression\n",
    "from sklearn.linear_model import LogisticRegression\n",
    "from sklearn.metrics import mean_squared_error\n",
    "\n",
    "# instantiate the model\n",
    "logreg = LogisticRegression()\n",
    "\n",
    "# fit the model with data\n",
    "logreg.fit(X, y)\n",
    "\n",
    "# check on the rmse\n",
    "y_pred = logreg.predict(X)\n",
    "\n",
    "print(mean_squared_error(y, y_pred, squared=False))"
   ]
  },
  {
   "cell_type": "code",
   "execution_count": 110,
   "id": "3c4825fa",
   "metadata": {},
   "outputs": [
    {
     "data": {
      "text/html": [
       "<div>\n",
       "<style scoped>\n",
       "    .dataframe tbody tr th:only-of-type {\n",
       "        vertical-align: middle;\n",
       "    }\n",
       "\n",
       "    .dataframe tbody tr th {\n",
       "        vertical-align: top;\n",
       "    }\n",
       "\n",
       "    .dataframe thead th {\n",
       "        text-align: right;\n",
       "    }\n",
       "</style>\n",
       "<table border=\"1\" class=\"dataframe\">\n",
       "  <thead>\n",
       "    <tr style=\"text-align: right;\">\n",
       "      <th></th>\n",
       "      <th>horse_name</th>\n",
       "      <th>horse_number</th>\n",
       "      <th>jockey</th>\n",
       "      <th>actual_weight</th>\n",
       "      <th>declared_horse_weight</th>\n",
       "      <th>draw</th>\n",
       "      <th>win_odds</th>\n",
       "      <th>jockey_ave_rank</th>\n",
       "      <th>trainer_ave_rank</th>\n",
       "      <th>recent_ave_rank</th>\n",
       "      <th>race_distance</th>\n",
       "    </tr>\n",
       "  </thead>\n",
       "  <tbody>\n",
       "    <tr>\n",
       "      <th>0</th>\n",
       "      <td>393</td>\n",
       "      <td>1.0</td>\n",
       "      <td>6</td>\n",
       "      <td>133</td>\n",
       "      <td>1032</td>\n",
       "      <td>1</td>\n",
       "      <td>3.8</td>\n",
       "      <td>6.052910</td>\n",
       "      <td>7.381862</td>\n",
       "      <td>1.000000</td>\n",
       "      <td>1400</td>\n",
       "    </tr>\n",
       "    <tr>\n",
       "      <th>1</th>\n",
       "      <td>1303</td>\n",
       "      <td>2.0</td>\n",
       "      <td>25</td>\n",
       "      <td>133</td>\n",
       "      <td>1075</td>\n",
       "      <td>13</td>\n",
       "      <td>8.0</td>\n",
       "      <td>5.825153</td>\n",
       "      <td>6.611465</td>\n",
       "      <td>2.000000</td>\n",
       "      <td>1400</td>\n",
       "    </tr>\n",
       "    <tr>\n",
       "      <th>2</th>\n",
       "      <td>690</td>\n",
       "      <td>10.0</td>\n",
       "      <td>96</td>\n",
       "      <td>121</td>\n",
       "      <td>1065</td>\n",
       "      <td>3</td>\n",
       "      <td>5.7</td>\n",
       "      <td>7.857759</td>\n",
       "      <td>6.888713</td>\n",
       "      <td>3.000000</td>\n",
       "      <td>1400</td>\n",
       "    </tr>\n",
       "    <tr>\n",
       "      <th>3</th>\n",
       "      <td>1664</td>\n",
       "      <td>3.0</td>\n",
       "      <td>41</td>\n",
       "      <td>132</td>\n",
       "      <td>1222</td>\n",
       "      <td>2</td>\n",
       "      <td>6.1</td>\n",
       "      <td>4.179172</td>\n",
       "      <td>6.680328</td>\n",
       "      <td>4.000000</td>\n",
       "      <td>1400</td>\n",
       "    </tr>\n",
       "    <tr>\n",
       "      <th>4</th>\n",
       "      <td>1701</td>\n",
       "      <td>7.0</td>\n",
       "      <td>98</td>\n",
       "      <td>125</td>\n",
       "      <td>1136</td>\n",
       "      <td>9</td>\n",
       "      <td>6.1</td>\n",
       "      <td>5.284127</td>\n",
       "      <td>6.903955</td>\n",
       "      <td>5.000000</td>\n",
       "      <td>1400</td>\n",
       "    </tr>\n",
       "    <tr>\n",
       "      <th>...</th>\n",
       "      <td>...</td>\n",
       "      <td>...</td>\n",
       "      <td>...</td>\n",
       "      <td>...</td>\n",
       "      <td>...</td>\n",
       "      <td>...</td>\n",
       "      <td>...</td>\n",
       "      <td>...</td>\n",
       "      <td>...</td>\n",
       "      <td>...</td>\n",
       "      <td>...</td>\n",
       "    </tr>\n",
       "    <tr>\n",
       "      <th>23495</th>\n",
       "      <td>1577</td>\n",
       "      <td>11.0</td>\n",
       "      <td>67</td>\n",
       "      <td>121</td>\n",
       "      <td>1075</td>\n",
       "      <td>5</td>\n",
       "      <td>19.0</td>\n",
       "      <td>8.103093</td>\n",
       "      <td>8.121951</td>\n",
       "      <td>5.850000</td>\n",
       "      <td>1000</td>\n",
       "    </tr>\n",
       "    <tr>\n",
       "      <th>23496</th>\n",
       "      <td>1234</td>\n",
       "      <td>4.0</td>\n",
       "      <td>59</td>\n",
       "      <td>130</td>\n",
       "      <td>1203</td>\n",
       "      <td>1</td>\n",
       "      <td>17.0</td>\n",
       "      <td>7.440841</td>\n",
       "      <td>7.369128</td>\n",
       "      <td>6.903226</td>\n",
       "      <td>1000</td>\n",
       "    </tr>\n",
       "    <tr>\n",
       "      <th>23497</th>\n",
       "      <td>1841</td>\n",
       "      <td>7.0</td>\n",
       "      <td>44</td>\n",
       "      <td>129</td>\n",
       "      <td>1237</td>\n",
       "      <td>2</td>\n",
       "      <td>18.0</td>\n",
       "      <td>7.330365</td>\n",
       "      <td>6.715420</td>\n",
       "      <td>5.454545</td>\n",
       "      <td>1000</td>\n",
       "    </tr>\n",
       "    <tr>\n",
       "      <th>23498</th>\n",
       "      <td>502</td>\n",
       "      <td>12.0</td>\n",
       "      <td>17</td>\n",
       "      <td>114</td>\n",
       "      <td>1141</td>\n",
       "      <td>3</td>\n",
       "      <td>87.0</td>\n",
       "      <td>7.464696</td>\n",
       "      <td>7.177492</td>\n",
       "      <td>9.833333</td>\n",
       "      <td>1000</td>\n",
       "    </tr>\n",
       "    <tr>\n",
       "      <th>23499</th>\n",
       "      <td>1079</td>\n",
       "      <td>8.0</td>\n",
       "      <td>45</td>\n",
       "      <td>123</td>\n",
       "      <td>1071</td>\n",
       "      <td>7</td>\n",
       "      <td>47.0</td>\n",
       "      <td>8.535494</td>\n",
       "      <td>7.381862</td>\n",
       "      <td>5.052632</td>\n",
       "      <td>1000</td>\n",
       "    </tr>\n",
       "  </tbody>\n",
       "</table>\n",
       "<p>23500 rows × 11 columns</p>\n",
       "</div>"
      ],
      "text/plain": [
       "       horse_name  horse_number  jockey  actual_weight  declared_horse_weight  \\\n",
       "0             393           1.0       6            133                   1032   \n",
       "1            1303           2.0      25            133                   1075   \n",
       "2             690          10.0      96            121                   1065   \n",
       "3            1664           3.0      41            132                   1222   \n",
       "4            1701           7.0      98            125                   1136   \n",
       "...           ...           ...     ...            ...                    ...   \n",
       "23495        1577          11.0      67            121                   1075   \n",
       "23496        1234           4.0      59            130                   1203   \n",
       "23497        1841           7.0      44            129                   1237   \n",
       "23498         502          12.0      17            114                   1141   \n",
       "23499        1079           8.0      45            123                   1071   \n",
       "\n",
       "       draw  win_odds  jockey_ave_rank  trainer_ave_rank  recent_ave_rank  \\\n",
       "0         1       3.8         6.052910          7.381862         1.000000   \n",
       "1        13       8.0         5.825153          6.611465         2.000000   \n",
       "2         3       5.7         7.857759          6.888713         3.000000   \n",
       "3         2       6.1         4.179172          6.680328         4.000000   \n",
       "4         9       6.1         5.284127          6.903955         5.000000   \n",
       "...     ...       ...              ...               ...              ...   \n",
       "23495     5      19.0         8.103093          8.121951         5.850000   \n",
       "23496     1      17.0         7.440841          7.369128         6.903226   \n",
       "23497     2      18.0         7.330365          6.715420         5.454545   \n",
       "23498     3      87.0         7.464696          7.177492         9.833333   \n",
       "23499     7      47.0         8.535494          7.381862         5.052632   \n",
       "\n",
       "       race_distance  \n",
       "0               1400  \n",
       "1               1400  \n",
       "2               1400  \n",
       "3               1400  \n",
       "4               1400  \n",
       "...              ...  \n",
       "23495           1000  \n",
       "23496           1000  \n",
       "23497           1000  \n",
       "23498           1000  \n",
       "23499           1000  \n",
       "\n",
       "[23500 rows x 11 columns]"
      ]
     },
     "execution_count": 110,
     "metadata": {},
     "output_type": "execute_result"
    }
   ],
   "source": [
    "X"
   ]
  },
  {
   "cell_type": "code",
   "execution_count": 142,
   "id": "67a70a67",
   "metadata": {},
   "outputs": [
    {
     "data": {
      "text/plain": [
       "horse_name                835.000000\n",
       "horse_number                4.000000\n",
       "jockey                     98.000000\n",
       "actual_weight             127.000000\n",
       "declared_horse_weight    1118.000000\n",
       "draw                       10.000000\n",
       "win_odds                    3.000000\n",
       "jockey_ave_rank             5.284127\n",
       "trainer_ave_rank            6.730798\n",
       "recent_ave_rank             1.000000\n",
       "race_distance            1400.000000\n",
       "Name: 93, dtype: float64"
      ]
     },
     "execution_count": 142,
     "metadata": {},
     "output_type": "execute_result"
    }
   ],
   "source": [
    "X.iloc[93]"
   ]
  },
  {
   "cell_type": "code",
   "execution_count": 144,
   "id": "bfa029b3",
   "metadata": {},
   "outputs": [
    {
     "data": {
      "text/plain": [
       "array([['HIDDEN VALUE', '4', 'Z Purton', '127', '1118', '10', '3',\n",
       "        '5.284127', '6.730798', '1.0', '1400']], dtype='<U32')"
      ]
     },
     "execution_count": 144,
     "metadata": {},
     "output_type": "execute_result"
    }
   ],
   "source": [
    "X_test_array = np.array([['HIDDEN VALUE', 4, 'Z Purton', 127, 1118, 10, 3, 5.284127, 6.730798, 1.0, 1400]])\n",
    "X_test_array"
   ]
  },
  {
   "cell_type": "code",
   "execution_count": 145,
   "id": "dfe38e89",
   "metadata": {},
   "outputs": [],
   "source": [
    "# transform string into int\n",
    "X_test_array[:, 0] = le_horse_name.transform(X_test_array[:, 0])\n",
    "X_test_array[:, 2] = le_jockey.transform(X_test_array[:, 2])"
   ]
  },
  {
   "cell_type": "code",
   "execution_count": 146,
   "id": "10f9021d",
   "metadata": {},
   "outputs": [
    {
     "data": {
      "text/plain": [
       "array([[8.350000e+02, 4.000000e+00, 9.800000e+01, 1.270000e+02,\n",
       "        1.118000e+03, 1.000000e+01, 3.000000e+00, 5.284127e+00,\n",
       "        6.730798e+00, 1.000000e+00, 1.400000e+03]])"
      ]
     },
     "execution_count": 146,
     "metadata": {},
     "output_type": "execute_result"
    }
   ],
   "source": [
    "# change X array to float\n",
    "X_test_array = X_test_array.astype(float)\n",
    "X_test_array"
   ]
  },
  {
   "cell_type": "code",
   "execution_count": 147,
   "id": "110bcb1c",
   "metadata": {},
   "outputs": [
    {
     "name": "stderr",
     "output_type": "stream",
     "text": [
      "c:\\Users\\finan\\anaconda3\\lib\\site-packages\\sklearn\\base.py:450: UserWarning: X does not have valid feature names, but LogisticRegression was fitted with feature names\n",
      "  warnings.warn(\n"
     ]
    }
   ],
   "source": [
    "y_pred = logreg.predict(X_test_array)"
   ]
  },
  {
   "cell_type": "code",
   "execution_count": 148,
   "id": "0003b019",
   "metadata": {},
   "outputs": [
    {
     "name": "stdout",
     "output_type": "stream",
     "text": [
      "[1]\n"
     ]
    }
   ],
   "source": [
    "print(y_pred)"
   ]
  },
  {
   "cell_type": "code",
   "execution_count": 139,
   "id": "381a8898",
   "metadata": {},
   "outputs": [
    {
     "data": {
      "text/plain": [
       "horse_name                835.000000\n",
       "horse_number                4.000000\n",
       "jockey                     98.000000\n",
       "actual_weight             127.000000\n",
       "declared_horse_weight    1118.000000\n",
       "draw                       10.000000\n",
       "win_odds                    3.000000\n",
       "jockey_ave_rank             5.284127\n",
       "trainer_ave_rank            6.730798\n",
       "recent_ave_rank             1.000000\n",
       "race_distance            1400.000000\n",
       "Name: 93, dtype: float64"
      ]
     },
     "execution_count": 139,
     "metadata": {},
     "output_type": "execute_result"
    }
   ],
   "source": [
    "y_pred_list = logreg.predict(X)\n",
    "X.iloc[93]"
   ]
  },
  {
   "cell_type": "code",
   "execution_count": 136,
   "id": "5a82813e",
   "metadata": {},
   "outputs": [
    {
     "data": {
      "text/plain": [
       "(array([   93,   107,   119,   191,   307,   316,   441,   650,   769,\n",
       "          887,   926,  1350,  1377,  1401,  1690,  1704,  1957,  2025,\n",
       "         2412,  2888,  3034,  3766,  4161,  6420,  6462,  7246,  7301,\n",
       "         7758,  7819,  8217,  8787,  8888,  9030,  9544,  9557,  9704,\n",
       "        11267, 11853, 11868, 12744, 12811, 13225, 14966, 15148, 15278,\n",
       "        17269, 18246, 18528, 19080, 19832, 21019, 22632], dtype=int64),)"
      ]
     },
     "execution_count": 136,
     "metadata": {},
     "output_type": "execute_result"
    }
   ],
   "source": [
    "# find the location of the first 1\n",
    "y_pred_list = np.where(y_pred_list == 1)\n",
    "y_pred_list\n"
   ]
  },
  {
   "cell_type": "code",
   "execution_count": 140,
   "id": "099b0d60",
   "metadata": {},
   "outputs": [
    {
     "data": {
      "text/plain": [
       "array(['HIDDEN VALUE'], dtype=object)"
      ]
     },
     "execution_count": 140,
     "metadata": {},
     "output_type": "execute_result"
    }
   ],
   "source": [
    "# check name of horse from the number\n",
    "le_horse_name.inverse_transform([835])"
   ]
  },
  {
   "cell_type": "code",
   "execution_count": 143,
   "id": "48fad2fd",
   "metadata": {},
   "outputs": [
    {
     "data": {
      "text/plain": [
       "array(['Z Purton'], dtype=object)"
      ]
     },
     "execution_count": 143,
     "metadata": {},
     "output_type": "execute_result"
    }
   ],
   "source": [
    "le_jockey.inverse_transform([98])"
   ]
  },
  {
   "cell_type": "code",
   "execution_count": 150,
   "id": "324112dd",
   "metadata": {},
   "outputs": [],
   "source": [
    "# import pickle\n",
    "import pickle"
   ]
  },
  {
   "cell_type": "code",
   "execution_count": 151,
   "id": "9a6225d8",
   "metadata": {},
   "outputs": [],
   "source": [
    "# pickle the model\n",
    "\n",
    "# create the data to pickle\n",
    "data = {\"model\": logreg, \"le_horse_name\": le_horse_name, \"le_jockey\": le_jockey}\n",
    "\n",
    "# open a file, where you ant to store the data\n",
    "file = open('saved_steps.pkl', 'wb')\n",
    "\n",
    "# dump information to that file\n",
    "pickle.dump(data, file)"
   ]
  },
  {
   "cell_type": "code",
   "execution_count": 152,
   "id": "46bc86b2",
   "metadata": {},
   "outputs": [],
   "source": [
    "# open the pickle file\n",
    "file = open('saved_steps.pkl', 'rb')\n",
    "\n",
    "# load the pickle file\n",
    "data = pickle.load(file)\n",
    "\n",
    "# load the model\n",
    "model = data['model']\n",
    "\n",
    "# load the label encoder\n",
    "le_horse_name = data['le_horse_name']\n",
    "le_jockey = data['le_jockey']"
   ]
  },
  {
   "cell_type": "code",
   "execution_count": 154,
   "id": "0bc38e2a",
   "metadata": {},
   "outputs": [
    {
     "name": "stderr",
     "output_type": "stream",
     "text": [
      "c:\\Users\\finan\\anaconda3\\lib\\site-packages\\sklearn\\base.py:450: UserWarning: X does not have valid feature names, but LogisticRegression was fitted with feature names\n",
      "  warnings.warn(\n"
     ]
    },
    {
     "data": {
      "text/plain": [
       "array([1], dtype=int64)"
      ]
     },
     "execution_count": 154,
     "metadata": {},
     "output_type": "execute_result"
    }
   ],
   "source": [
    "y_pred = model.predict(X_test_array)\n",
    "y_pred"
   ]
  },
  {
   "cell_type": "code",
   "execution_count": null,
   "id": "f9692533",
   "metadata": {},
   "outputs": [],
   "source": []
  }
 ],
 "metadata": {
  "kernelspec": {
   "display_name": "Python 3.9.7 ('base')",
   "language": "python",
   "name": "python3"
  },
  "language_info": {
   "codemirror_mode": {
    "name": "ipython",
    "version": 3
   },
   "file_extension": ".py",
   "mimetype": "text/x-python",
   "name": "python",
   "nbconvert_exporter": "python",
   "pygments_lexer": "ipython3",
   "version": "3.9.7"
  },
  "vscode": {
   "interpreter": {
    "hash": "fc902f5f9f1b4ac8244fa2d1a71d10e1bb8b95bd909217946ac119cb82bcf206"
   }
  }
 },
 "nbformat": 4,
 "nbformat_minor": 5
}
