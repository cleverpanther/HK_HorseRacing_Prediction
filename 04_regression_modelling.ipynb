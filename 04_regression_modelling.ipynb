{
 "cells": [
  {
   "cell_type": "code",
   "execution_count": 1,
   "metadata": {},
   "outputs": [],
   "source": [
    "import numpy as np\n",
    "import pandas as pd\n",
    "import matplotlib.pyplot as plt\n",
    "import seaborn as sns\n",
    "import math\n",
    "\n",
    "from sklearn.model_selection import cross_val_score\n",
    "from sklearn.model_selection import KFold\n",
    "from sklearn.preprocessing import StandardScaler\n",
    "\n",
    "from sklearn.linear_model import Ridge\n",
    "from sklearn.linear_model import Lasso\n",
    "\n",
    "from sklearn.linear_model import LogisticRegression\n",
    "from sklearn.naive_bayes import GaussianNB\n",
    "from sklearn.ensemble import RandomForestClassifier, RandomForestRegressor\n",
    "from sklearn.svm import SVC\n",
    "\n",
    "from sklearn.metrics import mean_squared_error\n",
    "from sklearn.metrics import f1_score, roc_curve, auc, confusion_matrix, roc_auc_score\n",
    "from sklearn.metrics import precision_recall_curve\n",
    "from sklearn.metrics import plot_precision_recall_curve\n",
    "\n",
    "from sklearn.svm import SVR\n",
    "from sklearn.ensemble import GradientBoostingRegressor\n",
    "\n",
    "import time\n",
    "\n",
    "import warnings\n",
    "warnings.filterwarnings(\"ignore\")\n",
    "\n",
    "%matplotlib inline"
   ]
  },
  {
   "cell_type": "code",
   "execution_count": 2,
   "metadata": {},
   "outputs": [],
   "source": [
    "# Read the train and test files\n",
    "df_train = pd.read_csv('./data/df_train.csv')\n",
    "df_test = pd.read_csv('./data/df_test.csv')"
   ]
  },
  {
   "cell_type": "code",
   "execution_count": 3,
   "metadata": {},
   "outputs": [
    {
     "name": "stdout",
     "output_type": "stream",
     "text": [
      "(23500, 27)\n",
      "(5864, 27)\n"
     ]
    }
   ],
   "source": [
    "# View the shape of the train and test files\n",
    "print(df_train.shape)\n",
    "print(df_test.shape)"
   ]
  },
  {
   "cell_type": "code",
   "execution_count": 4,
   "metadata": {},
   "outputs": [
    {
     "data": {
      "text/html": [
       "<div>\n",
       "<style scoped>\n",
       "    .dataframe tbody tr th:only-of-type {\n",
       "        vertical-align: middle;\n",
       "    }\n",
       "\n",
       "    .dataframe tbody tr th {\n",
       "        vertical-align: top;\n",
       "    }\n",
       "\n",
       "    .dataframe thead th {\n",
       "        text-align: right;\n",
       "    }\n",
       "</style>\n",
       "<table border=\"1\" class=\"dataframe\">\n",
       "  <thead>\n",
       "    <tr style=\"text-align: right;\">\n",
       "      <th></th>\n",
       "      <th>finishing_position</th>\n",
       "      <th>horse_number</th>\n",
       "      <th>horse_name</th>\n",
       "      <th>horse_id</th>\n",
       "      <th>jockey</th>\n",
       "      <th>trainer</th>\n",
       "      <th>actual_weight</th>\n",
       "      <th>declared_horse_weight</th>\n",
       "      <th>draw</th>\n",
       "      <th>length_behind_winner</th>\n",
       "      <th>...</th>\n",
       "      <th>running_position_6</th>\n",
       "      <th>race_id</th>\n",
       "      <th>recent_6_runs</th>\n",
       "      <th>recent_ave_rank</th>\n",
       "      <th>race_distance</th>\n",
       "      <th>HorseWin</th>\n",
       "      <th>HorseRankTop3</th>\n",
       "      <th>HorseRankTop50Percent</th>\n",
       "      <th>jockey_ave_rank</th>\n",
       "      <th>trainer_ave_rank</th>\n",
       "    </tr>\n",
       "  </thead>\n",
       "  <tbody>\n",
       "    <tr>\n",
       "      <th>0</th>\n",
       "      <td>1</td>\n",
       "      <td>1.0</td>\n",
       "      <td>DOUBLE DRAGON</td>\n",
       "      <td>K019</td>\n",
       "      <td>B Prebble</td>\n",
       "      <td>D Cruz</td>\n",
       "      <td>133</td>\n",
       "      <td>1032</td>\n",
       "      <td>1</td>\n",
       "      <td>-</td>\n",
       "      <td>...</td>\n",
       "      <td>NaN</td>\n",
       "      <td>2014-001</td>\n",
       "      <td>1</td>\n",
       "      <td>1.0</td>\n",
       "      <td>1400</td>\n",
       "      <td>1</td>\n",
       "      <td>1</td>\n",
       "      <td>1</td>\n",
       "      <td>6.052910</td>\n",
       "      <td>7.381862</td>\n",
       "    </tr>\n",
       "    <tr>\n",
       "      <th>1</th>\n",
       "      <td>2</td>\n",
       "      <td>2.0</td>\n",
       "      <td>PLAIN BLUE BANNER</td>\n",
       "      <td>S070</td>\n",
       "      <td>D Whyte</td>\n",
       "      <td>D E Ferraris</td>\n",
       "      <td>133</td>\n",
       "      <td>1075</td>\n",
       "      <td>13</td>\n",
       "      <td>2</td>\n",
       "      <td>...</td>\n",
       "      <td>NaN</td>\n",
       "      <td>2014-001</td>\n",
       "      <td>2</td>\n",
       "      <td>2.0</td>\n",
       "      <td>1400</td>\n",
       "      <td>0</td>\n",
       "      <td>1</td>\n",
       "      <td>1</td>\n",
       "      <td>5.825153</td>\n",
       "      <td>6.611465</td>\n",
       "    </tr>\n",
       "  </tbody>\n",
       "</table>\n",
       "<p>2 rows × 27 columns</p>\n",
       "</div>"
      ],
      "text/plain": [
       "   finishing_position  horse_number         horse_name horse_id     jockey  \\\n",
       "0                   1           1.0      DOUBLE DRAGON     K019  B Prebble   \n",
       "1                   2           2.0  PLAIN BLUE BANNER     S070    D Whyte   \n",
       "\n",
       "        trainer  actual_weight  declared_horse_weight  draw  \\\n",
       "0        D Cruz            133                   1032     1   \n",
       "1  D E Ferraris            133                   1075    13   \n",
       "\n",
       "  length_behind_winner  ...  running_position_6   race_id  recent_6_runs  \\\n",
       "0                    -  ...                 NaN  2014-001              1   \n",
       "1                    2  ...                 NaN  2014-001              2   \n",
       "\n",
       "   recent_ave_rank race_distance  HorseWin  HorseRankTop3  \\\n",
       "0              1.0          1400         1              1   \n",
       "1              2.0          1400         0              1   \n",
       "\n",
       "   HorseRankTop50Percent jockey_ave_rank trainer_ave_rank  \n",
       "0                      1        6.052910         7.381862  \n",
       "1                      1        5.825153         6.611465  \n",
       "\n",
       "[2 rows x 27 columns]"
      ]
     },
     "execution_count": 4,
     "metadata": {},
     "output_type": "execute_result"
    }
   ],
   "source": [
    "# View the first 2 rows of the train file\n",
    "df_train.head(2)"
   ]
  },
  {
   "cell_type": "code",
   "execution_count": 5,
   "metadata": {},
   "outputs": [
    {
     "data": {
      "text/html": [
       "<div>\n",
       "<style scoped>\n",
       "    .dataframe tbody tr th:only-of-type {\n",
       "        vertical-align: middle;\n",
       "    }\n",
       "\n",
       "    .dataframe tbody tr th {\n",
       "        vertical-align: top;\n",
       "    }\n",
       "\n",
       "    .dataframe thead th {\n",
       "        text-align: right;\n",
       "    }\n",
       "</style>\n",
       "<table border=\"1\" class=\"dataframe\">\n",
       "  <thead>\n",
       "    <tr style=\"text-align: right;\">\n",
       "      <th></th>\n",
       "      <th>finishing_position</th>\n",
       "      <th>horse_number</th>\n",
       "      <th>horse_name</th>\n",
       "      <th>horse_id</th>\n",
       "      <th>jockey</th>\n",
       "      <th>trainer</th>\n",
       "      <th>actual_weight</th>\n",
       "      <th>declared_horse_weight</th>\n",
       "      <th>draw</th>\n",
       "      <th>length_behind_winner</th>\n",
       "      <th>...</th>\n",
       "      <th>running_position_6</th>\n",
       "      <th>race_id</th>\n",
       "      <th>recent_6_runs</th>\n",
       "      <th>recent_ave_rank</th>\n",
       "      <th>race_distance</th>\n",
       "      <th>HorseWin</th>\n",
       "      <th>HorseRankTop3</th>\n",
       "      <th>HorseRankTop50Percent</th>\n",
       "      <th>jockey_ave_rank</th>\n",
       "      <th>trainer_ave_rank</th>\n",
       "    </tr>\n",
       "  </thead>\n",
       "  <tbody>\n",
       "    <tr>\n",
       "      <th>0</th>\n",
       "      <td>1</td>\n",
       "      <td>5.0</td>\n",
       "      <td>POWERMAX</td>\n",
       "      <td>A009</td>\n",
       "      <td>N Callan</td>\n",
       "      <td>R Gibson</td>\n",
       "      <td>126</td>\n",
       "      <td>1124</td>\n",
       "      <td>9</td>\n",
       "      <td>-</td>\n",
       "      <td>...</td>\n",
       "      <td>NaN</td>\n",
       "      <td>2016-328</td>\n",
       "      <td>1/4/3/3</td>\n",
       "      <td>2.7500</td>\n",
       "      <td>1200</td>\n",
       "      <td>1</td>\n",
       "      <td>1</td>\n",
       "      <td>1</td>\n",
       "      <td>6.438751</td>\n",
       "      <td>6.715420</td>\n",
       "    </tr>\n",
       "    <tr>\n",
       "      <th>1</th>\n",
       "      <td>2</td>\n",
       "      <td>2.0</td>\n",
       "      <td>BUDDY BUNDY</td>\n",
       "      <td>T157</td>\n",
       "      <td>K K Chiong</td>\n",
       "      <td>D Cruz</td>\n",
       "      <td>127</td>\n",
       "      <td>1193</td>\n",
       "      <td>8</td>\n",
       "      <td>SH</td>\n",
       "      <td>...</td>\n",
       "      <td>NaN</td>\n",
       "      <td>2016-328</td>\n",
       "      <td>2/11/5/2/6/9</td>\n",
       "      <td>6.8125</td>\n",
       "      <td>1200</td>\n",
       "      <td>0</td>\n",
       "      <td>1</td>\n",
       "      <td>1</td>\n",
       "      <td>6.499033</td>\n",
       "      <td>7.381862</td>\n",
       "    </tr>\n",
       "  </tbody>\n",
       "</table>\n",
       "<p>2 rows × 27 columns</p>\n",
       "</div>"
      ],
      "text/plain": [
       "   finishing_position  horse_number   horse_name horse_id      jockey  \\\n",
       "0                   1           5.0     POWERMAX     A009    N Callan   \n",
       "1                   2           2.0  BUDDY BUNDY     T157  K K Chiong   \n",
       "\n",
       "    trainer  actual_weight  declared_horse_weight  draw length_behind_winner  \\\n",
       "0  R Gibson            126                   1124     9                    -   \n",
       "1    D Cruz            127                   1193     8                   SH   \n",
       "\n",
       "   ...  running_position_6   race_id  recent_6_runs  recent_ave_rank  \\\n",
       "0  ...                 NaN  2016-328        1/4/3/3           2.7500   \n",
       "1  ...                 NaN  2016-328   2/11/5/2/6/9           6.8125   \n",
       "\n",
       "  race_distance  HorseWin  HorseRankTop3  HorseRankTop50Percent  \\\n",
       "0          1200         1              1                      1   \n",
       "1          1200         0              1                      1   \n",
       "\n",
       "  jockey_ave_rank trainer_ave_rank  \n",
       "0        6.438751         6.715420  \n",
       "1        6.499033         7.381862  \n",
       "\n",
       "[2 rows x 27 columns]"
      ]
     },
     "execution_count": 5,
     "metadata": {},
     "output_type": "execute_result"
    }
   ],
   "source": [
    "# View the first 2 rows of the test files\n",
    "df_test.head(2)"
   ]
  },
  {
   "cell_type": "markdown",
   "metadata": {},
   "source": [
    "## Regression Modelling"
   ]
  },
  {
   "cell_type": "markdown",
   "metadata": {},
   "source": [
    "### Pre-processing of Train and Test Data"
   ]
  },
  {
   "cell_type": "code",
   "execution_count": 6,
   "metadata": {},
   "outputs": [],
   "source": [
    "X_train = df_train[['actual_weight', 'declared_horse_weight',\n",
    "                    'draw','win_odds','jockey_ave_rank','trainer_ave_rank',\n",
    "                    'recent_ave_rank','race_distance']]\n",
    "\n",
    "# Define the target\n",
    "y_train = df_train['finish_time']\n",
    "\n",
    "# Convert the target to seconds\n",
    "y_train = y_train.apply(lambda x: x.split('.'))\n",
    "y_train = y_train.apply(lambda x: int(x[0])*60 + int(x[1]) + int(x[2])/100)"
   ]
  },
  {
   "cell_type": "code",
   "execution_count": 7,
   "metadata": {},
   "outputs": [
    {
     "data": {
      "text/plain": [
       "0    82.33\n",
       "1    82.65\n",
       "2    82.66\n",
       "3    82.66\n",
       "4    83.02\n",
       "Name: finish_time, dtype: float64"
      ]
     },
     "execution_count": 7,
     "metadata": {},
     "output_type": "execute_result"
    }
   ],
   "source": [
    "y_train.head()"
   ]
  },
  {
   "cell_type": "code",
   "execution_count": 8,
   "metadata": {},
   "outputs": [],
   "source": [
    "# Define the testing set\n",
    "X_test = df_test[['actual_weight', 'declared_horse_weight',\n",
    "                    'draw', 'win_odds', 'jockey_ave_rank', 'trainer_ave_rank',\n",
    "                    'recent_ave_rank', 'race_distance']]"
   ]
  },
  {
   "cell_type": "code",
   "execution_count": 9,
   "metadata": {},
   "outputs": [],
   "source": [
    "# Define the target\n",
    "y_test = df_test['finish_time']\n",
    "\n",
    "# Convert the target to seconds\n",
    "y_test = y_test.apply(lambda x: x.split('.'))\n",
    "y_test = y_test.apply(lambda x: int(x[0])*60 + int(x[1]) + int(x[2])/100)"
   ]
  },
  {
   "cell_type": "markdown",
   "metadata": {},
   "source": [
    "#### Evaluation:\n",
    "1. MSE\n",
    "2. Top_1: the percentage/probality when your prediction of top_1 horse(horse with shortest finish_time) for each race is actually the true top_1 horse.\n",
    "\n",
    "3. Top_3: percentage/probability when your prediction of top_1 horse for each race is actually within true top_3 horses for each race. \n",
    "\n",
    "4. Average_rank: the average true rank of top_1 horse based on your prediction over all races.\n",
    "\n",
    "For example, when you predict for 3 races and your predicted top_1 horse is actually ranking 1, 3, 5 in these races. Top_1 is 1/3, Top_3 is 2/3 and Average_Rank is 3.0.\n"
   ]
  },
  {
   "cell_type": "code",
   "execution_count": 10,
   "metadata": {},
   "outputs": [
    {
     "name": "stdout",
     "output_type": "stream",
     "text": [
      "[0, 12, 24, 36, 48]\n"
     ]
    }
   ],
   "source": [
    "# Create a list of index of Top 1 Position from the testing set\n",
    "top1_index = df_test.index[df_test['finishing_position']==1].tolist()\n",
    "print(top1_index[:5])"
   ]
  },
  {
   "cell_type": "code",
   "execution_count": 11,
   "metadata": {},
   "outputs": [],
   "source": [
    "# Define a function to evaluate the model\n",
    "# Takes in the prediction and evaluates top1 & top3 probability and average rank\n",
    "\n",
    "def evaluation(y_pred):\n",
    "    top1_predict_index = []\n",
    "\n",
    "    for i in range(len(top1_index)-1):\n",
    "        \n",
    "        # Find the min value in the prediction\n",
    "        temp = np.argmin(y_pred[top1_index[i]:top1_index[i + 1]])\n",
    "        \n",
    "        top1_predict_index.append(top1_index[i] + temp)\n",
    "\n",
    "    temp0 = np.argmin(y_pred[top1_index[len(top1_index) - 1]:])\n",
    "    top1_predict_index.append(top1_index[len(top1_index) - 1] + temp0)\n",
    "\n",
    "    top_1 = float(len(set(top1_predict_index) & set(top1_index))) / len(top1_predict_index)\n",
    "    top_1  = round(top_1, 3)\n",
    "\n",
    "    top_3 = (df_test['finishing_position'][top1_predict_index].tolist().count(1) + df_test['finishing_position'][top1_predict_index].tolist().count(2)\\\n",
    "          + df_test['finishing_position'][top1_predict_index].tolist().count(3)) / float(len(top1_predict_index))\n",
    "    top_3 = round(top_3, 3)\n",
    "\n",
    "    avg_rank = sum(df_test['finishing_position'][top1_predict_index]) / float(len(top1_predict_index))\n",
    "    avg_rank = round(avg_rank, 3)\n",
    "\n",
    "    return (top_1, top_3, avg_rank)\n"
   ]
  },
  {
   "cell_type": "markdown",
   "metadata": {},
   "source": [
    "## Model 1: Ridge Regression"
   ]
  },
  {
   "cell_type": "code",
   "execution_count": 12,
   "metadata": {},
   "outputs": [
    {
     "name": "stdout",
     "output_type": "stream",
     "text": [
      "Training set RMSE:  3.011\n",
      "Testing set RMSE:  3.124\n",
      "Generalization error:  3.757 %\n",
      "Top 1 probability:  0.178\n",
      "Top 3 probability:  0.404\n",
      "Average rank:  5.429\n"
     ]
    }
   ],
   "source": [
    "# Standardize the data\n",
    "scaler = StandardScaler()\n",
    "X_train_scaled = scaler.fit_transform(X_train)\n",
    "\n",
    "# Fit the model\n",
    "ridge = Ridge(alpha = 4000)\n",
    "ridge.fit(X_train_scaled, y_train)\n",
    "\n",
    "# Standardize the testing set\n",
    "X_test_scaled = scaler.transform(X_test)\n",
    "\n",
    "# Make prediction\n",
    "ridge_pred = ridge.predict(X_test_scaled)\n",
    "\n",
    "# Find mean squared error of training set\n",
    "rmse_train = mean_squared_error(y_train, ridge.predict(X_train_scaled), squared=False)\n",
    "print('Training set RMSE: ', round(rmse_train, 3))\n",
    "\n",
    "# Find mean squared error of testing set\n",
    "rmse_test = mean_squared_error(y_test, ridge_pred, squared=False)\n",
    "print('Testing set RMSE: ', round(rmse_test, 3))\n",
    "\n",
    "# Find generalization error percentage\n",
    "gen_error = (rmse_test - rmse_train) / rmse_train * 100\n",
    "print('Generalization error: ', round(gen_error, 3), '%')\n",
    "\n",
    "# Print out the evaluation\n",
    "print('Top 1 probability: ', evaluation(ridge_pred)[0])\n",
    "print('Top 3 probability: ', evaluation(ridge_pred)[1])\n",
    "print('Average rank: ', evaluation(ridge_pred)[2])\n"
   ]
  },
  {
   "cell_type": "code",
   "execution_count": 13,
   "metadata": {},
   "outputs": [],
   "source": [
    "# Create table to store the results\n",
    "results = pd.DataFrame(columns=['Model', 'Training RMSE', 'Testing RMSE', 'Generalization Error', 'Top 1 Probability', 'Top 3 Probability', 'Average Rank'])\n",
    "\n",
    "# Create a function to store the results in a dataframe\n",
    "def store_results(model, rmse_train, rmse_test, gen_error, top1, top3, avg_rank):\n",
    "    global results\n",
    "    results = results.append({'Model': model, 'Training RMSE': rmse_train, 'Testing RMSE': rmse_test, 'Generalization Error': gen_error, 'Top 1 Probability': top1, 'Top 3 Probability': top3, 'Average Rank': avg_rank}, ignore_index=True)\n"
   ]
  },
  {
   "cell_type": "code",
   "execution_count": 14,
   "metadata": {},
   "outputs": [
    {
     "data": {
      "text/html": [
       "<div>\n",
       "<style scoped>\n",
       "    .dataframe tbody tr th:only-of-type {\n",
       "        vertical-align: middle;\n",
       "    }\n",
       "\n",
       "    .dataframe tbody tr th {\n",
       "        vertical-align: top;\n",
       "    }\n",
       "\n",
       "    .dataframe thead th {\n",
       "        text-align: right;\n",
       "    }\n",
       "</style>\n",
       "<table border=\"1\" class=\"dataframe\">\n",
       "  <thead>\n",
       "    <tr style=\"text-align: right;\">\n",
       "      <th></th>\n",
       "      <th>Model</th>\n",
       "      <th>Training RMSE</th>\n",
       "      <th>Testing RMSE</th>\n",
       "      <th>Generalization Error</th>\n",
       "      <th>Top 1 Probability</th>\n",
       "      <th>Top 3 Probability</th>\n",
       "      <th>Average Rank</th>\n",
       "    </tr>\n",
       "  </thead>\n",
       "  <tbody>\n",
       "    <tr>\n",
       "      <th>0</th>\n",
       "      <td>Ridge Regression</td>\n",
       "      <td>3.011</td>\n",
       "      <td>3.124</td>\n",
       "      <td>3.757</td>\n",
       "      <td>0.178</td>\n",
       "      <td>0.404</td>\n",
       "      <td>5.429</td>\n",
       "    </tr>\n",
       "  </tbody>\n",
       "</table>\n",
       "</div>"
      ],
      "text/plain": [
       "              Model  Training RMSE  Testing RMSE  Generalization Error  \\\n",
       "0  Ridge Regression          3.011         3.124                 3.757   \n",
       "\n",
       "   Top 1 Probability  Top 3 Probability  Average Rank  \n",
       "0              0.178              0.404         5.429  "
      ]
     },
     "execution_count": 14,
     "metadata": {},
     "output_type": "execute_result"
    }
   ],
   "source": [
    "# Store the results\n",
    "store_results('Ridge Regression', round(rmse_train, 3), round(rmse_test, 3), round(gen_error, 3), evaluation(ridge_pred)[0], evaluation(ridge_pred)[1], evaluation(ridge_pred)[2])\n",
    "\n",
    "# Print out the results\n",
    "results\n"
   ]
  },
  {
   "cell_type": "code",
   "execution_count": 30,
   "metadata": {},
   "outputs": [],
   "source": [
    "# Save predictions to csv file\n",
    "ridge_pred = pd.DataFrame(ridge_pred)\n",
    "ridge_pred.to_csv('ridge_pred.csv', index=False)"
   ]
  },
  {
   "cell_type": "markdown",
   "metadata": {},
   "source": [
    "## Model 2: Support Vector Regressor"
   ]
  },
  {
   "cell_type": "code",
   "execution_count": 16,
   "metadata": {},
   "outputs": [
    {
     "data": {
      "text/html": [
       "<style>#sk-container-id-1 {color: black;background-color: white;}#sk-container-id-1 pre{padding: 0;}#sk-container-id-1 div.sk-toggleable {background-color: white;}#sk-container-id-1 label.sk-toggleable__label {cursor: pointer;display: block;width: 100%;margin-bottom: 0;padding: 0.3em;box-sizing: border-box;text-align: center;}#sk-container-id-1 label.sk-toggleable__label-arrow:before {content: \"▸\";float: left;margin-right: 0.25em;color: #696969;}#sk-container-id-1 label.sk-toggleable__label-arrow:hover:before {color: black;}#sk-container-id-1 div.sk-estimator:hover label.sk-toggleable__label-arrow:before {color: black;}#sk-container-id-1 div.sk-toggleable__content {max-height: 0;max-width: 0;overflow: hidden;text-align: left;background-color: #f0f8ff;}#sk-container-id-1 div.sk-toggleable__content pre {margin: 0.2em;color: black;border-radius: 0.25em;background-color: #f0f8ff;}#sk-container-id-1 input.sk-toggleable__control:checked~div.sk-toggleable__content {max-height: 200px;max-width: 100%;overflow: auto;}#sk-container-id-1 input.sk-toggleable__control:checked~label.sk-toggleable__label-arrow:before {content: \"▾\";}#sk-container-id-1 div.sk-estimator input.sk-toggleable__control:checked~label.sk-toggleable__label {background-color: #d4ebff;}#sk-container-id-1 div.sk-label input.sk-toggleable__control:checked~label.sk-toggleable__label {background-color: #d4ebff;}#sk-container-id-1 input.sk-hidden--visually {border: 0;clip: rect(1px 1px 1px 1px);clip: rect(1px, 1px, 1px, 1px);height: 1px;margin: -1px;overflow: hidden;padding: 0;position: absolute;width: 1px;}#sk-container-id-1 div.sk-estimator {font-family: monospace;background-color: #f0f8ff;border: 1px dotted black;border-radius: 0.25em;box-sizing: border-box;margin-bottom: 0.5em;}#sk-container-id-1 div.sk-estimator:hover {background-color: #d4ebff;}#sk-container-id-1 div.sk-parallel-item::after {content: \"\";width: 100%;border-bottom: 1px solid gray;flex-grow: 1;}#sk-container-id-1 div.sk-label:hover label.sk-toggleable__label {background-color: #d4ebff;}#sk-container-id-1 div.sk-serial::before {content: \"\";position: absolute;border-left: 1px solid gray;box-sizing: border-box;top: 0;bottom: 0;left: 50%;z-index: 0;}#sk-container-id-1 div.sk-serial {display: flex;flex-direction: column;align-items: center;background-color: white;padding-right: 0.2em;padding-left: 0.2em;position: relative;}#sk-container-id-1 div.sk-item {position: relative;z-index: 1;}#sk-container-id-1 div.sk-parallel {display: flex;align-items: stretch;justify-content: center;background-color: white;position: relative;}#sk-container-id-1 div.sk-item::before, #sk-container-id-1 div.sk-parallel-item::before {content: \"\";position: absolute;border-left: 1px solid gray;box-sizing: border-box;top: 0;bottom: 0;left: 50%;z-index: -1;}#sk-container-id-1 div.sk-parallel-item {display: flex;flex-direction: column;z-index: 1;position: relative;background-color: white;}#sk-container-id-1 div.sk-parallel-item:first-child::after {align-self: flex-end;width: 50%;}#sk-container-id-1 div.sk-parallel-item:last-child::after {align-self: flex-start;width: 50%;}#sk-container-id-1 div.sk-parallel-item:only-child::after {width: 0;}#sk-container-id-1 div.sk-dashed-wrapped {border: 1px dashed gray;margin: 0 0.4em 0.5em 0.4em;box-sizing: border-box;padding-bottom: 0.4em;background-color: white;}#sk-container-id-1 div.sk-label label {font-family: monospace;font-weight: bold;display: inline-block;line-height: 1.2em;}#sk-container-id-1 div.sk-label-container {text-align: center;}#sk-container-id-1 div.sk-container {/* jupyter's `normalize.less` sets `[hidden] { display: none; }` but bootstrap.min.css set `[hidden] { display: none !important; }` so we also need the `!important` here to be able to override the default hidden behavior on the sphinx rendered scikit-learn.org. See: https://github.com/scikit-learn/scikit-learn/issues/21755 */display: inline-block !important;position: relative;}#sk-container-id-1 div.sk-text-repr-fallback {display: none;}</style><div id=\"sk-container-id-1\" class=\"sk-top-container\"><div class=\"sk-text-repr-fallback\"><pre>SVR(C=100, gamma=0.1)</pre><b>In a Jupyter environment, please rerun this cell to show the HTML representation or trust the notebook. <br />On GitHub, the HTML representation is unable to render, please try loading this page with nbviewer.org.</b></div><div class=\"sk-container\" hidden><div class=\"sk-item\"><div class=\"sk-estimator sk-toggleable\"><input class=\"sk-toggleable__control sk-hidden--visually\" id=\"sk-estimator-id-1\" type=\"checkbox\" checked><label for=\"sk-estimator-id-1\" class=\"sk-toggleable__label sk-toggleable__label-arrow\">SVR</label><div class=\"sk-toggleable__content\"><pre>SVR(C=100, gamma=0.1)</pre></div></div></div></div></div>"
      ],
      "text/plain": [
       "SVR(C=100, gamma=0.1)"
      ]
     },
     "execution_count": 16,
     "metadata": {},
     "output_type": "execute_result"
    }
   ],
   "source": [
    "# Support Vector Regression\n",
    "svr = SVR(kernel='rbf', C=100, gamma=0.1, epsilon=.1)\n",
    "\n",
    "# Fit the model\n",
    "svr.fit(X_train_scaled, y_train)\n"
   ]
  },
  {
   "cell_type": "code",
   "execution_count": 17,
   "metadata": {},
   "outputs": [
    {
     "name": "stdout",
     "output_type": "stream",
     "text": [
      "Training set RMSE:  1.179\n",
      "Testing set RMSE:  1.624\n",
      "Generalization error:  37.77 %\n",
      "Top 1 probability:  0.167\n",
      "Top 3 probability:  0.437\n",
      "Average rank:  4.889\n"
     ]
    }
   ],
   "source": [
    "\n",
    "# Make prediction\n",
    "svr_pred = svr.predict(X_test_scaled)\n",
    "\n",
    "# Find mean squared error of training set\n",
    "rmse_train = mean_squared_error(y_train, svr.predict(X_train_scaled), squared=False)\n",
    "print('Training set RMSE: ', round(rmse_train, 3))\n",
    "\n",
    "# Find mean squared error of testing set\n",
    "rmse_test = mean_squared_error(y_test, svr_pred, squared=False)\n",
    "print('Testing set RMSE: ', round(rmse_test, 3))\n",
    "\n",
    "# Find generalization error percentage\n",
    "gen_error = (rmse_test - rmse_train) / rmse_train * 100\n",
    "print('Generalization error: ', round(gen_error, 3), '%')\n",
    "\n",
    "# Print out the evaluation\n",
    "print('Top 1 probability: ', evaluation(svr_pred)[0])\n",
    "print('Top 3 probability: ', evaluation(svr_pred)[1])\n",
    "print('Average rank: ', evaluation(svr_pred)[2])"
   ]
  },
  {
   "cell_type": "code",
   "execution_count": 18,
   "metadata": {},
   "outputs": [],
   "source": [
    "# Store the results\n",
    "store_results('Support Vector Regression', round(rmse_train, 3), round(rmse_test, 3), round(gen_error, 3), \n",
    "                evaluation(svr_pred)[0], evaluation(svr_pred)[1], evaluation(svr_pred)[2])"
   ]
  },
  {
   "cell_type": "code",
   "execution_count": 19,
   "metadata": {},
   "outputs": [
    {
     "data": {
      "text/html": [
       "<div>\n",
       "<style scoped>\n",
       "    .dataframe tbody tr th:only-of-type {\n",
       "        vertical-align: middle;\n",
       "    }\n",
       "\n",
       "    .dataframe tbody tr th {\n",
       "        vertical-align: top;\n",
       "    }\n",
       "\n",
       "    .dataframe thead th {\n",
       "        text-align: right;\n",
       "    }\n",
       "</style>\n",
       "<table border=\"1\" class=\"dataframe\">\n",
       "  <thead>\n",
       "    <tr style=\"text-align: right;\">\n",
       "      <th></th>\n",
       "      <th>Model</th>\n",
       "      <th>Training RMSE</th>\n",
       "      <th>Testing RMSE</th>\n",
       "      <th>Generalization Error</th>\n",
       "      <th>Top 1 Probability</th>\n",
       "      <th>Top 3 Probability</th>\n",
       "      <th>Average Rank</th>\n",
       "    </tr>\n",
       "  </thead>\n",
       "  <tbody>\n",
       "    <tr>\n",
       "      <th>0</th>\n",
       "      <td>Ridge Regression</td>\n",
       "      <td>3.011</td>\n",
       "      <td>3.124</td>\n",
       "      <td>3.757</td>\n",
       "      <td>0.178</td>\n",
       "      <td>0.404</td>\n",
       "      <td>5.429</td>\n",
       "    </tr>\n",
       "    <tr>\n",
       "      <th>1</th>\n",
       "      <td>Support Vector Regression</td>\n",
       "      <td>1.179</td>\n",
       "      <td>1.624</td>\n",
       "      <td>37.770</td>\n",
       "      <td>0.167</td>\n",
       "      <td>0.437</td>\n",
       "      <td>4.889</td>\n",
       "    </tr>\n",
       "  </tbody>\n",
       "</table>\n",
       "</div>"
      ],
      "text/plain": [
       "                       Model  Training RMSE  Testing RMSE  \\\n",
       "0           Ridge Regression          3.011         3.124   \n",
       "1  Support Vector Regression          1.179         1.624   \n",
       "\n",
       "   Generalization Error  Top 1 Probability  Top 3 Probability  Average Rank  \n",
       "0                 3.757              0.178              0.404         5.429  \n",
       "1                37.770              0.167              0.437         4.889  "
      ]
     },
     "execution_count": 19,
     "metadata": {},
     "output_type": "execute_result"
    }
   ],
   "source": [
    "# Print out the results\n",
    "results"
   ]
  },
  {
   "cell_type": "code",
   "execution_count": 29,
   "metadata": {},
   "outputs": [],
   "source": [
    "# Save predictions to csv file\n",
    "svr_pred = pd.DataFrame(svr_pred)\n",
    "svr_pred.to_csv('svr_pred.csv', index=False)"
   ]
  },
  {
   "cell_type": "markdown",
   "metadata": {},
   "source": [
    "## Model 3: Random Forest Regressor"
   ]
  },
  {
   "cell_type": "code",
   "execution_count": 21,
   "metadata": {},
   "outputs": [
    {
     "name": "stdout",
     "output_type": "stream",
     "text": [
      "Training set RMSE:  0.973\n",
      "Testing set RMSE:  1.546\n",
      "Generalization error:  58.771 %\n",
      "Top 1 probability:  0.255\n",
      "Top 3 probability:  0.582\n",
      "Average rank:  3.805\n"
     ]
    }
   ],
   "source": [
    "# Model 3: Random Forest\n",
    "rf = RandomForestRegressor(n_estimators=100, max_depth=10, random_state=0)\n",
    "\n",
    "# Fit the model\n",
    "rf.fit(X_train_scaled, y_train)\n",
    "\n",
    "# Make prediction\n",
    "rf_pred = rf.predict(X_test_scaled)\n",
    "\n",
    "# Find mean squared error of training set\n",
    "rmse_train = mean_squared_error(y_train, rf.predict(X_train_scaled), squared=False)\n",
    "print('Training set RMSE: ', round(rmse_train, 3))\n",
    "\n",
    "# Find mean squared error of testing set\n",
    "rmse_test = mean_squared_error(y_test, rf_pred, squared=False)\n",
    "print('Testing set RMSE: ', round(rmse_test, 3))\n",
    "\n",
    "# Find generalization error percentage\n",
    "gen_error = (rmse_test - rmse_train) / rmse_train * 100\n",
    "print('Generalization error: ', round(gen_error, 3), '%')\n",
    "\n",
    "# Print out the evaluation\n",
    "print('Top 1 probability: ', evaluation(rf_pred)[0])\n",
    "print('Top 3 probability: ', evaluation(rf_pred)[1])\n",
    "print('Average rank: ', evaluation(rf_pred)[2])"
   ]
  },
  {
   "cell_type": "code",
   "execution_count": 22,
   "metadata": {},
   "outputs": [
    {
     "data": {
      "text/html": [
       "<div>\n",
       "<style scoped>\n",
       "    .dataframe tbody tr th:only-of-type {\n",
       "        vertical-align: middle;\n",
       "    }\n",
       "\n",
       "    .dataframe tbody tr th {\n",
       "        vertical-align: top;\n",
       "    }\n",
       "\n",
       "    .dataframe thead th {\n",
       "        text-align: right;\n",
       "    }\n",
       "</style>\n",
       "<table border=\"1\" class=\"dataframe\">\n",
       "  <thead>\n",
       "    <tr style=\"text-align: right;\">\n",
       "      <th></th>\n",
       "      <th>Model</th>\n",
       "      <th>Training RMSE</th>\n",
       "      <th>Testing RMSE</th>\n",
       "      <th>Generalization Error</th>\n",
       "      <th>Top 1 Probability</th>\n",
       "      <th>Top 3 Probability</th>\n",
       "      <th>Average Rank</th>\n",
       "    </tr>\n",
       "  </thead>\n",
       "  <tbody>\n",
       "    <tr>\n",
       "      <th>0</th>\n",
       "      <td>Ridge Regression</td>\n",
       "      <td>3.011</td>\n",
       "      <td>3.124</td>\n",
       "      <td>3.757</td>\n",
       "      <td>0.178</td>\n",
       "      <td>0.404</td>\n",
       "      <td>5.429</td>\n",
       "    </tr>\n",
       "    <tr>\n",
       "      <th>1</th>\n",
       "      <td>Support Vector Regression</td>\n",
       "      <td>1.179</td>\n",
       "      <td>1.624</td>\n",
       "      <td>37.770</td>\n",
       "      <td>0.167</td>\n",
       "      <td>0.437</td>\n",
       "      <td>4.889</td>\n",
       "    </tr>\n",
       "    <tr>\n",
       "      <th>2</th>\n",
       "      <td>Random Forest</td>\n",
       "      <td>0.973</td>\n",
       "      <td>1.546</td>\n",
       "      <td>58.771</td>\n",
       "      <td>0.255</td>\n",
       "      <td>0.582</td>\n",
       "      <td>3.805</td>\n",
       "    </tr>\n",
       "  </tbody>\n",
       "</table>\n",
       "</div>"
      ],
      "text/plain": [
       "                       Model  Training RMSE  Testing RMSE  \\\n",
       "0           Ridge Regression          3.011         3.124   \n",
       "1  Support Vector Regression          1.179         1.624   \n",
       "2              Random Forest          0.973         1.546   \n",
       "\n",
       "   Generalization Error  Top 1 Probability  Top 3 Probability  Average Rank  \n",
       "0                 3.757              0.178              0.404         5.429  \n",
       "1                37.770              0.167              0.437         4.889  \n",
       "2                58.771              0.255              0.582         3.805  "
      ]
     },
     "execution_count": 22,
     "metadata": {},
     "output_type": "execute_result"
    }
   ],
   "source": [
    "# Store the results\n",
    "store_results('Random Forest', round(rmse_train, 3), round(rmse_test, 3), round(gen_error, 3),\n",
    "                evaluation(rf_pred)[0], evaluation(rf_pred)[1], evaluation(rf_pred)[2])\n",
    "\n",
    "# Print out the results\n",
    "results"
   ]
  },
  {
   "cell_type": "code",
   "execution_count": 28,
   "metadata": {},
   "outputs": [],
   "source": [
    "# Save predictions to csv file\n",
    "rf_pred = pd.DataFrame(rf_pred)\n",
    "rf_pred.to_csv('rf_pred.csv', index=False)"
   ]
  },
  {
   "cell_type": "markdown",
   "metadata": {},
   "source": [
    "## Model 4: Gradient Boosting Regression Tree Model (GBRT)"
   ]
  },
  {
   "cell_type": "markdown",
   "metadata": {},
   "source": [
    "Gradient Boosting Regression Tree Model is a generalization of boosting technique to arbitrary differentiable loss functions.\n",
    "It is used here becauese of its natural handling of data of mixed type, great predictive power and robustness to outliers in output space (via robust loss functions)."
   ]
  },
  {
   "cell_type": "markdown",
   "metadata": {},
   "source": [
    "#### Tuning Parameters for GBRT:\n",
    "Loss function: It has various loss functions including ls, lad, huber, quantile. Choose loss=’qunatile’, since for default values of other parameters, this loss function performs best according to TOP_1 and TOP_3 evaluation statistics.\n",
    "\n",
    "learning_rate: controls the contribution of each weak classifier (tree).\n",
    "\n",
    "n_estimators: represents the number of weak learners (tree). Since boosting combines the output of many weak classifiers, the larger n_estimators, the more robust the model is and the better results are.\n",
    "\n",
    "max_depth: maximum nodes of the tree\n",
    "\n",
    "I chose learning_rate = 0.01, n_estimators = 10, max_depth = 2, since I found by assigning these three values to parameters, TOP_1 = 0.99, TOP_3 = 1, which performs the best in predicting winner of horse races."
   ]
  },
  {
   "cell_type": "code",
   "execution_count": 34,
   "metadata": {},
   "outputs": [
    {
     "name": "stdout",
     "output_type": "stream",
     "text": [
      "Training set RMSE:  18.532\n",
      "Testing set RMSE:  19.65\n",
      "Generalization error:  6.034 %\n",
      "Top 1 probability:  0.195\n",
      "Top 3 probability:  0.441\n",
      "Average rank:  5.103\n"
     ]
    }
   ],
   "source": [
    "# Instantiate the model\n",
    "gbrt = GradientBoostingRegressor(max_depth=10, n_estimators=5, learning_rate=2, random_state=42)\n",
    "\n",
    "# Fit the model\n",
    "gbrt.fit(X_train_scaled, y_train)\n",
    "\n",
    "# Make prediction\n",
    "gbrt_pred = gbrt.predict(X_test_scaled)\n",
    "\n",
    "# Find mean squared error of training set\n",
    "rmse_train = mean_squared_error(y_train, gbrt.predict(X_train_scaled), squared=False)\n",
    "print('Training set RMSE: ', round(rmse_train, 3))\n",
    "\n",
    "# Find mean squared error of testing set\n",
    "rmse_test = mean_squared_error(y_test, gbrt_pred, squared=False)\n",
    "print('Testing set RMSE: ', round(rmse_test, 3))\n",
    "\n",
    "# Find generalization error percentage\n",
    "gen_error = (rmse_test - rmse_train) / rmse_train * 100\n",
    "print('Generalization error: ', round(gen_error, 3), '%')\n",
    "\n",
    "# Print out the evaluation\n",
    "print('Top 1 probability: ', evaluation(gbrt_pred)[0])\n",
    "print('Top 3 probability: ', evaluation(gbrt_pred)[1])\n",
    "print('Average rank: ', evaluation(gbrt_pred)[2])\n",
    "\n",
    "# Original model\n",
    "#gbrt_model = GradientBoostingRegressor(loss = 'quantile',learning_rate = 0.01, n_estimators = 10, max_depth = 2)"
   ]
  },
  {
   "cell_type": "code",
   "execution_count": 35,
   "metadata": {},
   "outputs": [
    {
     "data": {
      "text/html": [
       "<div>\n",
       "<style scoped>\n",
       "    .dataframe tbody tr th:only-of-type {\n",
       "        vertical-align: middle;\n",
       "    }\n",
       "\n",
       "    .dataframe tbody tr th {\n",
       "        vertical-align: top;\n",
       "    }\n",
       "\n",
       "    .dataframe thead th {\n",
       "        text-align: right;\n",
       "    }\n",
       "</style>\n",
       "<table border=\"1\" class=\"dataframe\">\n",
       "  <thead>\n",
       "    <tr style=\"text-align: right;\">\n",
       "      <th></th>\n",
       "      <th>Model</th>\n",
       "      <th>Training RMSE</th>\n",
       "      <th>Testing RMSE</th>\n",
       "      <th>Generalization Error</th>\n",
       "      <th>Top 1 Probability</th>\n",
       "      <th>Top 3 Probability</th>\n",
       "      <th>Average Rank</th>\n",
       "    </tr>\n",
       "  </thead>\n",
       "  <tbody>\n",
       "    <tr>\n",
       "      <th>0</th>\n",
       "      <td>Ridge Regression</td>\n",
       "      <td>3.011</td>\n",
       "      <td>3.124</td>\n",
       "      <td>3.757</td>\n",
       "      <td>0.178</td>\n",
       "      <td>0.404</td>\n",
       "      <td>5.429</td>\n",
       "    </tr>\n",
       "    <tr>\n",
       "      <th>1</th>\n",
       "      <td>Support Vector Regression</td>\n",
       "      <td>1.179</td>\n",
       "      <td>1.624</td>\n",
       "      <td>37.770</td>\n",
       "      <td>0.167</td>\n",
       "      <td>0.437</td>\n",
       "      <td>4.889</td>\n",
       "    </tr>\n",
       "    <tr>\n",
       "      <th>2</th>\n",
       "      <td>Random Forest</td>\n",
       "      <td>0.973</td>\n",
       "      <td>1.546</td>\n",
       "      <td>58.771</td>\n",
       "      <td>0.255</td>\n",
       "      <td>0.582</td>\n",
       "      <td>3.805</td>\n",
       "    </tr>\n",
       "    <tr>\n",
       "      <th>3</th>\n",
       "      <td>Gradient Boosting</td>\n",
       "      <td>29.420</td>\n",
       "      <td>29.906</td>\n",
       "      <td>1.653</td>\n",
       "      <td>0.998</td>\n",
       "      <td>1.000</td>\n",
       "      <td>1.004</td>\n",
       "    </tr>\n",
       "    <tr>\n",
       "      <th>4</th>\n",
       "      <td>Gradient Boosting</td>\n",
       "      <td>2.987</td>\n",
       "      <td>3.004</td>\n",
       "      <td>0.573</td>\n",
       "      <td>0.996</td>\n",
       "      <td>1.000</td>\n",
       "      <td>1.004</td>\n",
       "    </tr>\n",
       "    <tr>\n",
       "      <th>5</th>\n",
       "      <td>Gradient Boosting</td>\n",
       "      <td>18.532</td>\n",
       "      <td>19.650</td>\n",
       "      <td>6.034</td>\n",
       "      <td>0.195</td>\n",
       "      <td>0.441</td>\n",
       "      <td>5.103</td>\n",
       "    </tr>\n",
       "  </tbody>\n",
       "</table>\n",
       "</div>"
      ],
      "text/plain": [
       "                       Model  Training RMSE  Testing RMSE  \\\n",
       "0           Ridge Regression          3.011         3.124   \n",
       "1  Support Vector Regression          1.179         1.624   \n",
       "2              Random Forest          0.973         1.546   \n",
       "3          Gradient Boosting         29.420        29.906   \n",
       "4          Gradient Boosting          2.987         3.004   \n",
       "5          Gradient Boosting         18.532        19.650   \n",
       "\n",
       "   Generalization Error  Top 1 Probability  Top 3 Probability  Average Rank  \n",
       "0                 3.757              0.178              0.404         5.429  \n",
       "1                37.770              0.167              0.437         4.889  \n",
       "2                58.771              0.255              0.582         3.805  \n",
       "3                 1.653              0.998              1.000         1.004  \n",
       "4                 0.573              0.996              1.000         1.004  \n",
       "5                 6.034              0.195              0.441         5.103  "
      ]
     },
     "execution_count": 35,
     "metadata": {},
     "output_type": "execute_result"
    }
   ],
   "source": [
    "# Store the results\n",
    "store_results('Gradient Boosting', round(rmse_train, 3), round(rmse_test, 3), round(gen_error, 3),\n",
    "                evaluation(gbrt_pred)[0], evaluation(gbrt_pred)[1], evaluation(gbrt_pred)[2])\n",
    "\n",
    "# Print out the results\n",
    "results"
   ]
  },
  {
   "cell_type": "code",
   "execution_count": 36,
   "metadata": {},
   "outputs": [],
   "source": [
    "# Save predictions to csv file\n",
    "gbrt_pred = pd.DataFrame(gbrt_pred)\n",
    "gbrt_pred.to_csv('gbrt_pred.csv', index=False)"
   ]
  },
  {
   "cell_type": "code",
   "execution_count": null,
   "metadata": {},
   "outputs": [],
   "source": []
  }
 ],
 "metadata": {
  "kernelspec": {
   "display_name": "Python 3 (ipykernel)",
   "language": "python",
   "name": "python3"
  },
  "language_info": {
   "codemirror_mode": {
    "name": "ipython",
    "version": 3
   },
   "file_extension": ".py",
   "mimetype": "text/x-python",
   "name": "python",
   "nbconvert_exporter": "python",
   "pygments_lexer": "ipython3",
   "version": "3.9.7"
  },
  "vscode": {
   "interpreter": {
    "hash": "fc902f5f9f1b4ac8244fa2d1a71d10e1bb8b95bd909217946ac119cb82bcf206"
   }
  }
 },
 "nbformat": 4,
 "nbformat_minor": 2
}
