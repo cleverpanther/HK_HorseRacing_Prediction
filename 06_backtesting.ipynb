{
 "cells": [
  {
   "cell_type": "markdown",
   "metadata": {},
   "source": [
    "# Part 6: Horse Race Prediction\n",
    "## Backtesting Strategy Using our ML Models"
   ]
  },
  {
   "cell_type": "markdown",
   "metadata": {},
   "source": [
    "Betting strategy: To place $1 bet for each prediction in each race. If prediction is correct, we will collect $1 x odds. Otherwise, we lose $1\n",
    "\n",
    "The final result is positive if we win some money and negative if we lose."
   ]
  },
  {
   "cell_type": "code",
   "execution_count": 1,
   "metadata": {},
   "outputs": [],
   "source": [
    "import pandas as pd\n",
    "import numpy as np\n",
    "import matplotlib.pyplot as plt\n",
    "import seaborn as sns\n",
    "import pickle\n",
    "\n",
    "# rcParams background color\n",
    "plt.rcParams['figure.facecolor'] = 'white'\n",
    "\n",
    "%matplotlib inline"
   ]
  },
  {
   "cell_type": "code",
   "execution_count": 2,
   "metadata": {},
   "outputs": [
    {
     "data": {
      "text/html": [
       "<div>\n",
       "<style scoped>\n",
       "    .dataframe tbody tr th:only-of-type {\n",
       "        vertical-align: middle;\n",
       "    }\n",
       "\n",
       "    .dataframe tbody tr th {\n",
       "        vertical-align: top;\n",
       "    }\n",
       "\n",
       "    .dataframe thead th {\n",
       "        text-align: right;\n",
       "    }\n",
       "</style>\n",
       "<table border=\"1\" class=\"dataframe\">\n",
       "  <thead>\n",
       "    <tr style=\"text-align: right;\">\n",
       "      <th></th>\n",
       "      <th>finishing_position</th>\n",
       "      <th>horse_number</th>\n",
       "      <th>horse_name</th>\n",
       "      <th>horse_id</th>\n",
       "      <th>jockey</th>\n",
       "      <th>trainer</th>\n",
       "      <th>actual_weight</th>\n",
       "      <th>declared_horse_weight</th>\n",
       "      <th>draw</th>\n",
       "      <th>length_behind_winner</th>\n",
       "      <th>...</th>\n",
       "      <th>running_position_6</th>\n",
       "      <th>race_id</th>\n",
       "      <th>recent_6_runs</th>\n",
       "      <th>recent_ave_rank</th>\n",
       "      <th>race_distance</th>\n",
       "      <th>HorseWin</th>\n",
       "      <th>HorseRankTop3</th>\n",
       "      <th>HorseRankTop50Percent</th>\n",
       "      <th>jockey_ave_rank</th>\n",
       "      <th>trainer_ave_rank</th>\n",
       "    </tr>\n",
       "  </thead>\n",
       "  <tbody>\n",
       "    <tr>\n",
       "      <th>0</th>\n",
       "      <td>1</td>\n",
       "      <td>1.0</td>\n",
       "      <td>DOUBLE DRAGON</td>\n",
       "      <td>K019</td>\n",
       "      <td>B Prebble</td>\n",
       "      <td>D Cruz</td>\n",
       "      <td>133</td>\n",
       "      <td>1032</td>\n",
       "      <td>1</td>\n",
       "      <td>-</td>\n",
       "      <td>...</td>\n",
       "      <td>NaN</td>\n",
       "      <td>2014-001</td>\n",
       "      <td>1</td>\n",
       "      <td>1.0</td>\n",
       "      <td>1400</td>\n",
       "      <td>1</td>\n",
       "      <td>1</td>\n",
       "      <td>1</td>\n",
       "      <td>6.052910</td>\n",
       "      <td>7.381862</td>\n",
       "    </tr>\n",
       "    <tr>\n",
       "      <th>1</th>\n",
       "      <td>2</td>\n",
       "      <td>2.0</td>\n",
       "      <td>PLAIN BLUE BANNER</td>\n",
       "      <td>S070</td>\n",
       "      <td>D Whyte</td>\n",
       "      <td>D E Ferraris</td>\n",
       "      <td>133</td>\n",
       "      <td>1075</td>\n",
       "      <td>13</td>\n",
       "      <td>2</td>\n",
       "      <td>...</td>\n",
       "      <td>NaN</td>\n",
       "      <td>2014-001</td>\n",
       "      <td>2</td>\n",
       "      <td>2.0</td>\n",
       "      <td>1400</td>\n",
       "      <td>0</td>\n",
       "      <td>1</td>\n",
       "      <td>1</td>\n",
       "      <td>5.825153</td>\n",
       "      <td>6.611465</td>\n",
       "    </tr>\n",
       "    <tr>\n",
       "      <th>2</th>\n",
       "      <td>3</td>\n",
       "      <td>10.0</td>\n",
       "      <td>GOLDWEAVER</td>\n",
       "      <td>P072</td>\n",
       "      <td>Y T Cheng</td>\n",
       "      <td>Y S Tsui</td>\n",
       "      <td>121</td>\n",
       "      <td>1065</td>\n",
       "      <td>3</td>\n",
       "      <td>2</td>\n",
       "      <td>...</td>\n",
       "      <td>NaN</td>\n",
       "      <td>2014-001</td>\n",
       "      <td>3</td>\n",
       "      <td>3.0</td>\n",
       "      <td>1400</td>\n",
       "      <td>0</td>\n",
       "      <td>1</td>\n",
       "      <td>1</td>\n",
       "      <td>7.857759</td>\n",
       "      <td>6.888713</td>\n",
       "    </tr>\n",
       "    <tr>\n",
       "      <th>3</th>\n",
       "      <td>4</td>\n",
       "      <td>3.0</td>\n",
       "      <td>SUPREME PROFIT</td>\n",
       "      <td>P230</td>\n",
       "      <td>J Moreira</td>\n",
       "      <td>C S Shum</td>\n",
       "      <td>132</td>\n",
       "      <td>1222</td>\n",
       "      <td>2</td>\n",
       "      <td>2</td>\n",
       "      <td>...</td>\n",
       "      <td>NaN</td>\n",
       "      <td>2014-001</td>\n",
       "      <td>4</td>\n",
       "      <td>4.0</td>\n",
       "      <td>1400</td>\n",
       "      <td>0</td>\n",
       "      <td>0</td>\n",
       "      <td>1</td>\n",
       "      <td>4.179172</td>\n",
       "      <td>6.680328</td>\n",
       "    </tr>\n",
       "    <tr>\n",
       "      <th>4</th>\n",
       "      <td>5</td>\n",
       "      <td>7.0</td>\n",
       "      <td>THE ONLY KID</td>\n",
       "      <td>H173</td>\n",
       "      <td>Z Purton</td>\n",
       "      <td>K W Lui</td>\n",
       "      <td>125</td>\n",
       "      <td>1136</td>\n",
       "      <td>9</td>\n",
       "      <td>4-1/4</td>\n",
       "      <td>...</td>\n",
       "      <td>NaN</td>\n",
       "      <td>2014-001</td>\n",
       "      <td>5</td>\n",
       "      <td>5.0</td>\n",
       "      <td>1400</td>\n",
       "      <td>0</td>\n",
       "      <td>0</td>\n",
       "      <td>1</td>\n",
       "      <td>5.284127</td>\n",
       "      <td>6.903955</td>\n",
       "    </tr>\n",
       "  </tbody>\n",
       "</table>\n",
       "<p>5 rows × 27 columns</p>\n",
       "</div>"
      ],
      "text/plain": [
       "   finishing_position  horse_number         horse_name horse_id     jockey  \\\n",
       "0                   1           1.0      DOUBLE DRAGON     K019  B Prebble   \n",
       "1                   2           2.0  PLAIN BLUE BANNER     S070    D Whyte   \n",
       "2                   3          10.0         GOLDWEAVER     P072  Y T Cheng   \n",
       "3                   4           3.0     SUPREME PROFIT     P230  J Moreira   \n",
       "4                   5           7.0       THE ONLY KID     H173   Z Purton   \n",
       "\n",
       "        trainer  actual_weight  declared_horse_weight  draw  \\\n",
       "0        D Cruz            133                   1032     1   \n",
       "1  D E Ferraris            133                   1075    13   \n",
       "2      Y S Tsui            121                   1065     3   \n",
       "3      C S Shum            132                   1222     2   \n",
       "4       K W Lui            125                   1136     9   \n",
       "\n",
       "  length_behind_winner  ...  running_position_6   race_id  recent_6_runs  \\\n",
       "0                    -  ...                 NaN  2014-001              1   \n",
       "1                    2  ...                 NaN  2014-001              2   \n",
       "2                    2  ...                 NaN  2014-001              3   \n",
       "3                    2  ...                 NaN  2014-001              4   \n",
       "4                4-1/4  ...                 NaN  2014-001              5   \n",
       "\n",
       "   recent_ave_rank race_distance  HorseWin  HorseRankTop3  \\\n",
       "0              1.0          1400         1              1   \n",
       "1              2.0          1400         0              1   \n",
       "2              3.0          1400         0              1   \n",
       "3              4.0          1400         0              0   \n",
       "4              5.0          1400         0              0   \n",
       "\n",
       "   HorseRankTop50Percent jockey_ave_rank trainer_ave_rank  \n",
       "0                      1        6.052910         7.381862  \n",
       "1                      1        5.825153         6.611465  \n",
       "2                      1        7.857759         6.888713  \n",
       "3                      1        4.179172         6.680328  \n",
       "4                      1        5.284127         6.903955  \n",
       "\n",
       "[5 rows x 27 columns]"
      ]
     },
     "execution_count": 2,
     "metadata": {},
     "output_type": "execute_result"
    }
   ],
   "source": [
    "# Read in the train file\n",
    "df_train = pd.read_csv('data/df_train.csv')\n",
    "df_train.reset_index(inplace=True, drop=True)\n",
    "df_train.head()"
   ]
  },
  {
   "cell_type": "code",
   "execution_count": 3,
   "metadata": {},
   "outputs": [
    {
     "data": {
      "text/html": [
       "<div>\n",
       "<style scoped>\n",
       "    .dataframe tbody tr th:only-of-type {\n",
       "        vertical-align: middle;\n",
       "    }\n",
       "\n",
       "    .dataframe tbody tr th {\n",
       "        vertical-align: top;\n",
       "    }\n",
       "\n",
       "    .dataframe thead th {\n",
       "        text-align: right;\n",
       "    }\n",
       "</style>\n",
       "<table border=\"1\" class=\"dataframe\">\n",
       "  <thead>\n",
       "    <tr style=\"text-align: right;\">\n",
       "      <th></th>\n",
       "      <th>finishing_position</th>\n",
       "      <th>horse_number</th>\n",
       "      <th>horse_name</th>\n",
       "      <th>horse_id</th>\n",
       "      <th>jockey</th>\n",
       "      <th>trainer</th>\n",
       "      <th>actual_weight</th>\n",
       "      <th>declared_horse_weight</th>\n",
       "      <th>draw</th>\n",
       "      <th>length_behind_winner</th>\n",
       "      <th>...</th>\n",
       "      <th>running_position_6</th>\n",
       "      <th>race_id</th>\n",
       "      <th>recent_6_runs</th>\n",
       "      <th>recent_ave_rank</th>\n",
       "      <th>race_distance</th>\n",
       "      <th>HorseWin</th>\n",
       "      <th>HorseRankTop3</th>\n",
       "      <th>HorseRankTop50Percent</th>\n",
       "      <th>jockey_ave_rank</th>\n",
       "      <th>trainer_ave_rank</th>\n",
       "    </tr>\n",
       "  </thead>\n",
       "  <tbody>\n",
       "    <tr>\n",
       "      <th>0</th>\n",
       "      <td>1</td>\n",
       "      <td>5.0</td>\n",
       "      <td>POWERMAX</td>\n",
       "      <td>A009</td>\n",
       "      <td>N Callan</td>\n",
       "      <td>R Gibson</td>\n",
       "      <td>126</td>\n",
       "      <td>1124</td>\n",
       "      <td>9</td>\n",
       "      <td>-</td>\n",
       "      <td>...</td>\n",
       "      <td>NaN</td>\n",
       "      <td>2016-328</td>\n",
       "      <td>1/4/3/3</td>\n",
       "      <td>2.750000</td>\n",
       "      <td>1200</td>\n",
       "      <td>1</td>\n",
       "      <td>1</td>\n",
       "      <td>1</td>\n",
       "      <td>6.438751</td>\n",
       "      <td>6.715420</td>\n",
       "    </tr>\n",
       "    <tr>\n",
       "      <th>1</th>\n",
       "      <td>2</td>\n",
       "      <td>2.0</td>\n",
       "      <td>BUDDY BUNDY</td>\n",
       "      <td>T157</td>\n",
       "      <td>K K Chiong</td>\n",
       "      <td>D Cruz</td>\n",
       "      <td>127</td>\n",
       "      <td>1193</td>\n",
       "      <td>8</td>\n",
       "      <td>SH</td>\n",
       "      <td>...</td>\n",
       "      <td>NaN</td>\n",
       "      <td>2016-328</td>\n",
       "      <td>2/11/5/2/6/9</td>\n",
       "      <td>6.812500</td>\n",
       "      <td>1200</td>\n",
       "      <td>0</td>\n",
       "      <td>1</td>\n",
       "      <td>1</td>\n",
       "      <td>6.499033</td>\n",
       "      <td>7.381862</td>\n",
       "    </tr>\n",
       "    <tr>\n",
       "      <th>2</th>\n",
       "      <td>3</td>\n",
       "      <td>3.0</td>\n",
       "      <td>ROYALE ELEGANCE</td>\n",
       "      <td>S098</td>\n",
       "      <td>O Murphy</td>\n",
       "      <td>W Y So</td>\n",
       "      <td>131</td>\n",
       "      <td>1090</td>\n",
       "      <td>1</td>\n",
       "      <td>1/2</td>\n",
       "      <td>...</td>\n",
       "      <td>NaN</td>\n",
       "      <td>2016-328</td>\n",
       "      <td>3/2/4/4/5/7</td>\n",
       "      <td>4.480000</td>\n",
       "      <td>1200</td>\n",
       "      <td>0</td>\n",
       "      <td>1</td>\n",
       "      <td>1</td>\n",
       "      <td>8.103093</td>\n",
       "      <td>7.048587</td>\n",
       "    </tr>\n",
       "    <tr>\n",
       "      <th>3</th>\n",
       "      <td>4</td>\n",
       "      <td>11.0</td>\n",
       "      <td>CONFUCIUS SPIRIT</td>\n",
       "      <td>S329</td>\n",
       "      <td>K Teetan</td>\n",
       "      <td>D E Ferraris</td>\n",
       "      <td>120</td>\n",
       "      <td>1073</td>\n",
       "      <td>2</td>\n",
       "      <td>1-1/4</td>\n",
       "      <td>...</td>\n",
       "      <td>NaN</td>\n",
       "      <td>2016-328</td>\n",
       "      <td>4/3/5/8/2/4</td>\n",
       "      <td>6.484848</td>\n",
       "      <td>1200</td>\n",
       "      <td>0</td>\n",
       "      <td>0</td>\n",
       "      <td>1</td>\n",
       "      <td>6.691367</td>\n",
       "      <td>6.611465</td>\n",
       "    </tr>\n",
       "    <tr>\n",
       "      <th>4</th>\n",
       "      <td>5</td>\n",
       "      <td>10.0</td>\n",
       "      <td>STARLIGHT</td>\n",
       "      <td>V273</td>\n",
       "      <td>Z Purton</td>\n",
       "      <td>C H Yip</td>\n",
       "      <td>122</td>\n",
       "      <td>1056</td>\n",
       "      <td>12</td>\n",
       "      <td>1-1/4</td>\n",
       "      <td>...</td>\n",
       "      <td>NaN</td>\n",
       "      <td>2016-328</td>\n",
       "      <td>5/6/14/12</td>\n",
       "      <td>9.250000</td>\n",
       "      <td>1200</td>\n",
       "      <td>0</td>\n",
       "      <td>0</td>\n",
       "      <td>1</td>\n",
       "      <td>5.284127</td>\n",
       "      <td>7.177492</td>\n",
       "    </tr>\n",
       "  </tbody>\n",
       "</table>\n",
       "<p>5 rows × 27 columns</p>\n",
       "</div>"
      ],
      "text/plain": [
       "   finishing_position  horse_number        horse_name horse_id      jockey  \\\n",
       "0                   1           5.0          POWERMAX     A009    N Callan   \n",
       "1                   2           2.0       BUDDY BUNDY     T157  K K Chiong   \n",
       "2                   3           3.0   ROYALE ELEGANCE     S098    O Murphy   \n",
       "3                   4          11.0  CONFUCIUS SPIRIT     S329    K Teetan   \n",
       "4                   5          10.0         STARLIGHT     V273    Z Purton   \n",
       "\n",
       "        trainer  actual_weight  declared_horse_weight  draw  \\\n",
       "0      R Gibson            126                   1124     9   \n",
       "1        D Cruz            127                   1193     8   \n",
       "2        W Y So            131                   1090     1   \n",
       "3  D E Ferraris            120                   1073     2   \n",
       "4       C H Yip            122                   1056    12   \n",
       "\n",
       "  length_behind_winner  ...  running_position_6   race_id  recent_6_runs  \\\n",
       "0                    -  ...                 NaN  2016-328        1/4/3/3   \n",
       "1                   SH  ...                 NaN  2016-328   2/11/5/2/6/9   \n",
       "2                  1/2  ...                 NaN  2016-328    3/2/4/4/5/7   \n",
       "3                1-1/4  ...                 NaN  2016-328    4/3/5/8/2/4   \n",
       "4                1-1/4  ...                 NaN  2016-328      5/6/14/12   \n",
       "\n",
       "   recent_ave_rank race_distance  HorseWin  HorseRankTop3  \\\n",
       "0         2.750000          1200         1              1   \n",
       "1         6.812500          1200         0              1   \n",
       "2         4.480000          1200         0              1   \n",
       "3         6.484848          1200         0              0   \n",
       "4         9.250000          1200         0              0   \n",
       "\n",
       "   HorseRankTop50Percent jockey_ave_rank trainer_ave_rank  \n",
       "0                      1        6.438751         6.715420  \n",
       "1                      1        6.499033         7.381862  \n",
       "2                      1        8.103093         7.048587  \n",
       "3                      1        6.691367         6.611465  \n",
       "4                      1        5.284127         7.177492  \n",
       "\n",
       "[5 rows x 27 columns]"
      ]
     },
     "execution_count": 3,
     "metadata": {},
     "output_type": "execute_result"
    }
   ],
   "source": [
    "# Read in the test file\n",
    "df_test = pd.read_csv('./data/df_test.csv')\n",
    "df_test.reset_index(inplace=True, drop=True)\n",
    "df_test.head()"
   ]
  },
  {
   "cell_type": "code",
   "execution_count": 4,
   "metadata": {},
   "outputs": [
    {
     "data": {
      "text/plain": [
       "Index(['finishing_position', 'horse_number', 'horse_name', 'horse_id',\n",
       "       'jockey', 'trainer', 'actual_weight', 'declared_horse_weight', 'draw',\n",
       "       'length_behind_winner', 'running_position_1', 'running_position_2',\n",
       "       'running_position_3', 'running_position_4', 'finish_time', 'win_odds',\n",
       "       'running_position_5', 'running_position_6', 'race_id', 'recent_6_runs',\n",
       "       'recent_ave_rank', 'race_distance', 'HorseWin', 'HorseRankTop3',\n",
       "       'HorseRankTop50Percent', 'jockey_ave_rank', 'trainer_ave_rank'],\n",
       "      dtype='object')"
      ]
     },
     "execution_count": 4,
     "metadata": {},
     "output_type": "execute_result"
    }
   ],
   "source": [
    "df_test.columns"
   ]
  },
  {
   "cell_type": "code",
   "execution_count": 5,
   "metadata": {},
   "outputs": [],
   "source": [
    "# Read in our 4 classification predictions\n",
    "lr_pred = pd.read_csv('./predictions/lr_pred.csv')\n",
    "gnb_pred = pd.read_csv('./predictions/gnb_pred.csv')\n",
    "rfc_pred = pd.read_csv('./predictions/rfc_pred.csv')\n",
    "smote_rfc_pred = pd.read_csv('./predictions/smote_rfc_pred.csv')"
   ]
  },
  {
   "cell_type": "code",
   "execution_count": 6,
   "metadata": {},
   "outputs": [],
   "source": [
    "# Read in our 4 regression predictions\n",
    "ridge_pred = pd.read_csv('./predictions/ridge_pred.csv')\n",
    "knn_pred = pd.read_csv('./predictions/knn_pred.csv')\n",
    "rf_pred = pd.read_csv('./predictions/rf_pred.csv')\n",
    "lgbm_pred = pd.read_csv('./predictions/lgbm_pred.csv')"
   ]
  },
  {
   "cell_type": "markdown",
   "metadata": {},
   "source": [
    "### Baseline Case: Bet on horse with the lowest odds"
   ]
  },
  {
   "cell_type": "code",
   "execution_count": 7,
   "metadata": {},
   "outputs": [
    {
     "data": {
      "text/plain": [
       "4951"
      ]
     },
     "execution_count": 7,
     "metadata": {},
     "output_type": "execute_result"
    }
   ],
   "source": [
    "df_test['win_odds'].sort_values(ascending=True).index[0]"
   ]
  },
  {
   "cell_type": "code",
   "execution_count": 8,
   "metadata": {},
   "outputs": [],
   "source": [
    "# Check on baseline case where we just bet on the horse with the lowest odds\n",
    "# Test on the df_train and df_test dataframes\n",
    "\n",
    "def buy_lowest_odds(df, best_odds, graph=True):\n",
    "\n",
    "    money=0\n",
    "    bets_made=[]\n",
    "    cumulative_money=[]\n",
    "\n",
    "    for race_id in df['race_id'].unique():\n",
    "        # Make a temporary dataframe\n",
    "        df_temp = df[df['race_id'] == race_id]\n",
    "\n",
    "        # Find the index with the lowest odds\n",
    "        idx = df_temp['win_odds'].sort_values(ascending=True)[:best_odds].index\n",
    "\n",
    "        bet_counter=0\n",
    "\n",
    "        for i in idx:\n",
    "            # If the horse wins, add the win_odds to the money\n",
    "            if df_temp['finishing_position'][i] == 1:\n",
    "                money += (df_temp['win_odds'][i] - 1)\n",
    "                bet_counter += 1\n",
    "                cumulative_money.append(money)\n",
    "            else:\n",
    "                money += -1\n",
    "                bet_counter += 1\n",
    "                cumulative_money.append(money)\n",
    "\n",
    "        bets_made.append(bet_counter)    \n",
    "\n",
    "    if graph==True: \n",
    "        # Plot the cumulative money\n",
    "        plt.figure(figsize=(10, 6))\n",
    "        plt.plot(cumulative_money)\n",
    "        plt.axhline(y=0, color='r', linestyle='-')\n",
    "        plt.title('Cumulative Money for Every $1 Bet')\n",
    "        plt.xlabel('Bets Made')\n",
    "        plt.ylabel('Cumulative Money')\n",
    "        plt.show()\n",
    "\n",
    "        # Plot the bets made\n",
    "        plt.figure(figsize=(10, 6))\n",
    "        plt.plot(bets_made)\n",
    "        plt.title('Total Bets Made')\n",
    "        plt.show()\n",
    "        \n",
    "    # Print the final money and bets made\n",
    "    print('Final Money made from Baseline: ', round(money,3))\n",
    "    print('Total Bets Made: ', round(sum(bets_made),3))"
   ]
  },
  {
   "cell_type": "code",
   "execution_count": 9,
   "metadata": {},
   "outputs": [
    {
     "name": "stdout",
     "output_type": "stream",
     "text": [
      "Final Money made from Baseline:  -167.5\n",
      "Total Bets Made:  1887\n"
     ]
    }
   ],
   "source": [
    "buy_lowest_odds(df_train, 1, False)"
   ]
  },
  {
   "cell_type": "code",
   "execution_count": 10,
   "metadata": {},
   "outputs": [
    {
     "data": {
      "image/png": "[encoded data removed]",
      "text/plain": [
       "<Figure size 720x432 with 1 Axes>"
      ]
     },
     "metadata": {
      "needs_background": "light"
     },
     "output_type": "display_data"
    },
    {
     "data": {
      "image/png": "[encoded data removed]",
      "text/plain": [
       "<Figure size 720x432 with 1 Axes>"
      ]
     },
     "metadata": {
      "needs_background": "light"
     },
     "output_type": "display_data"
    },
    {
     "name": "stdout",
     "output_type": "stream",
     "text": [
      "Final Money made from Baseline:  -89.8\n",
      "Total Bets Made:  480\n"
     ]
    }
   ],
   "source": [
    "buy_lowest_odds(df_test, 1, True)"
   ]
  },
  {
   "cell_type": "code",
   "execution_count": 11,
   "metadata": {},
   "outputs": [
    {
     "name": "stdout",
     "output_type": "stream",
     "text": [
      "Final Money made from Baseline:  -760.8\n",
      "Total Bets Made:  5661\n"
     ]
    }
   ],
   "source": [
    "buy_lowest_odds(df_train, 3, False)"
   ]
  },
  {
   "cell_type": "code",
   "execution_count": 12,
   "metadata": {},
   "outputs": [
    {
     "name": "stdout",
     "output_type": "stream",
     "text": [
      "Final Money made from Baseline:  -153.0\n",
      "Total Bets Made:  1440\n"
     ]
    }
   ],
   "source": [
    "buy_lowest_odds(df_test, 3, False)"
   ]
  },
  {
   "cell_type": "markdown",
   "metadata": {},
   "source": [
    "### Strategy 1: Buy Top Prediction\n",
    "- If top horse prediction is 1, we make a bet, else we don't."
   ]
  },
  {
   "cell_type": "code",
   "execution_count": 13,
   "metadata": {},
   "outputs": [],
   "source": [
    "# Define a function to backtest the betting strategy\n",
    "def simple_class_strategy(model_pred, graph=True):\n",
    "\n",
    "    df_test_results = df_test[['finishing_position', 'win_odds', 'race_id', \n",
    "                               'HorseWin', 'horse_id']]\n",
    "\n",
    "    # rename columns\n",
    "    df_test_results = df_test_results.rename(columns={'race_id': 'RaceID', \n",
    "                                                    'horse_id': 'HorseID', \n",
    "                                                    'HorseWin':'ActualWin'})\n",
    "    \n",
    "    # merge the prediction with the test data\n",
    "    df_backtest = pd.merge(model_pred, df_test_results, on=('RaceID', 'HorseID'), how='left')\n",
    "\n",
    "    money = 0\n",
    "    bets_made = []\n",
    "    cumulative_money = [0]\n",
    "\n",
    "    for race_id in df_backtest['RaceID'].unique():\n",
    "\n",
    "        # make a temporary dataframe one for that particular race\n",
    "        temp_df = df_backtest[df_backtest['RaceID']==race_id]\n",
    "\n",
    "        # find out the bets we made\n",
    "        bets = temp_df[temp_df['HorseWin']==1]\n",
    "\n",
    "        # deduct money for bets we made\n",
    "        deduction  = -len(bets)\n",
    "\n",
    "        # amount won from bets\n",
    "        # sum of multiplying the odds with the prediction\n",
    "        amount_won = sum(bets['win_odds']*bets['ActualWin'])\n",
    "        \n",
    "        # add the amount won to the money\n",
    "        money += (amount_won + deduction)\n",
    "\n",
    "        # append the money to the cumulative money list\n",
    "        cumulative_money.append(money)\n",
    "\n",
    "        # append the bets made to the bets made list\n",
    "        bets_made.append(len(bets))\n",
    "    \n",
    "    if graph==True:\n",
    "        # plot the cumulative money\n",
    "        plt.figure(figsize=(10, 6))\n",
    "        plt.plot(cumulative_money)\n",
    "        plt.axhline(y=0, color='r', linestyle='-')\n",
    "        plt.title('Cumulative Money for Every $1 Bet')\n",
    "        plt.xlabel('Bets Made')\n",
    "        plt.ylabel('Cumulative Money')\n",
    "        plt.show()\n",
    "\n",
    "        # plot the bets made\n",
    "        plt.figure(figsize=(10, 6))\n",
    "        plt.plot(bets_made)\n",
    "        plt.title('Bets Made')\n",
    "        plt.show()\n",
    "\n",
    "    # print the final money and bets made\n",
    "    print('Final Money: ', round(money, 3))\n",
    "    print('Total Bets Made: ', round(sum(bets_made),3), '\\n')\n",
    "\n",
    "    return money, bets_made"
   ]
  },
  {
   "cell_type": "markdown",
   "metadata": {},
   "source": [
    "### Strategy 2: Buy Fastest Timing\n",
    "- We bet on the horse with the fastest predicted timing."
   ]
  },
  {
   "cell_type": "code",
   "execution_count": 14,
   "metadata": {},
   "outputs": [],
   "source": [
    "# define regression backtest function\n",
    "def simple_reg_strategy(model_pred, graph=True):\n",
    "        \n",
    "        df_test_results = df_test[['finishing_position', 'win_odds', 'race_id', 'HorseWin', 'horse_id']]\n",
    "\n",
    "        # rename columns\n",
    "        df_test_results = df_test_results.rename(columns={'race_id': 'RaceID', \n",
    "                                                        'horse_id': 'HorseID', \n",
    "                                                        'HorseWin':'ActualWin'})\n",
    "        \n",
    "        # merge the prediction with the test data\n",
    "        df_test_results['pred_time'] = model_pred['0']\n",
    "\n",
    "        money = 0\n",
    "        bets_made = []\n",
    "        cumulative_money = [0]\n",
    "\n",
    "        for race_id in df_test_results['RaceID'].unique():\n",
    "\n",
    "                # make a temporary dataframe one for that particular race\n",
    "                temp_df = df_test_results[df_test_results['RaceID']==race_id]\n",
    "\n",
    "                # bet only on the horse with the fastest time\n",
    "                # return dataframe where the time is the minimum\n",
    "                bets = temp_df[temp_df['pred_time']==temp_df['pred_time'].min()]\n",
    "\n",
    "                # deduct money for bets we made\n",
    "                deduction  = -len(bets)\n",
    "\n",
    "                # amount won from bets\n",
    "                # sum of multiplying the odds with the prediction\n",
    "                amount_won = sum(bets['win_odds']*bets['ActualWin'])\n",
    "                \n",
    "                # add the amount won to the money\n",
    "                money += (amount_won + deduction)\n",
    "\n",
    "                # append the money to the cumulative money list\n",
    "                cumulative_money.append(money)\n",
    "\n",
    "                # append the bets made to the bets made list\n",
    "                bets_made.append(len(bets))\n",
    "        \n",
    "        if graph==True:\n",
    "                # plot the cumulative money\n",
    "                plt.figure(figsize=(10, 6))\n",
    "                plt.plot(cumulative_money)\n",
    "                plt.axhline(y=0, color='r', linestyle='-')\n",
    "                plt.title('Cumulative Money for Every $1 Bet')\n",
    "                plt.xlabel('Bets Made')\n",
    "                plt.ylabel('Cumulative Money')\n",
    "                plt.show()\n",
    "\n",
    "                # plot the bets made\n",
    "                plt.figure(figsize=(10, 6))\n",
    "                plt.plot(bets_made)\n",
    "                plt.title('Bets Made')\n",
    "                plt.show()\n",
    "\n",
    "        # print the final money and bets made\n",
    "        print('Final Money: ', round(money, 3))\n",
    "        print('Total Bets Made: ', round(sum(bets_made),3), '\\n')\n",
    "\n",
    "        return money, bets_made\n",
    "                "
   ]
  },
  {
   "cell_type": "markdown",
   "metadata": {},
   "source": [
    "### Strategy 3: Buy Top 3 Predictions\n",
    "- We bet on the top 3 horses with the highest probability of winning"
   ]
  },
  {
   "cell_type": "code",
   "execution_count": 15,
   "metadata": {},
   "outputs": [],
   "source": [
    "# Define a function to backtest the betting strategy\n",
    "def top3_strategy(model_pred, graph=True):\n",
    "\n",
    "    df_test_results = df_test[['finishing_position', 'win_odds', 'race_id', \n",
    "                               'HorseWin', 'horse_id']]\n",
    "\n",
    "    # rename columns\n",
    "    df_test_results = df_test_results.rename(columns={'race_id': 'RaceID', \n",
    "                                                    'horse_id': 'HorseID', \n",
    "                                                    'HorseWin':'ActualWin'})\n",
    "    \n",
    "    # merge the prediction with the test data\n",
    "    df_backtest = pd.merge(model_pred, df_test_results, on=('RaceID', 'HorseID'), how='left')\n",
    "\n",
    "    money = 0\n",
    "    bets_made = []\n",
    "    cumulative_money = [0]\n",
    "\n",
    "    for race_id in df_backtest['RaceID'].unique():\n",
    "\n",
    "        # make a temporary dataframe one for that particular race\n",
    "        temp_df = df_backtest[df_backtest['RaceID']==race_id]\n",
    "\n",
    "        # find out the bets we made\n",
    "        bets = temp_df[temp_df['HorseRankTop3']==1]\n",
    "\n",
    "        # deduct money for bets we made\n",
    "        deduction  = -len(bets)\n",
    "\n",
    "        # amount won from bets\n",
    "        # sum of multiplying the odds with the prediction\n",
    "        amount_won = sum(bets['win_odds']*bets['ActualWin'])\n",
    "        \n",
    "        # add the amount won to the money\n",
    "        money += (amount_won + deduction)\n",
    "\n",
    "        # append the money to the cumulative money list\n",
    "        cumulative_money.append(money)\n",
    "\n",
    "        # append the bets made to the bets made list\n",
    "        bets_made.append(len(bets))\n",
    "    \n",
    "    if graph==True:\n",
    "        # plot the cumulative money\n",
    "        plt.figure(figsize=(10, 6))\n",
    "        plt.plot(cumulative_money)\n",
    "        plt.axhline(y=0, color='r', linestyle='-')\n",
    "        plt.title('Cumulative Money for Every $1 Bet')\n",
    "        plt.xlabel('Bets Made')\n",
    "        plt.ylabel('Cumulative Money')\n",
    "        plt.show()\n",
    "\n",
    "        # plot the bets made\n",
    "        plt.figure(figsize=(10, 6))\n",
    "        plt.plot(bets_made)\n",
    "        plt.title('Bets Made')\n",
    "        plt.show()\n",
    "\n",
    "    # print the final money and bets made\n",
    "    print('Final Money: ', round(money, 3))\n",
    "    print('Total Bets Made: ', round(sum(bets_made),3), '\\n')\n",
    "\n",
    "    return money, bets_made"
   ]
  },
  {
   "cell_type": "markdown",
   "metadata": {},
   "source": [
    "### Strategy 4: Buy Only Fast and Good\n",
    "- We bet on the horse that is predicted to be in the top 1, top 3 and has the best timing."
   ]
  },
  {
   "cell_type": "code",
   "execution_count": 16,
   "metadata": {},
   "outputs": [],
   "source": [
    "# Define a function to backtest the betting strategy\n",
    "def hybrid_strategy(class_pred, reg_pred, graph=True):\n",
    "\n",
    "    df_test_results = df_test[['finishing_position', 'win_odds', 'race_id', \n",
    "                               'HorseWin', 'horse_id']]\n",
    "\n",
    "    # rename columns\n",
    "    df_test_results = df_test_results.rename(columns={'race_id': 'RaceID', \n",
    "                                                    'horse_id': 'HorseID', \n",
    "                                                    'HorseWin':'ActualWin'})\n",
    "    \n",
    "    # merge the prediction with the test data\n",
    "    df_hybrid = pd.merge(class_pred, df_test_results, on=('RaceID', 'HorseID'), how='left')\n",
    "    df_hybrid['pred_time'] = reg_pred['0']\n",
    "\n",
    "    money = 0\n",
    "    bets_made = []\n",
    "    cumulative_money = [0]\n",
    "\n",
    "    for race_id in df_hybrid['RaceID'].unique():\n",
    "\n",
    "        # make a temporary dataframe one for that particular race\n",
    "        temp_df = df_hybrid[df_hybrid['RaceID']==race_id]\n",
    "\n",
    "        # find out the bets we made\n",
    "        top_filter = temp_df['HorseWin']==1\n",
    "        top3_filter = temp_df['HorseRankTop3']==1\n",
    "        time_filter = temp_df['pred_time']==temp_df['pred_time'].min()\n",
    "\n",
    "        bets = temp_df[(top_filter) & (top3_filter) & (time_filter)]\n",
    "\n",
    "        # deduct money for bets we made\n",
    "        deduction  = -len(bets)\n",
    "\n",
    "        # amount won from bets\n",
    "        # sum of multiplying the odds with the prediction\n",
    "        amount_won = sum(bets['win_odds']*bets['ActualWin'])\n",
    "        \n",
    "        # add the amount won to the money\n",
    "        money += (amount_won + deduction)\n",
    "\n",
    "        # append the money to the cumulative money list\n",
    "        cumulative_money.append(money)\n",
    "\n",
    "        # append the bets made to the bets made list\n",
    "        bets_made.append(len(bets))\n",
    "    \n",
    "    if graph==True:\n",
    "        # plot the cumulative money\n",
    "        plt.figure(figsize=(10, 6))\n",
    "        plt.plot(cumulative_money)\n",
    "        plt.axhline(y=0, color='r', linestyle='-')\n",
    "        plt.title('Cumulative Money for Every $1 Bet')\n",
    "        plt.xlabel('Bets Made')\n",
    "        plt.ylabel('Cumulative Money')\n",
    "        plt.show()\n",
    "\n",
    "        # plot the bets made\n",
    "        plt.figure(figsize=(10, 6))\n",
    "        plt.plot(bets_made)\n",
    "        plt.title('Bets Made')\n",
    "        plt.show()\n",
    "\n",
    "    # print the final money and bets made\n",
    "    print('Final Money: ', round(money, 3))\n",
    "    print('Total Bets Made: ', round(sum(bets_made),3), '\\n')\n",
    "\n",
    "    return money, bets_made"
   ]
  },
  {
   "cell_type": "markdown",
   "metadata": {},
   "source": [
    "### Run Strategy 1"
   ]
  },
  {
   "cell_type": "code",
   "execution_count": 17,
   "metadata": {},
   "outputs": [],
   "source": [
    "class_pred_dict = {'Logistic Regression': lr_pred, \n",
    "                    'Gaussian Naive Bayes': gnb_pred,\n",
    "                    'Random Forest Classifier': rfc_pred,\n",
    "                    'SMOTE + RF': smote_rfc_pred}\n",
    "\n",
    "reg_pred_dict = {'Ridge Regression': ridge_pred,\n",
    "                'KNN Regression': knn_pred,\n",
    "                'Random Forest Regressor': rf_pred,\n",
    "                'LGBM': lgbm_pred}"
   ]
  },
  {
   "cell_type": "code",
   "execution_count": 18,
   "metadata": {},
   "outputs": [
    {
     "name": "stdout",
     "output_type": "stream",
     "text": [
      "Logistic Regression\n",
      "Final Money:  23.0\n",
      "Total Bets Made:  32 \n",
      "\n",
      "Gaussian Naive Bayes\n",
      "Final Money:  10.7\n",
      "Total Bets Made:  177 \n",
      "\n",
      "Random Forest Classifier\n",
      "Final Money:  268.1\n",
      "Total Bets Made:  68 \n",
      "\n",
      "SMOTE + RF\n",
      "Final Money:  375.2\n",
      "Total Bets Made:  743 \n",
      "\n"
     ]
    }
   ],
   "source": [
    "# Create a dataframe to store the results\n",
    "strat1_results = pd.DataFrame(columns=['Model', 'Money', 'Bets Made'])\n",
    "\n",
    "for model_name, class_model in class_pred_dict.items():\n",
    "\n",
    "        # Print the model name\n",
    "        print(model_name)\n",
    "\n",
    "        # change False to True if you want to view the graph\n",
    "        money, bets = simple_class_strategy(class_model, graph=False)\n",
    "\n",
    "        # Append the results to the dataframe\n",
    "        strat1_results.loc[len(strat1_results)] = [model_name, money, sum(bets)]"
   ]
  },
  {
   "cell_type": "code",
   "execution_count": 19,
   "metadata": {},
   "outputs": [
    {
     "name": "stdout",
     "output_type": "stream",
     "text": [
      "Ridge Regression\n"
     ]
    },
    {
     "data": {
      "image/png": "[encoded data removed]",
      "text/plain": [
       "<Figure size 720x432 with 1 Axes>"
      ]
     },
     "metadata": {
      "needs_background": "light"
     },
     "output_type": "display_data"
    },
    {
     "data": {
      "image/png": "[encoded data removed]",
      "text/plain": [
       "<Figure size 720x432 with 1 Axes>"
      ]
     },
     "metadata": {
      "needs_background": "light"
     },
     "output_type": "display_data"
    },
    {
     "name": "stdout",
     "output_type": "stream",
     "text": [
      "Final Money:  360.4\n",
      "Total Bets Made:  480 \n",
      "\n",
      "KNN Regression\n"
     ]
    },
    {
     "data": {
      "image/png": "[encoded data removed]",
      "text/plain": [
       "<Figure size 720x432 with 1 Axes>"
      ]
     },
     "metadata": {
      "needs_background": "light"
     },
     "output_type": "display_data"
    },
    {
     "data": {
      "image/png": "[encoded data removed]",
      "text/plain": [
       "<Figure size 720x432 with 1 Axes>"
      ]
     },
     "metadata": {
      "needs_background": "light"
     },
     "output_type": "display_data"
    },
    {
     "name": "stdout",
     "output_type": "stream",
     "text": [
      "Final Money:  237.6\n",
      "Total Bets Made:  480 \n",
      "\n",
      "Random Forest Regressor\n"
     ]
    },
    {
     "data": {
      "image/png": "[encoded data removed]",
      "text/plain": [
       "<Figure size 720x432 with 1 Axes>"
      ]
     },
     "metadata": {
      "needs_background": "light"
     },
     "output_type": "display_data"
    },
    {
     "data": {
      "image/png": "[encoded data removed]",
      "text/plain": [
       "<Figure size 720x432 with 1 Axes>"
      ]
     },
     "metadata": {
      "needs_background": "light"
     },
     "output_type": "display_data"
    },
    {
     "name": "stdout",
     "output_type": "stream",
     "text": [
      "Final Money:  -48.1\n",
      "Total Bets Made:  542 \n",
      "\n",
      "LGBM\n"
     ]
    },
    {
     "data": {
      "image/png": "[encoded data removed]",
      "text/plain": [
       "<Figure size 720x432 with 1 Axes>"
      ]
     },
     "metadata": {
      "needs_background": "light"
     },
     "output_type": "display_data"
    },
    {
     "data": {
      "image/png": "[encoded data removed]",
      "text/plain": [
       "<Figure size 720x432 with 1 Axes>"
      ]
     },
     "metadata": {
      "needs_background": "light"
     },
     "output_type": "display_data"
    },
    {
     "name": "stdout",
     "output_type": "stream",
     "text": [
      "Final Money:  307.3\n",
      "Total Bets Made:  617 \n",
      "\n"
     ]
    }
   ],
   "source": [
    "# Create a dataframe to store the results\n",
    "strat2_results = pd.DataFrame(columns=['Model', 'Money', 'Bets Made'])\n",
    "\n",
    "for model_name, reg_model in reg_pred_dict.items():\n",
    "\n",
    "        # Print the model name\n",
    "        print(model_name)\n",
    "\n",
    "        # change False to True if you want to view the graph\n",
    "        money, bets = simple_reg_strategy(reg_model, graph = True)\n",
    "\n",
    "        # Append the results to the dataframe\n",
    "        strat2_results.loc[len(strat2_results)] = [model_name, money, sum(bets)]"
   ]
  },
  {
   "cell_type": "code",
   "execution_count": 20,
   "metadata": {},
   "outputs": [
    {
     "name": "stdout",
     "output_type": "stream",
     "text": [
      "Final Money:  172.8\n",
      "Total Bets Made:  550 \n",
      "\n",
      "Final Money:  137.4\n",
      "Total Bets Made:  939 \n",
      "\n",
      "Final Money:  237.1\n",
      "Total Bets Made:  599 \n",
      "\n",
      "Final Money:  225.2\n",
      "Total Bets Made:  1728 \n",
      "\n"
     ]
    }
   ],
   "source": [
    "# Create a dataframe to store the results\n",
    "strat3_results = pd.DataFrame(columns=['Model', 'Money', 'Bets Made'])\n",
    "\n",
    "for model_name, class_model in class_pred_dict.items():\n",
    "\n",
    "        # change False to True if you want to view the graph\n",
    "        money, bets = top3_strategy(class_model, graph = False)\n",
    "\n",
    "        # Append the results to the dataframe\n",
    "        strat3_results.loc[len(strat3_results)] = [model_name, money, sum(bets)]"
   ]
  },
  {
   "cell_type": "code",
   "execution_count": 21,
   "metadata": {},
   "outputs": [
    {
     "name": "stdout",
     "output_type": "stream",
     "text": [
      "('Logistic Regression', 'Ridge Regression')\n",
      "Final Money:  16.9\n",
      "Total Bets Made:  20 \n",
      "\n",
      "('Logistic Regression', 'KNN Regression')\n",
      "Final Money:  8.6\n",
      "Total Bets Made:  11 \n",
      "\n",
      "('Logistic Regression', 'Random Forest Regressor')\n",
      "Final Money:  1.7\n",
      "Total Bets Made:  9 \n",
      "\n",
      "('Logistic Regression', 'LGBM')\n",
      "Final Money:  19.4\n",
      "Total Bets Made:  28 \n",
      "\n",
      "('Gaussian Naive Bayes', 'Ridge Regression')\n",
      "Final Money:  16.5\n",
      "Total Bets Made:  72 \n",
      "\n",
      "('Gaussian Naive Bayes', 'KNN Regression')\n",
      "Final Money:  8.4\n",
      "Total Bets Made:  62 \n",
      "\n",
      "('Gaussian Naive Bayes', 'Random Forest Regressor')\n",
      "Final Money:  -2.4\n",
      "Total Bets Made:  60 \n",
      "\n",
      "('Gaussian Naive Bayes', 'LGBM')\n",
      "Final Money:  3.1\n",
      "Total Bets Made:  116 \n",
      "\n",
      "('Random Forest Classifier', 'Ridge Regression')\n",
      "Final Money:  232.1\n",
      "Total Bets Made:  32 \n",
      "\n",
      "('Random Forest Classifier', 'KNN Regression')\n",
      "Final Money:  116.9\n",
      "Total Bets Made:  19 \n",
      "\n",
      "('Random Forest Classifier', 'Random Forest Regressor')\n",
      "Final Money:  7.6\n",
      "Total Bets Made:  18 \n",
      "\n",
      "('Random Forest Classifier', 'LGBM')\n",
      "Final Money:  261.1\n",
      "Total Bets Made:  54 \n",
      "\n",
      "('SMOTE + RF', 'Ridge Regression')\n",
      "Final Money:  302.3\n",
      "Total Bets Made:  155 \n",
      "\n",
      "('SMOTE + RF', 'KNN Regression')\n",
      "Final Money:  171.6\n",
      "Total Bets Made:  91 \n",
      "\n",
      "('SMOTE + RF', 'Random Forest Regressor')\n",
      "Final Money:  20.6\n",
      "Total Bets Made:  140 \n",
      "\n",
      "('SMOTE + RF', 'LGBM')\n",
      "Final Money:  307.6\n",
      "Total Bets Made:  231 \n",
      "\n"
     ]
    }
   ],
   "source": [
    "# Create a dataframe to store the results\n",
    "strat4_results = pd.DataFrame(columns=['Model', 'Money', 'Bets Made'])\n",
    "\n",
    "for model_name1, model1 in class_pred_dict.items():\n",
    "    for model_name2, model2 in reg_pred_dict.items():\n",
    "        combo_model = model_name1, model_name2\n",
    "\n",
    "        # Print the combo model name\n",
    "        print(combo_model)\n",
    "\n",
    "        # change False to True if you want to view the graph\n",
    "        money, bets = hybrid_strategy(model1, model2, graph = False)\n",
    "\n",
    "        # Append the results to the dataframe\n",
    "        strat4_results.loc[len(strat4_results)] = [combo_model, money, sum(bets)]"
   ]
  },
  {
   "cell_type": "markdown",
   "metadata": {},
   "source": [
    "### View the results"
   ]
  },
  {
   "cell_type": "code",
   "execution_count": 22,
   "metadata": {},
   "outputs": [
    {
     "data": {
      "text/html": [
       "<div>\n",
       "<style scoped>\n",
       "    .dataframe tbody tr th:only-of-type {\n",
       "        vertical-align: middle;\n",
       "    }\n",
       "\n",
       "    .dataframe tbody tr th {\n",
       "        vertical-align: top;\n",
       "    }\n",
       "\n",
       "    .dataframe thead th {\n",
       "        text-align: right;\n",
       "    }\n",
       "</style>\n",
       "<table border=\"1\" class=\"dataframe\">\n",
       "  <thead>\n",
       "    <tr style=\"text-align: right;\">\n",
       "      <th></th>\n",
       "      <th>Model</th>\n",
       "      <th>Money</th>\n",
       "      <th>Bets Made</th>\n",
       "    </tr>\n",
       "  </thead>\n",
       "  <tbody>\n",
       "    <tr>\n",
       "      <th>3</th>\n",
       "      <td>SMOTE + RF</td>\n",
       "      <td>375.2</td>\n",
       "      <td>743</td>\n",
       "    </tr>\n",
       "    <tr>\n",
       "      <th>2</th>\n",
       "      <td>Random Forest Classifier</td>\n",
       "      <td>268.1</td>\n",
       "      <td>68</td>\n",
       "    </tr>\n",
       "    <tr>\n",
       "      <th>0</th>\n",
       "      <td>Logistic Regression</td>\n",
       "      <td>23.0</td>\n",
       "      <td>32</td>\n",
       "    </tr>\n",
       "    <tr>\n",
       "      <th>1</th>\n",
       "      <td>Gaussian Naive Bayes</td>\n",
       "      <td>10.7</td>\n",
       "      <td>177</td>\n",
       "    </tr>\n",
       "  </tbody>\n",
       "</table>\n",
       "</div>"
      ],
      "text/plain": [
       "                      Model  Money Bets Made\n",
       "3                SMOTE + RF  375.2       743\n",
       "2  Random Forest Classifier  268.1        68\n",
       "0       Logistic Regression   23.0        32\n",
       "1      Gaussian Naive Bayes   10.7       177"
      ]
     },
     "execution_count": 22,
     "metadata": {},
     "output_type": "execute_result"
    }
   ],
   "source": [
    "# Print Strategy 1 Results\n",
    "strat1_results.sort_values(by='Money', ascending=False)"
   ]
  },
  {
   "cell_type": "code",
   "execution_count": 23,
   "metadata": {},
   "outputs": [
    {
     "data": {
      "text/html": [
       "<div>\n",
       "<style scoped>\n",
       "    .dataframe tbody tr th:only-of-type {\n",
       "        vertical-align: middle;\n",
       "    }\n",
       "\n",
       "    .dataframe tbody tr th {\n",
       "        vertical-align: top;\n",
       "    }\n",
       "\n",
       "    .dataframe thead th {\n",
       "        text-align: right;\n",
       "    }\n",
       "</style>\n",
       "<table border=\"1\" class=\"dataframe\">\n",
       "  <thead>\n",
       "    <tr style=\"text-align: right;\">\n",
       "      <th></th>\n",
       "      <th>Model</th>\n",
       "      <th>Money</th>\n",
       "      <th>Bets Made</th>\n",
       "    </tr>\n",
       "  </thead>\n",
       "  <tbody>\n",
       "    <tr>\n",
       "      <th>0</th>\n",
       "      <td>Ridge Regression</td>\n",
       "      <td>360.4</td>\n",
       "      <td>480</td>\n",
       "    </tr>\n",
       "    <tr>\n",
       "      <th>3</th>\n",
       "      <td>LGBM</td>\n",
       "      <td>307.3</td>\n",
       "      <td>617</td>\n",
       "    </tr>\n",
       "    <tr>\n",
       "      <th>1</th>\n",
       "      <td>KNN Regression</td>\n",
       "      <td>237.6</td>\n",
       "      <td>480</td>\n",
       "    </tr>\n",
       "    <tr>\n",
       "      <th>2</th>\n",
       "      <td>Random Forest Regressor</td>\n",
       "      <td>-48.1</td>\n",
       "      <td>542</td>\n",
       "    </tr>\n",
       "  </tbody>\n",
       "</table>\n",
       "</div>"
      ],
      "text/plain": [
       "                     Model  Money Bets Made\n",
       "0         Ridge Regression  360.4       480\n",
       "3                     LGBM  307.3       617\n",
       "1           KNN Regression  237.6       480\n",
       "2  Random Forest Regressor  -48.1       542"
      ]
     },
     "execution_count": 23,
     "metadata": {},
     "output_type": "execute_result"
    }
   ],
   "source": [
    "# Print strategy 2 results\n",
    "strat2_results.sort_values(by='Money', ascending=False)\n"
   ]
  },
  {
   "cell_type": "code",
   "execution_count": 24,
   "metadata": {},
   "outputs": [
    {
     "data": {
      "text/html": [
       "<div>\n",
       "<style scoped>\n",
       "    .dataframe tbody tr th:only-of-type {\n",
       "        vertical-align: middle;\n",
       "    }\n",
       "\n",
       "    .dataframe tbody tr th {\n",
       "        vertical-align: top;\n",
       "    }\n",
       "\n",
       "    .dataframe thead th {\n",
       "        text-align: right;\n",
       "    }\n",
       "</style>\n",
       "<table border=\"1\" class=\"dataframe\">\n",
       "  <thead>\n",
       "    <tr style=\"text-align: right;\">\n",
       "      <th></th>\n",
       "      <th>Model</th>\n",
       "      <th>Money</th>\n",
       "      <th>Bets Made</th>\n",
       "    </tr>\n",
       "  </thead>\n",
       "  <tbody>\n",
       "    <tr>\n",
       "      <th>2</th>\n",
       "      <td>Random Forest Classifier</td>\n",
       "      <td>237.1</td>\n",
       "      <td>599</td>\n",
       "    </tr>\n",
       "    <tr>\n",
       "      <th>3</th>\n",
       "      <td>SMOTE + RF</td>\n",
       "      <td>225.2</td>\n",
       "      <td>1728</td>\n",
       "    </tr>\n",
       "    <tr>\n",
       "      <th>0</th>\n",
       "      <td>Logistic Regression</td>\n",
       "      <td>172.8</td>\n",
       "      <td>550</td>\n",
       "    </tr>\n",
       "    <tr>\n",
       "      <th>1</th>\n",
       "      <td>Gaussian Naive Bayes</td>\n",
       "      <td>137.4</td>\n",
       "      <td>939</td>\n",
       "    </tr>\n",
       "  </tbody>\n",
       "</table>\n",
       "</div>"
      ],
      "text/plain": [
       "                      Model  Money Bets Made\n",
       "2  Random Forest Classifier  237.1       599\n",
       "3                SMOTE + RF  225.2      1728\n",
       "0       Logistic Regression  172.8       550\n",
       "1      Gaussian Naive Bayes  137.4       939"
      ]
     },
     "execution_count": 24,
     "metadata": {},
     "output_type": "execute_result"
    }
   ],
   "source": [
    "# Print strategy 3 results\n",
    "strat3_results.sort_values(by='Money', ascending=False)"
   ]
  },
  {
   "cell_type": "code",
   "execution_count": 25,
   "metadata": {},
   "outputs": [
    {
     "data": {
      "text/html": [
       "<div>\n",
       "<style scoped>\n",
       "    .dataframe tbody tr th:only-of-type {\n",
       "        vertical-align: middle;\n",
       "    }\n",
       "\n",
       "    .dataframe tbody tr th {\n",
       "        vertical-align: top;\n",
       "    }\n",
       "\n",
       "    .dataframe thead th {\n",
       "        text-align: right;\n",
       "    }\n",
       "</style>\n",
       "<table border=\"1\" class=\"dataframe\">\n",
       "  <thead>\n",
       "    <tr style=\"text-align: right;\">\n",
       "      <th></th>\n",
       "      <th>Model</th>\n",
       "      <th>Money</th>\n",
       "      <th>Bets Made</th>\n",
       "    </tr>\n",
       "  </thead>\n",
       "  <tbody>\n",
       "    <tr>\n",
       "      <th>15</th>\n",
       "      <td>(SMOTE + RF, LGBM)</td>\n",
       "      <td>307.6</td>\n",
       "      <td>231</td>\n",
       "    </tr>\n",
       "    <tr>\n",
       "      <th>12</th>\n",
       "      <td>(SMOTE + RF, Ridge Regression)</td>\n",
       "      <td>302.3</td>\n",
       "      <td>155</td>\n",
       "    </tr>\n",
       "    <tr>\n",
       "      <th>11</th>\n",
       "      <td>(Random Forest Classifier, LGBM)</td>\n",
       "      <td>261.1</td>\n",
       "      <td>54</td>\n",
       "    </tr>\n",
       "    <tr>\n",
       "      <th>8</th>\n",
       "      <td>(Random Forest Classifier, Ridge Regression)</td>\n",
       "      <td>232.1</td>\n",
       "      <td>32</td>\n",
       "    </tr>\n",
       "    <tr>\n",
       "      <th>13</th>\n",
       "      <td>(SMOTE + RF, KNN Regression)</td>\n",
       "      <td>171.6</td>\n",
       "      <td>91</td>\n",
       "    </tr>\n",
       "    <tr>\n",
       "      <th>9</th>\n",
       "      <td>(Random Forest Classifier, KNN Regression)</td>\n",
       "      <td>116.9</td>\n",
       "      <td>19</td>\n",
       "    </tr>\n",
       "    <tr>\n",
       "      <th>14</th>\n",
       "      <td>(SMOTE + RF, Random Forest Regressor)</td>\n",
       "      <td>20.6</td>\n",
       "      <td>140</td>\n",
       "    </tr>\n",
       "    <tr>\n",
       "      <th>3</th>\n",
       "      <td>(Logistic Regression, LGBM)</td>\n",
       "      <td>19.4</td>\n",
       "      <td>28</td>\n",
       "    </tr>\n",
       "    <tr>\n",
       "      <th>0</th>\n",
       "      <td>(Logistic Regression, Ridge Regression)</td>\n",
       "      <td>16.9</td>\n",
       "      <td>20</td>\n",
       "    </tr>\n",
       "    <tr>\n",
       "      <th>4</th>\n",
       "      <td>(Gaussian Naive Bayes, Ridge Regression)</td>\n",
       "      <td>16.5</td>\n",
       "      <td>72</td>\n",
       "    </tr>\n",
       "    <tr>\n",
       "      <th>1</th>\n",
       "      <td>(Logistic Regression, KNN Regression)</td>\n",
       "      <td>8.6</td>\n",
       "      <td>11</td>\n",
       "    </tr>\n",
       "    <tr>\n",
       "      <th>5</th>\n",
       "      <td>(Gaussian Naive Bayes, KNN Regression)</td>\n",
       "      <td>8.4</td>\n",
       "      <td>62</td>\n",
       "    </tr>\n",
       "    <tr>\n",
       "      <th>10</th>\n",
       "      <td>(Random Forest Classifier, Random Forest Regre...</td>\n",
       "      <td>7.6</td>\n",
       "      <td>18</td>\n",
       "    </tr>\n",
       "    <tr>\n",
       "      <th>7</th>\n",
       "      <td>(Gaussian Naive Bayes, LGBM)</td>\n",
       "      <td>3.1</td>\n",
       "      <td>116</td>\n",
       "    </tr>\n",
       "    <tr>\n",
       "      <th>2</th>\n",
       "      <td>(Logistic Regression, Random Forest Regressor)</td>\n",
       "      <td>1.7</td>\n",
       "      <td>9</td>\n",
       "    </tr>\n",
       "    <tr>\n",
       "      <th>6</th>\n",
       "      <td>(Gaussian Naive Bayes, Random Forest Regressor)</td>\n",
       "      <td>-2.4</td>\n",
       "      <td>60</td>\n",
       "    </tr>\n",
       "  </tbody>\n",
       "</table>\n",
       "</div>"
      ],
      "text/plain": [
       "                                                Model  Money Bets Made\n",
       "15                                 (SMOTE + RF, LGBM)  307.6       231\n",
       "12                     (SMOTE + RF, Ridge Regression)  302.3       155\n",
       "11                   (Random Forest Classifier, LGBM)  261.1        54\n",
       "8        (Random Forest Classifier, Ridge Regression)  232.1        32\n",
       "13                       (SMOTE + RF, KNN Regression)  171.6        91\n",
       "9          (Random Forest Classifier, KNN Regression)  116.9        19\n",
       "14              (SMOTE + RF, Random Forest Regressor)   20.6       140\n",
       "3                         (Logistic Regression, LGBM)   19.4        28\n",
       "0             (Logistic Regression, Ridge Regression)   16.9        20\n",
       "4            (Gaussian Naive Bayes, Ridge Regression)   16.5        72\n",
       "1               (Logistic Regression, KNN Regression)    8.6        11\n",
       "5              (Gaussian Naive Bayes, KNN Regression)    8.4        62\n",
       "10  (Random Forest Classifier, Random Forest Regre...    7.6        18\n",
       "7                        (Gaussian Naive Bayes, LGBM)    3.1       116\n",
       "2      (Logistic Regression, Random Forest Regressor)    1.7         9\n",
       "6     (Gaussian Naive Bayes, Random Forest Regressor)   -2.4        60"
      ]
     },
     "execution_count": 25,
     "metadata": {},
     "output_type": "execute_result"
    }
   ],
   "source": [
    "# Print strategy 4 results\n",
    "strat4_results.sort_values(by='Money', ascending=False)"
   ]
  },
  {
   "cell_type": "markdown",
   "metadata": {},
   "source": [
    "Happy to say that all the top models for the 4 different strategies seem to perform well during the testing. This was quite surprising given that the base case of choosing the horse with the best odds gave quite a negative result."
   ]
  }
 ],
 "metadata": {
  "kernelspec": {
   "display_name": "Python 3 (ipykernel)",
   "language": "python",
   "name": "python3"
  },
  "language_info": {
   "codemirror_mode": {
    "name": "ipython",
    "version": 3
   },
   "file_extension": ".py",
   "mimetype": "text/x-python",
   "name": "python",
   "nbconvert_exporter": "python",
   "pygments_lexer": "ipython3",
   "version": "3.9.7"
  },
  "vscode": {
   "interpreter": {
    "hash": "fc902f5f9f1b4ac8244fa2d1a71d10e1bb8b95bd909217946ac119cb82bcf206"
   }
  }
 },
 "nbformat": 4,
 "nbformat_minor": 2
}
