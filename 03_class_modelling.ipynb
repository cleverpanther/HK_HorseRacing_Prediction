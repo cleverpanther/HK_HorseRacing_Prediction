{
 "cells": [
  {
   "cell_type": "code",
   "execution_count": 63,
   "metadata": {},
   "outputs": [],
   "source": [
    "import numpy as np\n",
    "import pandas as pd\n",
    "import matplotlib.pyplot as plt\n",
    "import seaborn as sns\n",
    "\n",
    "from sklearn.linear_model import LogisticRegression\n",
    "from sklearn.model_selection import KFold\n",
    "from sklearn.model_selection import cross_val_score\n",
    "from sklearn.naive_bayes import GaussianNB\n",
    "from sklearn.ensemble import RandomForestClassifier\n",
    "from sklearn.svm import SVC\n",
    "from sklearn.metrics import f1_score, roc_curve, auc, confusion_matrix, roc_auc_score\n",
    "\n",
    "import time\n",
    "\n",
    "import warnings\n",
    "warnings.filterwarnings(\"ignore\")\n",
    "\n",
    "%matplotlib inline"
   ]
  },
  {
   "cell_type": "markdown",
   "metadata": {},
   "source": [
    " # Classification Modelling\n",
    " 1. Classify if horse can win 1st position\n",
    " 2. Classify if horse can win top 3 positions\n",
    " 3. Classify if horse can be ranked in the top half"
   ]
  },
  {
   "cell_type": "code",
   "execution_count": 64,
   "metadata": {},
   "outputs": [],
   "source": [
    "# Read the train and test files\n",
    "df_train = pd.read_csv('./data/df_train.csv', index_col=0)\n",
    "df_test = pd.read_csv('./data/df_test.csv', index_col=0)"
   ]
  },
  {
   "cell_type": "code",
   "execution_count": 65,
   "metadata": {},
   "outputs": [
    {
     "name": "stdout",
     "output_type": "stream",
     "text": [
      "(23500, 26)\n",
      "(5864, 26)\n"
     ]
    }
   ],
   "source": [
    "# View the shape of the train and test files\n",
    "print(df_train.shape)\n",
    "print(df_test.shape)"
   ]
  },
  {
   "cell_type": "code",
   "execution_count": 66,
   "metadata": {},
   "outputs": [
    {
     "data": {
      "text/html": [
       "<div>\n",
       "<style scoped>\n",
       "    .dataframe tbody tr th:only-of-type {\n",
       "        vertical-align: middle;\n",
       "    }\n",
       "\n",
       "    .dataframe tbody tr th {\n",
       "        vertical-align: top;\n",
       "    }\n",
       "\n",
       "    .dataframe thead th {\n",
       "        text-align: right;\n",
       "    }\n",
       "</style>\n",
       "<table border=\"1\" class=\"dataframe\">\n",
       "  <thead>\n",
       "    <tr style=\"text-align: right;\">\n",
       "      <th></th>\n",
       "      <th>horse_number</th>\n",
       "      <th>horse_name</th>\n",
       "      <th>horse_id</th>\n",
       "      <th>jockey</th>\n",
       "      <th>trainer</th>\n",
       "      <th>actual_weight</th>\n",
       "      <th>declared_horse_weight</th>\n",
       "      <th>draw</th>\n",
       "      <th>length_behind_winner</th>\n",
       "      <th>running_position_1</th>\n",
       "      <th>...</th>\n",
       "      <th>running_position_6</th>\n",
       "      <th>race_id</th>\n",
       "      <th>recent_6_runs</th>\n",
       "      <th>recent_ave_rank</th>\n",
       "      <th>race_distance</th>\n",
       "      <th>HorseWin</th>\n",
       "      <th>HorseRankTop3</th>\n",
       "      <th>HorseRankTop50Percent</th>\n",
       "      <th>jockey_ave_rank</th>\n",
       "      <th>trainer_ave_rank</th>\n",
       "    </tr>\n",
       "    <tr>\n",
       "      <th>finishing_position</th>\n",
       "      <th></th>\n",
       "      <th></th>\n",
       "      <th></th>\n",
       "      <th></th>\n",
       "      <th></th>\n",
       "      <th></th>\n",
       "      <th></th>\n",
       "      <th></th>\n",
       "      <th></th>\n",
       "      <th></th>\n",
       "      <th></th>\n",
       "      <th></th>\n",
       "      <th></th>\n",
       "      <th></th>\n",
       "      <th></th>\n",
       "      <th></th>\n",
       "      <th></th>\n",
       "      <th></th>\n",
       "      <th></th>\n",
       "      <th></th>\n",
       "      <th></th>\n",
       "    </tr>\n",
       "  </thead>\n",
       "  <tbody>\n",
       "    <tr>\n",
       "      <th>1</th>\n",
       "      <td>1.0</td>\n",
       "      <td>DOUBLE DRAGON</td>\n",
       "      <td>K019</td>\n",
       "      <td>B Prebble</td>\n",
       "      <td>D Cruz</td>\n",
       "      <td>133</td>\n",
       "      <td>1032</td>\n",
       "      <td>1</td>\n",
       "      <td>-</td>\n",
       "      <td>1.0</td>\n",
       "      <td>...</td>\n",
       "      <td>NaN</td>\n",
       "      <td>2014-001</td>\n",
       "      <td>1</td>\n",
       "      <td>1.0</td>\n",
       "      <td>1400</td>\n",
       "      <td>1</td>\n",
       "      <td>1</td>\n",
       "      <td>1</td>\n",
       "      <td>6.052910</td>\n",
       "      <td>7.381862</td>\n",
       "    </tr>\n",
       "    <tr>\n",
       "      <th>2</th>\n",
       "      <td>2.0</td>\n",
       "      <td>PLAIN BLUE BANNER</td>\n",
       "      <td>S070</td>\n",
       "      <td>D Whyte</td>\n",
       "      <td>D E Ferraris</td>\n",
       "      <td>133</td>\n",
       "      <td>1075</td>\n",
       "      <td>13</td>\n",
       "      <td>2</td>\n",
       "      <td>8.0</td>\n",
       "      <td>...</td>\n",
       "      <td>NaN</td>\n",
       "      <td>2014-001</td>\n",
       "      <td>2</td>\n",
       "      <td>2.0</td>\n",
       "      <td>1400</td>\n",
       "      <td>0</td>\n",
       "      <td>1</td>\n",
       "      <td>1</td>\n",
       "      <td>5.825153</td>\n",
       "      <td>6.611465</td>\n",
       "    </tr>\n",
       "  </tbody>\n",
       "</table>\n",
       "<p>2 rows × 26 columns</p>\n",
       "</div>"
      ],
      "text/plain": [
       "                    horse_number         horse_name horse_id     jockey  \\\n",
       "finishing_position                                                        \n",
       "1                            1.0      DOUBLE DRAGON     K019  B Prebble   \n",
       "2                            2.0  PLAIN BLUE BANNER     S070    D Whyte   \n",
       "\n",
       "                         trainer  actual_weight  declared_horse_weight  draw  \\\n",
       "finishing_position                                                             \n",
       "1                         D Cruz            133                   1032     1   \n",
       "2                   D E Ferraris            133                   1075    13   \n",
       "\n",
       "                   length_behind_winner  running_position_1  ...  \\\n",
       "finishing_position                                           ...   \n",
       "1                                     -                 1.0  ...   \n",
       "2                                     2                 8.0  ...   \n",
       "\n",
       "                    running_position_6   race_id  recent_6_runs  \\\n",
       "finishing_position                                                \n",
       "1                                  NaN  2014-001              1   \n",
       "2                                  NaN  2014-001              2   \n",
       "\n",
       "                   recent_ave_rank  race_distance  HorseWin  HorseRankTop3  \\\n",
       "finishing_position                                                           \n",
       "1                              1.0           1400         1              1   \n",
       "2                              2.0           1400         0              1   \n",
       "\n",
       "                   HorseRankTop50Percent jockey_ave_rank  trainer_ave_rank  \n",
       "finishing_position                                                          \n",
       "1                                      1        6.052910          7.381862  \n",
       "2                                      1        5.825153          6.611465  \n",
       "\n",
       "[2 rows x 26 columns]"
      ]
     },
     "execution_count": 66,
     "metadata": {},
     "output_type": "execute_result"
    }
   ],
   "source": [
    "# View the first 2 rows of the train file\n",
    "df_train.head(2)"
   ]
  },
  {
   "cell_type": "code",
   "execution_count": 67,
   "metadata": {},
   "outputs": [
    {
     "data": {
      "text/html": [
       "<div>\n",
       "<style scoped>\n",
       "    .dataframe tbody tr th:only-of-type {\n",
       "        vertical-align: middle;\n",
       "    }\n",
       "\n",
       "    .dataframe tbody tr th {\n",
       "        vertical-align: top;\n",
       "    }\n",
       "\n",
       "    .dataframe thead th {\n",
       "        text-align: right;\n",
       "    }\n",
       "</style>\n",
       "<table border=\"1\" class=\"dataframe\">\n",
       "  <thead>\n",
       "    <tr style=\"text-align: right;\">\n",
       "      <th></th>\n",
       "      <th>horse_number</th>\n",
       "      <th>horse_name</th>\n",
       "      <th>horse_id</th>\n",
       "      <th>jockey</th>\n",
       "      <th>trainer</th>\n",
       "      <th>actual_weight</th>\n",
       "      <th>declared_horse_weight</th>\n",
       "      <th>draw</th>\n",
       "      <th>length_behind_winner</th>\n",
       "      <th>running_position_1</th>\n",
       "      <th>...</th>\n",
       "      <th>running_position_6</th>\n",
       "      <th>race_id</th>\n",
       "      <th>recent_6_runs</th>\n",
       "      <th>recent_ave_rank</th>\n",
       "      <th>race_distance</th>\n",
       "      <th>HorseWin</th>\n",
       "      <th>HorseRankTop3</th>\n",
       "      <th>HorseRankTop50Percent</th>\n",
       "      <th>jockey_ave_rank</th>\n",
       "      <th>trainer_ave_rank</th>\n",
       "    </tr>\n",
       "    <tr>\n",
       "      <th>finishing_position</th>\n",
       "      <th></th>\n",
       "      <th></th>\n",
       "      <th></th>\n",
       "      <th></th>\n",
       "      <th></th>\n",
       "      <th></th>\n",
       "      <th></th>\n",
       "      <th></th>\n",
       "      <th></th>\n",
       "      <th></th>\n",
       "      <th></th>\n",
       "      <th></th>\n",
       "      <th></th>\n",
       "      <th></th>\n",
       "      <th></th>\n",
       "      <th></th>\n",
       "      <th></th>\n",
       "      <th></th>\n",
       "      <th></th>\n",
       "      <th></th>\n",
       "      <th></th>\n",
       "    </tr>\n",
       "  </thead>\n",
       "  <tbody>\n",
       "    <tr>\n",
       "      <th>1</th>\n",
       "      <td>5.0</td>\n",
       "      <td>POWERMAX</td>\n",
       "      <td>A009</td>\n",
       "      <td>N Callan</td>\n",
       "      <td>R Gibson</td>\n",
       "      <td>126</td>\n",
       "      <td>1124</td>\n",
       "      <td>9</td>\n",
       "      <td>-</td>\n",
       "      <td>2.0</td>\n",
       "      <td>...</td>\n",
       "      <td>NaN</td>\n",
       "      <td>2016-328</td>\n",
       "      <td>1/4/3/3</td>\n",
       "      <td>2.7500</td>\n",
       "      <td>1200</td>\n",
       "      <td>1</td>\n",
       "      <td>1</td>\n",
       "      <td>1</td>\n",
       "      <td>6.438751</td>\n",
       "      <td>6.715420</td>\n",
       "    </tr>\n",
       "    <tr>\n",
       "      <th>2</th>\n",
       "      <td>2.0</td>\n",
       "      <td>BUDDY BUNDY</td>\n",
       "      <td>T157</td>\n",
       "      <td>K K Chiong</td>\n",
       "      <td>D Cruz</td>\n",
       "      <td>127</td>\n",
       "      <td>1193</td>\n",
       "      <td>8</td>\n",
       "      <td>SH</td>\n",
       "      <td>1.0</td>\n",
       "      <td>...</td>\n",
       "      <td>NaN</td>\n",
       "      <td>2016-328</td>\n",
       "      <td>2/11/5/2/6/9</td>\n",
       "      <td>6.8125</td>\n",
       "      <td>1200</td>\n",
       "      <td>0</td>\n",
       "      <td>1</td>\n",
       "      <td>1</td>\n",
       "      <td>6.499033</td>\n",
       "      <td>7.381862</td>\n",
       "    </tr>\n",
       "  </tbody>\n",
       "</table>\n",
       "<p>2 rows × 26 columns</p>\n",
       "</div>"
      ],
      "text/plain": [
       "                    horse_number   horse_name horse_id      jockey   trainer  \\\n",
       "finishing_position                                                             \n",
       "1                            5.0     POWERMAX     A009    N Callan  R Gibson   \n",
       "2                            2.0  BUDDY BUNDY     T157  K K Chiong    D Cruz   \n",
       "\n",
       "                    actual_weight  declared_horse_weight  draw  \\\n",
       "finishing_position                                               \n",
       "1                             126                   1124     9   \n",
       "2                             127                   1193     8   \n",
       "\n",
       "                   length_behind_winner  running_position_1  ...  \\\n",
       "finishing_position                                           ...   \n",
       "1                                     -                 2.0  ...   \n",
       "2                                    SH                 1.0  ...   \n",
       "\n",
       "                    running_position_6   race_id  recent_6_runs  \\\n",
       "finishing_position                                                \n",
       "1                                  NaN  2016-328        1/4/3/3   \n",
       "2                                  NaN  2016-328   2/11/5/2/6/9   \n",
       "\n",
       "                   recent_ave_rank  race_distance  HorseWin  HorseRankTop3  \\\n",
       "finishing_position                                                           \n",
       "1                           2.7500           1200         1              1   \n",
       "2                           6.8125           1200         0              1   \n",
       "\n",
       "                   HorseRankTop50Percent jockey_ave_rank  trainer_ave_rank  \n",
       "finishing_position                                                          \n",
       "1                                      1        6.438751          6.715420  \n",
       "2                                      1        6.499033          7.381862  \n",
       "\n",
       "[2 rows x 26 columns]"
      ]
     },
     "execution_count": 67,
     "metadata": {},
     "output_type": "execute_result"
    }
   ],
   "source": [
    "# View the first 2 rows of the test files\n",
    "df_test.head(2)"
   ]
  },
  {
   "cell_type": "code",
   "execution_count": 68,
   "metadata": {},
   "outputs": [],
   "source": [
    "\n",
    "# Keep the features we want to train our model on\n",
    "X_train = df_train[['actual_weight', 'declared_horse_weight',\n",
    "                    'draw', 'win_odds', 'jockey_ave_rank',\n",
    "                    'trainer_ave_rank', 'recent_ave_rank', 'race_distance']]\n",
    "\n",
    "y_train = df_train[['HorseWin', 'HorseRankTop3', 'HorseRankTop50Percent']]\n",
    "\n",
    "# Keep the features we want to train our model on\n",
    "X_test = df_test[['actual_weight', 'declared_horse_weight',\n",
    "                   'draw', 'win_odds','jockey_ave_rank',\n",
    "                    'trainer_ave_rank', 'recent_ave_rank', 'race_distance']]\n",
    "                    \n",
    "y_test = df_test[['HorseWin', 'HorseRankTop3', 'HorseRankTop50Percent']]"
   ]
  },
  {
   "cell_type": "code",
   "execution_count": 69,
   "metadata": {},
   "outputs": [
    {
     "name": "stdout",
     "output_type": "stream",
     "text": [
      "(23500, 8)\n",
      "(23500, 3)\n",
      "(5864, 8)\n",
      "(5864, 3)\n"
     ]
    }
   ],
   "source": [
    "# View the shape of the train and test files\n",
    "print(X_train.shape)\n",
    "print(y_train.shape)\n",
    "print(X_test.shape)\n",
    "print(y_test.shape)"
   ]
  },
  {
   "cell_type": "code",
   "execution_count": 70,
   "metadata": {},
   "outputs": [
    {
     "data": {
      "text/plain": [
       "HorseWin                 0.080128\n",
       "HorseRankTop3            0.239787\n",
       "HorseRankTop50Percent    0.499489\n",
       "dtype: float64"
      ]
     },
     "execution_count": 70,
     "metadata": {},
     "output_type": "execute_result"
    }
   ],
   "source": [
    "# Check the mean of the target variable\n",
    "y_train.mean()"
   ]
  },
  {
   "cell_type": "markdown",
   "metadata": {},
   "source": [
    "We can see that there is data imbalance for the HorseWin and HorseRankTop3 variables, so we need to account for these later when modelling."
   ]
  },
  {
   "cell_type": "code",
   "execution_count": 71,
   "metadata": {},
   "outputs": [],
   "source": [
    "# Specify kfold cross validation\n",
    "kfold = KFold(n_splits=5)"
   ]
  },
  {
   "cell_type": "markdown",
   "metadata": {},
   "source": [
    "### Model 1: Logistic Regression"
   ]
  },
  {
   "cell_type": "code",
   "execution_count": 72,
   "metadata": {},
   "outputs": [],
   "source": [
    "# Initialize the model\n",
    "lr = LogisticRegression()"
   ]
  },
  {
   "cell_type": "code",
   "execution_count": 73,
   "metadata": {},
   "outputs": [
    {
     "name": "stdout",
     "output_type": "stream",
     "text": [
      "Cross Validation mean score for Logistic Regression: \n",
      " Horse win: 0.045 \n",
      " Horse in Top 3: 0.446 \n",
      " Horse in Top 50%: 0.721\n"
     ]
    }
   ],
   "source": [
    "# Calculate the cross validation score\n",
    "# Round the score to 3 decimal places\n",
    "\n",
    "score_lr_win = cross_val_score(lr, X_train, y_train['HorseWin'],\n",
    "                              cv = kfold, scoring = 'f1').mean()\n",
    "score_lr_win = round(score_lr_win, 3)\n",
    "\n",
    "score_lr_top3 = cross_val_score(lr, X_train,y_train['HorseRankTop3'],\n",
    "                              cv = kfold,scoring = 'f1').mean()\n",
    "score_lr_top3 = round(score_lr_top3, 3)\n",
    "\n",
    "score_lr_top50 = cross_val_score(lr,X_train, y_train['HorseRankTop50Percent'],\n",
    "                              cv = kfold,scoring = 'f1').mean()\n",
    "score_lr_top50 = round(score_lr_top50, 3)\n",
    "\n",
    "print(\"Cross Validation mean score for Logistic Regression:\",'\\n',\n",
    "      \"Horse win:\", score_lr_win,'\\n',\\\n",
    "      \"Horse in Top 3:\", score_lr_top3,'\\n',\\\n",
    "      \"Horse in Top 50%:\", score_lr_top50)\n",
    "\n",
    "# Create table to store the results\n",
    "cross_val_score_table = pd.DataFrame(columns = ['Model', 'HorseWin', 'HorseRankTop3', 'HorseRankTop50Percent'])\n",
    "\n",
    "# Add scores to the table\n",
    "cross_val_score_table = cross_val_score_table.append({'Model': 'Logistic Regression',\n",
    "                                                         'HorseWin': score_lr_win,\n",
    "                                                            'HorseRankTop3': score_lr_top3,\n",
    "                                                            'HorseRankTop50Percent': score_lr_top50},\n",
    "                                                            ignore_index = True)\n",
    "\n"
   ]
  },
  {
   "cell_type": "code",
   "execution_count": 74,
   "metadata": {},
   "outputs": [
    {
     "data": {
      "text/html": [
       "<div>\n",
       "<style scoped>\n",
       "    .dataframe tbody tr th:only-of-type {\n",
       "        vertical-align: middle;\n",
       "    }\n",
       "\n",
       "    .dataframe tbody tr th {\n",
       "        vertical-align: top;\n",
       "    }\n",
       "\n",
       "    .dataframe thead th {\n",
       "        text-align: right;\n",
       "    }\n",
       "</style>\n",
       "<table border=\"1\" class=\"dataframe\">\n",
       "  <thead>\n",
       "    <tr style=\"text-align: right;\">\n",
       "      <th></th>\n",
       "      <th>Model</th>\n",
       "      <th>HorseWin</th>\n",
       "      <th>HorseRankTop3</th>\n",
       "      <th>HorseRankTop50Percent</th>\n",
       "    </tr>\n",
       "  </thead>\n",
       "  <tbody>\n",
       "    <tr>\n",
       "      <th>0</th>\n",
       "      <td>Logistic Regression</td>\n",
       "      <td>0.045</td>\n",
       "      <td>0.446</td>\n",
       "      <td>0.721</td>\n",
       "    </tr>\n",
       "  </tbody>\n",
       "</table>\n",
       "</div>"
      ],
      "text/plain": [
       "                 Model  HorseWin  HorseRankTop3  HorseRankTop50Percent\n",
       "0  Logistic Regression     0.045          0.446                  0.721"
      ]
     },
     "execution_count": 74,
     "metadata": {},
     "output_type": "execute_result"
    }
   ],
   "source": [
    "cross_val_score_table"
   ]
  },
  {
   "cell_type": "code",
   "execution_count": 75,
   "metadata": {},
   "outputs": [
    {
     "name": "stdout",
     "output_type": "stream",
     "text": [
      "Running time for logistic regression is: 0.277 seconds\n"
     ]
    }
   ],
   "source": [
    "# Get the classification predictions (1 or 0)\n",
    "# start time\n",
    "start_time = time.time()\n",
    "\n",
    "lr.fit(X_train, y_train['HorseWin'])\n",
    "lr_win = lr.predict(X_test)\n",
    "\n",
    "lr.fit(X_train, y_train['HorseRankTop3'])\n",
    "lr_top3 = lr.predict(X_test)\n",
    "\n",
    "lr.fit(X_train,y_train['HorseRankTop50Percent'])\n",
    "lr_top50 = lr.predict(X_test)\n",
    "\n",
    "print('Running time for logistic regression is:', round(time.time() - start_time, 3), 'seconds')    "
   ]
  },
  {
   "cell_type": "code",
   "execution_count": 76,
   "metadata": {},
   "outputs": [],
   "source": [
    "# Create new dataframe for predictions\n",
    "lr_pred = pd.DataFrame()\n",
    "lr_pred['RaceID'] = df_test['race_id']\n",
    "lr_pred['HorseID'] = df_test['horse_id']\n",
    "\n",
    "lr_pred['HorseWin'] = lr_win\n",
    "lr_pred['HorseRankTop3'] = lr_top3\n",
    "lr_pred['HorseRankTop50Percent'] = lr_top50\n",
    "\n",
    "# Write predictions into csv file.\n",
    "lr_pred.to_csv('lr_pred.csv')"
   ]
  },
  {
   "cell_type": "markdown",
   "metadata": {},
   "source": [
    "For imbalanced data, 1 is more important than 0. The model may try to increase accuracy by predicting all 0. F1 score will be close to 0 while accuracy is close to 1. So for imbalanced data, F1 score (similarly TNR, NPV) is good choice.\n",
    "\n",
    "F1 = 2 * (precision * recall) / (precision + recall)\n",
    "\n",
    "Precision P = TP / (TP + FP), probability that one classified positive instance is classified correctly.\n",
    "\n",
    "Recall R = TP / (TP +FN) , percentage of truly positive instances correctly classified. \n"
   ]
  },
  {
   "cell_type": "code",
   "execution_count": 77,
   "metadata": {},
   "outputs": [
    {
     "name": "stdout",
     "output_type": "stream",
     "text": [
      "F1 score for Logistic Regression: \n",
      " Horse win: 0.053 \n",
      " Horse in Top 3: 0.36 \n",
      " Horse in Top 50%: 0.694\n"
     ]
    }
   ],
   "source": [
    "# F1 score for logistic regression\n",
    "f1_win = round(f1_score(y_test['HorseWin'], lr_win), 3)\n",
    "\n",
    "f1_top3 = round(f1_score(y_test['HorseRankTop3'], lr_top3), 3)\n",
    "\n",
    "f1_top50 = round(f1_score(y_test['HorseRankTop50Percent'], lr_top50), 3)\n",
    "\n",
    "# Print the F1 score\n",
    "print(\"F1 score for Logistic Regression:\",'\\n',\n",
    "      \"Horse win:\", f1_win,'\\n',\\\n",
    "      \"Horse in Top 3:\", f1_top3,'\\n',\\\n",
    "      \"Horse in Top 50%:\", f1_top50)"
   ]
  },
  {
   "cell_type": "code",
   "execution_count": 78,
   "metadata": {},
   "outputs": [],
   "source": [
    "# Confusion matrix for logistic regression\n",
    "from sklearn.metrics import confusion_matrix\n",
    "\n",
    "# Confusion matrix for HorseWin\n",
    "cm_lr_win = confusion_matrix(y_test['HorseWin'], lr_win)"
   ]
  },
  {
   "cell_type": "code",
   "execution_count": 79,
   "metadata": {},
   "outputs": [
    {
     "data": {
      "image/png": "[encoded data removed]",
      "text/plain": [
       "<Figure size 720x504 with 2 Axes>"
      ]
     },
     "metadata": {
      "needs_background": "light"
     },
     "output_type": "display_data"
    },
    {
     "name": "stdout",
     "output_type": "stream",
     "text": [
      "True positive rate for HorseWin: 0.027\n"
     ]
    }
   ],
   "source": [
    "# Plot the confusion matrix for HorseWin\n",
    "plt.figure(figsize = (10, 7))\n",
    "sns.heatmap(cm_lr_win, annot = True, fmt = 'd', cmap = 'Blues')\n",
    "plt.title('Confusion Matrix for HorseWin')\n",
    "plt.xlabel('Predicted')\n",
    "plt.ylabel('Actual')\n",
    "plt.show()\n",
    "\n",
    "# Print the true positive rate\n",
    "tpr = round(cm_lr_win[1, 1] / (cm_lr_win[1, 1] + cm_lr_win[1, 0]),3)\n",
    "print('True positive rate for HorseWin:', tpr)"
   ]
  },
  {
   "cell_type": "code",
   "execution_count": 80,
   "metadata": {},
   "outputs": [
    {
     "data": {
      "image/png": "[encoded data removed]",
      "text/plain": [
       "<Figure size 720x504 with 1 Axes>"
      ]
     },
     "metadata": {
      "needs_background": "light"
     },
     "output_type": "display_data"
    },
    {
     "name": "stdout",
     "output_type": "stream",
     "text": [
      "PR AUC score for HorseWin: 0.268\n"
     ]
    }
   ],
   "source": [
    "# Plot PR AUC curve for HorseWin\n",
    "from sklearn.metrics import precision_recall_curve\n",
    "from sklearn.metrics import plot_precision_recall_curve\n",
    "\n",
    "# Get the probabilities of the predictions\n",
    "lr_win_prob = lr.predict_proba(X_test)[:, 1]\n",
    "\n",
    "# Get the precision and recall\n",
    "precision, recall, thresholds = precision_recall_curve(y_test['HorseWin'], lr_win_prob)\n",
    "\n",
    "# Plot the PR AUC curve\n",
    "plt.figure(figsize = (10, 7))\n",
    "plt.plot([0, 1], [0.5, 0.5], linestyle = '--')\n",
    "plt.plot(recall, precision, marker = '.')\n",
    "plt.title('PR AUC Curve for HorseWin')\n",
    "plt.xlabel('Recall')\n",
    "plt.ylabel('Precision')\n",
    "plt.show()\n",
    "\n",
    "# Print the PR AUC score\n",
    "from sklearn.metrics import auc\n",
    "pr_auc = round(auc(recall, precision),3)\n",
    "print('PR AUC score for HorseWin:', pr_auc)\n"
   ]
  },
  {
   "cell_type": "code",
   "execution_count": 81,
   "metadata": {},
   "outputs": [
    {
     "data": {
      "text/html": [
       "<div>\n",
       "<style scoped>\n",
       "    .dataframe tbody tr th:only-of-type {\n",
       "        vertical-align: middle;\n",
       "    }\n",
       "\n",
       "    .dataframe tbody tr th {\n",
       "        vertical-align: top;\n",
       "    }\n",
       "\n",
       "    .dataframe thead th {\n",
       "        text-align: right;\n",
       "    }\n",
       "</style>\n",
       "<table border=\"1\" class=\"dataframe\">\n",
       "  <thead>\n",
       "    <tr style=\"text-align: right;\">\n",
       "      <th></th>\n",
       "      <th>Model</th>\n",
       "      <th>F1_HorseWin</th>\n",
       "      <th>F1_HorseRankTop3</th>\n",
       "      <th>F1_HorseRankTop50Percent</th>\n",
       "      <th>PR_AUC_Score</th>\n",
       "      <th>TPR</th>\n",
       "    </tr>\n",
       "  </thead>\n",
       "  <tbody>\n",
       "    <tr>\n",
       "      <th>0</th>\n",
       "      <td>Logistic Regression</td>\n",
       "      <td>0.045</td>\n",
       "      <td>0.446</td>\n",
       "      <td>0.721</td>\n",
       "      <td>0.268</td>\n",
       "      <td>0.027</td>\n",
       "    </tr>\n",
       "  </tbody>\n",
       "</table>\n",
       "</div>"
      ],
      "text/plain": [
       "                 Model  F1_HorseWin  F1_HorseRankTop3  \\\n",
       "0  Logistic Regression        0.045             0.446   \n",
       "\n",
       "   F1_HorseRankTop50Percent  PR_AUC_Score    TPR  \n",
       "0                     0.721         0.268  0.027  "
      ]
     },
     "execution_count": 81,
     "metadata": {},
     "output_type": "execute_result"
    }
   ],
   "source": [
    "# Create table to store f1 score and PR AUC score\n",
    "f1_pr_auc_table = pd.DataFrame(columns = ['Model', 'F1_HorseWin', 'F1_HorseRankTop3',\n",
    "                                        'F1_HorseRankTop50Percent', 'PR_AUC_Score', 'TPR'])\n",
    "\n",
    "# Add scores to the table\n",
    "f1_pr_auc_table = f1_pr_auc_table.append({'Model': 'Logistic Regression',\n",
    "                                          'F1_HorseWin': score_lr_win,\n",
    "                                          'F1_HorseRankTop3': score_lr_top3,\n",
    "                                          'F1_HorseRankTop50Percent': score_lr_top50,\n",
    "                                          'PR_AUC_Score': pr_auc,\n",
    "                                          'TPR': tpr},\n",
    "                                          ignore_index = True)\n",
    "\n",
    "#\n",
    "\n",
    "# Display the table\n",
    "f1_pr_auc_table"
   ]
  },
  {
   "cell_type": "markdown",
   "metadata": {},
   "source": [
    "### Model 2: Naïve Bayes"
   ]
  },
  {
   "cell_type": "code",
   "execution_count": 82,
   "metadata": {},
   "outputs": [],
   "source": [
    "# Initialize the model\n",
    "gnb = GaussianNB()"
   ]
  },
  {
   "cell_type": "code",
   "execution_count": 83,
   "metadata": {},
   "outputs": [
    {
     "name": "stdout",
     "output_type": "stream",
     "text": [
      "Cross Validation mean score for Gaussian Naive Bayes: \n",
      " Horse win: 0.317 \n",
      " Horse in Top 3: 0.543 \n",
      " Horse in Top 50%: 0.73\n"
     ]
    }
   ],
   "source": [
    "# Calculate the cross validation score\n",
    "# Round the score to 3 decimal places\n",
    "\n",
    "score_gnb_win = cross_val_score(gnb, X_train, y_train['HorseWin'],\n",
    "                              cv = kfold, scoring = 'f1').mean()\n",
    "score_gnb_win = round(score_gnb_win, 3)\n",
    "\n",
    "score_gnb_top3 = cross_val_score(gnb, X_train,y_train['HorseRankTop3'],\n",
    "                              cv = kfold, scoring = 'f1').mean() \n",
    "score_gnb_top3 = round(score_gnb_top3, 3)\n",
    "\n",
    "score_gnb_top50 = cross_val_score(gnb,X_train, y_train['HorseRankTop50Percent'],\n",
    "                              cv = kfold, scoring = 'f1').mean()\n",
    "score_gnb_top50 = round(score_gnb_top50, 3)\n",
    "\n",
    "# Print the cross validation score\n",
    "print(\"Cross Validation mean score for Gaussian Naive Bayes:\",'\\n',\n",
    "      \"Horse win:\", score_gnb_win,'\\n',\\\n",
    "      \"Horse in Top 3:\", score_gnb_top3,'\\n',\\\n",
    "      \"Horse in Top 50%:\", score_gnb_top50)\n",
    "\n",
    "# Append the results to the table\n",
    "cross_val_score_table = cross_val_score_table.append({'Model': 'Gaussian Naive Bayes',\n",
    "                                                            'HorseWin': score_gnb_win,    \n",
    "                                                            'HorseRankTop3': score_gnb_top3,    \n",
    "                                                            'HorseRankTop50Percent': score_gnb_top50},\n",
    "                                                            ignore_index = True)      "
   ]
  },
  {
   "cell_type": "code",
   "execution_count": 84,
   "metadata": {
    "scrolled": true
   },
   "outputs": [
    {
     "name": "stdout",
     "output_type": "stream",
     "text": [
      "Running time for Gaussian Naive Bayes is: 0.032 seconds\n"
     ]
    }
   ],
   "source": [
    "# Get the classification predictions (1 or 0)\n",
    "start_time2 = time.time()\n",
    "\n",
    "gnb.fit(X_train, y_train['HorseWin'])\n",
    "gnb_win = gnb.predict(X_test)\n",
    "\n",
    "gnb.fit(X_train, y_train['HorseRankTop3'])\n",
    "gnb_top3 = gnb.predict(X_test)\n",
    "\n",
    "gnb.fit(X_train,y_train['HorseRankTop50Percent'])\n",
    "gnb_top50 = gnb.predict(X_test)\n",
    "\n",
    "print('Running time for Gaussian Naive Bayes is:', round(time.time() - start_time2, 3), 'seconds')"
   ]
  },
  {
   "cell_type": "code",
   "execution_count": 85,
   "metadata": {},
   "outputs": [],
   "source": [
    "# Create new dataframe for predictions\n",
    "\n",
    "gnb_pred = pd.DataFrame()\n",
    "gnb_pred['RaceID'] = df_test['race_id']\n",
    "gnb_pred['HorseID'] = df_test['horse_id']\n",
    "\n",
    "gnb_pred['HorseWin'] = gnb_win\n",
    "gnb_pred['HorseRankTop3'] = gnb_top3\n",
    "gnb_pred['HorseRankTop50Percent'] = gnb_top50\n",
    "\n",
    "# Write predictions into csv file.\n",
    "gnb_pred.to_csv('gnb_pred.csv')"
   ]
  },
  {
   "cell_type": "code",
   "execution_count": 86,
   "metadata": {},
   "outputs": [
    {
     "name": "stdout",
     "output_type": "stream",
     "text": [
      "F1 score for Gaussian Naive Bayes: \n",
      " Horse win: 0.282 \n",
      " Horse in Top 3: 0.506 \n",
      " Horse in Top 50%: 0.718\n"
     ]
    }
   ],
   "source": [
    "# F1 score for Gaussian Naive Bayes\n",
    "f1_win = round(f1_score(y_test['HorseWin'], gnb_win), 3)\n",
    "\n",
    "f1_top3 = round(f1_score(y_test['HorseRankTop3'], gnb_top3), 3)\n",
    "\n",
    "f1_top50 = round(f1_score(y_test['HorseRankTop50Percent'], gnb_top50), 3)\n",
    "\n",
    "# Print the F1 score\n",
    "print(\"F1 score for Gaussian Naive Bayes:\",'\\n',\n",
    "        \"Horse win:\", f1_win,'\\n',\\\n",
    "        \"Horse in Top 3:\", f1_top3,'\\n',\\\n",
    "        \"Horse in Top 50%:\", f1_top50)"
   ]
  },
  {
   "cell_type": "code",
   "execution_count": 87,
   "metadata": {},
   "outputs": [
    {
     "data": {
      "image/png": "[encoded data removed]",
      "text/plain": [
       "<Figure size 576x432 with 2 Axes>"
      ]
     },
     "metadata": {
      "needs_background": "light"
     },
     "output_type": "display_data"
    },
    {
     "name": "stdout",
     "output_type": "stream",
     "text": [
      "True positive rate for HorseWin: 0.349\n"
     ]
    }
   ],
   "source": [
    "# Confusion matrix for HorseWin\n",
    "cm_gnb_win = confusion_matrix(y_test['HorseWin'], gnb_win)\n",
    "cm_gnb_win = pd.DataFrame(cm_gnb_win, index = ['Actual 0', 'Actual 1'],\n",
    "                            columns = ['Predicted 0', 'Predicted 1'])  \n",
    "\n",
    "# Plot the confusion matrix for HorseWin\n",
    "plt.figure(figsize = (8, 6))\n",
    "plt.title('Confusion Matrix for HorseWin')\n",
    "sns.heatmap(cm_gnb_win, annot = True, fmt = 'd', cmap = 'Blues')\n",
    "plt.show()\n",
    "\n",
    "# Print true positive rate\n",
    "tpr = round(cm_gnb_win.iloc[1,1]/(cm_gnb_win.iloc[1,1] + cm_gnb_win.iloc[1,0]), 3)\n",
    "print('True positive rate for HorseWin:', tpr)\n"
   ]
  },
  {
   "cell_type": "code",
   "execution_count": 88,
   "metadata": {},
   "outputs": [
    {
     "data": {
      "image/png": "[encoded data removed]",
      "text/plain": [
       "<Figure size 432x288 with 1 Axes>"
      ]
     },
     "metadata": {
      "needs_background": "light"
     },
     "output_type": "display_data"
    },
    {
     "name": "stdout",
     "output_type": "stream",
     "text": [
      "PR AUC score for HorseWin: 0.237\n"
     ]
    }
   ],
   "source": [
    "# Plot PR AUC curve for HorseWin\n",
    "\n",
    "# Get the probability of predicting 1\n",
    "gnb_win_prob = gnb.predict_proba(X_test)[:,1]\n",
    "\n",
    "# Get the precision and recall\n",
    "precision, recall, _ = precision_recall_curve(y_test['HorseWin'], gnb_win_prob)\n",
    "\n",
    "# Plot the PR AUC curve\n",
    "plt.plot(recall, precision, marker = '.')\n",
    "plt.plot([0, 1], [0.5, 0.5], linestyle = '--')\n",
    "plt.plot(recall, precision, marker = '.')\n",
    "plt.title('PR AUC Curve for HorseWin')\n",
    "plt.xlabel('Recall')\n",
    "plt.ylabel('Precision')\n",
    "plt.show()\n",
    "\n",
    "# Print the PR AUC score\n",
    "pr_auc = round(auc(recall, precision),3)\n",
    "print('PR AUC score for HorseWin:', pr_auc)\n"
   ]
  },
  {
   "cell_type": "code",
   "execution_count": 89,
   "metadata": {},
   "outputs": [
    {
     "data": {
      "text/html": [
       "<div>\n",
       "<style scoped>\n",
       "    .dataframe tbody tr th:only-of-type {\n",
       "        vertical-align: middle;\n",
       "    }\n",
       "\n",
       "    .dataframe tbody tr th {\n",
       "        vertical-align: top;\n",
       "    }\n",
       "\n",
       "    .dataframe thead th {\n",
       "        text-align: right;\n",
       "    }\n",
       "</style>\n",
       "<table border=\"1\" class=\"dataframe\">\n",
       "  <thead>\n",
       "    <tr style=\"text-align: right;\">\n",
       "      <th></th>\n",
       "      <th>Model</th>\n",
       "      <th>F1_HorseWin</th>\n",
       "      <th>F1_HorseRankTop3</th>\n",
       "      <th>F1_HorseRankTop50Percent</th>\n",
       "      <th>PR_AUC_Score</th>\n",
       "      <th>TPR</th>\n",
       "    </tr>\n",
       "  </thead>\n",
       "  <tbody>\n",
       "    <tr>\n",
       "      <th>0</th>\n",
       "      <td>Logistic Regression</td>\n",
       "      <td>0.045</td>\n",
       "      <td>0.446</td>\n",
       "      <td>0.721</td>\n",
       "      <td>0.268</td>\n",
       "      <td>0.027</td>\n",
       "    </tr>\n",
       "    <tr>\n",
       "      <th>1</th>\n",
       "      <td>Gaussian Naive Bayes</td>\n",
       "      <td>0.282</td>\n",
       "      <td>0.506</td>\n",
       "      <td>0.718</td>\n",
       "      <td>0.237</td>\n",
       "      <td>0.349</td>\n",
       "    </tr>\n",
       "  </tbody>\n",
       "</table>\n",
       "</div>"
      ],
      "text/plain": [
       "                  Model  F1_HorseWin  F1_HorseRankTop3  \\\n",
       "0   Logistic Regression        0.045             0.446   \n",
       "1  Gaussian Naive Bayes        0.282             0.506   \n",
       "\n",
       "   F1_HorseRankTop50Percent  PR_AUC_Score    TPR  \n",
       "0                     0.721         0.268  0.027  \n",
       "1                     0.718         0.237  0.349  "
      ]
     },
     "execution_count": 89,
     "metadata": {},
     "output_type": "execute_result"
    }
   ],
   "source": [
    "# Append the results to the table\n",
    "f1_pr_auc_table = f1_pr_auc_table.append({'Model': 'Gaussian Naive Bayes',\n",
    "                                            'F1_HorseWin': f1_win,\n",
    "                                            'F1_HorseRankTop3': f1_top3,\n",
    "                                            'F1_HorseRankTop50Percent': f1_top50,\n",
    "                                            'PR_AUC_Score': pr_auc,\n",
    "                                            'TPR': tpr}, \n",
    "                                            ignore_index = True)\n",
    "\n",
    "# Display the table\n",
    "f1_pr_auc_table"
   ]
  },
  {
   "cell_type": "markdown",
   "metadata": {},
   "source": [
    " "
   ]
  },
  {
   "cell_type": "markdown",
   "metadata": {},
   "source": [
    "### Model 3: Random Forest Classifier"
   ]
  },
  {
   "cell_type": "code",
   "execution_count": 90,
   "metadata": {},
   "outputs": [],
   "source": [
    "# Initialize the model\n",
    "rfc = RandomForestClassifier(n_estimators = 100, random_state = 42)"
   ]
  },
  {
   "cell_type": "code",
   "execution_count": 91,
   "metadata": {},
   "outputs": [
    {
     "name": "stdout",
     "output_type": "stream",
     "text": [
      "Cross Validation mean score for Random Forest Classifier: \n",
      " Horse win: 0.187 \n",
      " Horse in Top 3: 0.461 \n",
      " Horse in Top 50%: 0.71\n"
     ]
    }
   ],
   "source": [
    "# Calculate the cross validation score\n",
    "# Round the score to 3 decimal places\n",
    "\n",
    "score_rfc_win = cross_val_score(rfc, X_train, y_train['HorseWin'],\n",
    "                                cv = kfold, scoring = 'f1').mean()\n",
    "score_rfc_win = round(score_rfc_win, 3)\n",
    "\n",
    "score_rfc_top3 = cross_val_score(rfc, X_train, y_train['HorseRankTop3'],\n",
    "                                    cv = kfold, scoring = 'f1').mean()\n",
    "score_rfc_top3 = round(score_rfc_top3, 3)\n",
    "\n",
    "score_rfc_top50 = cross_val_score(rfc, X_train, y_train['HorseRankTop50Percent'],\n",
    "                                    cv = kfold, scoring = 'f1').mean()\n",
    "score_rfc_top50 = round(score_rfc_top50, 3)\n",
    "\n",
    "# Print the cross validation score\n",
    "print(\"Cross Validation mean score for Random Forest Classifier:\",'\\n',\n",
    "        \"Horse win:\", score_rfc_win,'\\n',\\\n",
    "        \"Horse in Top 3:\", score_rfc_top3,'\\n',\\\n",
    "        \"Horse in Top 50%:\", score_rfc_top50)\n",
    "\n",
    "# Add the cross validation score to the table\n",
    "cross_val_score_table = cross_val_score_table.append({'Model': 'Random Forest Classifier',\n",
    "                                                        'HorseWin': score_rfc_win,\n",
    "                                                        'HorseRankTop3': score_rfc_top3,\n",
    "                                                        'HorseRankTop50Percent': score_rfc_top50},\n",
    "                                                        ignore_index = True)"
   ]
  },
  {
   "cell_type": "code",
   "execution_count": 92,
   "metadata": {},
   "outputs": [
    {
     "name": "stdout",
     "output_type": "stream",
     "text": [
      "Running time for Random Forest Classifier is: 6.91 seconds\n"
     ]
    }
   ],
   "source": [
    "# Get the classification predictions (1 or 0)\n",
    "start_time3 = time.time()\n",
    "\n",
    "rfc.fit(X_train, y_train['HorseWin'])\n",
    "rfc_win = rfc.predict(X_test)\n",
    "\n",
    "rfc.fit(X_train, y_train['HorseRankTop3'])\n",
    "rfc_top3 = rfc.predict(X_test)\n",
    "\n",
    "rfc.fit(X_train, y_train['HorseRankTop50Percent'])\n",
    "rfc_top50 = rfc.predict(X_test)\n",
    "\n",
    "print('Running time for Random Forest Classifier is:', round(time.time() - start_time3, 3), 'seconds')\n"
   ]
  },
  {
   "cell_type": "code",
   "execution_count": 93,
   "metadata": {},
   "outputs": [],
   "source": [
    "# Create new dataframe for predictions\n",
    "rfc_pred = pd.DataFrame()\n",
    "rfc_pred['RaceID'] = df_test['race_id']\n",
    "rfc_pred['HorseID'] = df_test['horse_id']\n",
    "\n",
    "rfc_pred['HorseWin'] = rfc_win\n",
    "rfc_pred['HorseRankTop3'] = rfc_top3\n",
    "rfc_pred['HorseRankTop50Percent'] = rfc_top50\n",
    "\n",
    "# Write predictions into csv file.\n",
    "rfc_pred.to_csv('rfc_pred.csv')"
   ]
  },
  {
   "cell_type": "code",
   "execution_count": 94,
   "metadata": {},
   "outputs": [
    {
     "name": "stdout",
     "output_type": "stream",
     "text": [
      "F1 score for Random Forest Classifier: \n",
      " Horse win: 0.148 \n",
      " Horse in Top 3: 0.379 \n",
      " Horse in Top 50%: 0.694\n"
     ]
    }
   ],
   "source": [
    "# F1 score for Random Forest Classifier\n",
    "f1_win = round(f1_score(y_test['HorseWin'], rfc_win), 3)\n",
    "f1_top3 = round(f1_score(y_test['HorseRankTop3'], rfc_top3), 3)\n",
    "f1_top50 = round(f1_score(y_test['HorseRankTop50Percent'], rfc_top50), 3)\n",
    "\n",
    "# Print the F1 score\n",
    "print(\"F1 score for Random Forest Classifier:\",'\\n',\n",
    "        \"Horse win:\", f1_win,'\\n',\\\n",
    "        \"Horse in Top 3:\", f1_top3,'\\n',\\\n",
    "        \"Horse in Top 50%:\", f1_top50)"
   ]
  },
  {
   "cell_type": "code",
   "execution_count": 95,
   "metadata": {},
   "outputs": [
    {
     "data": {
      "image/png": "[encoded data removed]",
      "text/plain": [
       "<Figure size 576x432 with 2 Axes>"
      ]
     },
     "metadata": {
      "needs_background": "light"
     },
     "output_type": "display_data"
    },
    {
     "name": "stdout",
     "output_type": "stream",
     "text": [
      "True positive rate for HorseWin: 0.084\n"
     ]
    }
   ],
   "source": [
    "# Confusion matrix for HorseWin\n",
    "cm_rfc_win = confusion_matrix(y_test['HorseWin'], rfc_win)\n",
    "cm_rfc_win = pd.DataFrame(cm_rfc_win, index = ['Actual 0', 'Actual 1'],\n",
    "                            columns = ['Predicted 0', 'Predicted 1'])  \n",
    "\n",
    "# Plot the confusion matrix for HorseWin\n",
    "plt.figure(figsize = (8, 6))\n",
    "plt.title('Confusion Matrix for HorseWin')\n",
    "sns.heatmap(cm_rfc_win, annot = True, fmt = 'd', cmap = 'Blues')\n",
    "plt.show()\n",
    "\n",
    "# Print the true positive rate for HorseWin\n",
    "tpr = round(cm_rfc_win.iloc[1,1]/(cm_rfc_win.iloc[1,1] + cm_rfc_win.iloc[1,0]), 3)\n",
    "print('True positive rate for HorseWin:', tpr)"
   ]
  },
  {
   "cell_type": "code",
   "execution_count": 96,
   "metadata": {},
   "outputs": [
    {
     "data": {
      "image/png": "[encoded data removed]",
      "text/plain": [
       "<Figure size 432x288 with 1 Axes>"
      ]
     },
     "metadata": {
      "needs_background": "light"
     },
     "output_type": "display_data"
    },
    {
     "name": "stdout",
     "output_type": "stream",
     "text": [
      "PR AUC score for HorseWin: 0.237\n"
     ]
    }
   ],
   "source": [
    "# Plot PR AUC curve for HorseWin\n",
    "\n",
    "# Get the probability of predicting 1\n",
    "rfc_win_prob = rfc.predict_proba(X_test)[:,1]\n",
    "\n",
    "# Get the precision and recall\n",
    "precision, recall, _ = precision_recall_curve(y_test['HorseWin'], rfc_win_prob)\n",
    "\n",
    "# Plot the PR AUC curve\n",
    "plt.plot(recall, precision, marker = '.')\n",
    "plt.plot([0, 1], [0.5, 0.5], linestyle = '--')\n",
    "plt.title('PR AUC Curve for HorseWin')\n",
    "plt.xlabel('Recall')\n",
    "plt.ylabel('Precision')\n",
    "plt.show()\n",
    "\n",
    "# Print the PR AUC score\n",
    "pr_auc = round(auc(recall, precision),3)\n",
    "print('PR AUC score for HorseWin:', pr_auc)"
   ]
  },
  {
   "cell_type": "code",
   "execution_count": 97,
   "metadata": {},
   "outputs": [
    {
     "data": {
      "text/html": [
       "<div>\n",
       "<style scoped>\n",
       "    .dataframe tbody tr th:only-of-type {\n",
       "        vertical-align: middle;\n",
       "    }\n",
       "\n",
       "    .dataframe tbody tr th {\n",
       "        vertical-align: top;\n",
       "    }\n",
       "\n",
       "    .dataframe thead th {\n",
       "        text-align: right;\n",
       "    }\n",
       "</style>\n",
       "<table border=\"1\" class=\"dataframe\">\n",
       "  <thead>\n",
       "    <tr style=\"text-align: right;\">\n",
       "      <th></th>\n",
       "      <th>Model</th>\n",
       "      <th>F1_HorseWin</th>\n",
       "      <th>F1_HorseRankTop3</th>\n",
       "      <th>F1_HorseRankTop50Percent</th>\n",
       "      <th>PR_AUC_Score</th>\n",
       "      <th>TPR</th>\n",
       "    </tr>\n",
       "  </thead>\n",
       "  <tbody>\n",
       "    <tr>\n",
       "      <th>0</th>\n",
       "      <td>Logistic Regression</td>\n",
       "      <td>0.045</td>\n",
       "      <td>0.446</td>\n",
       "      <td>0.721</td>\n",
       "      <td>0.268</td>\n",
       "      <td>0.027</td>\n",
       "    </tr>\n",
       "    <tr>\n",
       "      <th>1</th>\n",
       "      <td>Gaussian Naive Bayes</td>\n",
       "      <td>0.282</td>\n",
       "      <td>0.506</td>\n",
       "      <td>0.718</td>\n",
       "      <td>0.237</td>\n",
       "      <td>0.349</td>\n",
       "    </tr>\n",
       "    <tr>\n",
       "      <th>2</th>\n",
       "      <td>Random Forest Classifier</td>\n",
       "      <td>0.148</td>\n",
       "      <td>0.379</td>\n",
       "      <td>0.694</td>\n",
       "      <td>0.237</td>\n",
       "      <td>0.084</td>\n",
       "    </tr>\n",
       "  </tbody>\n",
       "</table>\n",
       "</div>"
      ],
      "text/plain": [
       "                      Model  F1_HorseWin  F1_HorseRankTop3  \\\n",
       "0       Logistic Regression        0.045             0.446   \n",
       "1      Gaussian Naive Bayes        0.282             0.506   \n",
       "2  Random Forest Classifier        0.148             0.379   \n",
       "\n",
       "   F1_HorseRankTop50Percent  PR_AUC_Score    TPR  \n",
       "0                     0.721         0.268  0.027  \n",
       "1                     0.718         0.237  0.349  \n",
       "2                     0.694         0.237  0.084  "
      ]
     },
     "execution_count": 97,
     "metadata": {},
     "output_type": "execute_result"
    }
   ],
   "source": [
    "# Append the results to the table\n",
    "f1_pr_auc_table = f1_pr_auc_table.append({'Model': 'Random Forest Classifier',\n",
    "                                            'F1_HorseWin': f1_win,\n",
    "                                            'F1_HorseRankTop3': f1_top3,\n",
    "                                            'F1_HorseRankTop50Percent': f1_top50,\n",
    "                                            'PR_AUC_Score': pr_auc,\n",
    "                                            'TPR': tpr},\n",
    "                                            ignore_index = True)\n",
    "\n",
    "# Display the table\n",
    "f1_pr_auc_table"
   ]
  },
  {
   "cell_type": "markdown",
   "metadata": {},
   "source": [
    "###  Model 4: Smote + Random Forest Classifier"
   ]
  },
  {
   "cell_type": "code",
   "execution_count": 98,
   "metadata": {},
   "outputs": [],
   "source": [
    "# Import the library\n",
    "from imblearn.over_sampling import SMOTE\n",
    "from imblearn.pipeline import Pipeline\n",
    "from sklearn.model_selection import GridSearchCV\n"
   ]
  },
  {
   "cell_type": "code",
   "execution_count": 99,
   "metadata": {},
   "outputs": [],
   "source": [
    "# Smote the training data\n",
    "sm = SMOTE(random_state = 42)\n",
    "rfc = RandomForestClassifier(max_depth=20, min_samples_leaf=10,\n",
    "                               random_state = 42)\n",
    "\n",
    "# Steps for the pipeline\n",
    "steps = [('smote', sm), ('rfc', rfc)]\n",
    "\n",
    "# Create the pipeline\n",
    "smote_rfc = Pipeline(steps = steps)\n"
   ]
  },
  {
   "cell_type": "code",
   "execution_count": 100,
   "metadata": {},
   "outputs": [
    {
     "name": "stdout",
     "output_type": "stream",
     "text": [
      "Cross Validation mean score for Random Forest Classifier with SMOTE: \n",
      " Horse win: 0.317 \n",
      " Horse in Top 3: 0.554 \n",
      " Horse in Top 50%: 0.719\n"
     ]
    }
   ],
   "source": [
    "# Calculate the cross validation score\n",
    "# Round the score to 3 decimal places\n",
    "\n",
    "score_smote_rfc_win = cross_val_score(smote_rfc, X_train, y_train['HorseWin'],\n",
    "                                cv = kfold, scoring = 'f1').mean()\n",
    "score_smote_rfc_win = round(score_smote_rfc_win, 3)\n",
    "\n",
    "score_smote_rfc_top3 = cross_val_score(smote_rfc, X_train, y_train['HorseRankTop3'],\n",
    "                                    cv = kfold, scoring = 'f1').mean()\n",
    "score_smote_rfc_top3 = round(score_smote_rfc_top3, 3)\n",
    "\n",
    "score_smote_rfc_top50 = cross_val_score(smote_rfc, X_train, y_train['HorseRankTop50Percent'],\n",
    "                                    cv = kfold, scoring = 'f1').mean()\n",
    "score_smote_rfc_top50 = round(score_smote_rfc_top50, 3)\n",
    "\n",
    "# Print the cross validation score\n",
    "print(\"Cross Validation mean score for Random Forest Classifier with SMOTE:\",'\\n',\n",
    "        \"Horse win:\", score_smote_rfc_win,'\\n',\\\n",
    "        \"Horse in Top 3:\", score_smote_rfc_top3,'\\n',\\\n",
    "        \"Horse in Top 50%:\", score_smote_rfc_top50)\n",
    "        \n"
   ]
  },
  {
   "cell_type": "code",
   "execution_count": 101,
   "metadata": {},
   "outputs": [],
   "source": [
    "# Add the cross validation score to the table\n",
    "cross_val_score_table = cross_val_score_table.append({'Model': 'Random Forest Classifier with SMOTE',\n",
    "                                                        'HorseWin': score_smote_rfc_win,\n",
    "                                                        'HorseRankTop3': score_smote_rfc_top3,\n",
    "                                                        'HorseRankTop50Percent': score_smote_rfc_top50},\n",
    "                                                        ignore_index = True)"
   ]
  },
  {
   "cell_type": "code",
   "execution_count": 102,
   "metadata": {},
   "outputs": [
    {
     "name": "stdout",
     "output_type": "stream",
     "text": [
      "Running time for RFC + Smote is: 9.559 seconds\n"
     ]
    }
   ],
   "source": [
    "# Get the classification predictions (1 or 0)\n",
    "start_time5 = time.time()\n",
    "\n",
    "smote_rfc.fit(X_train, y_train['HorseWin'])\n",
    "smote_rfc_win = smote_rfc.predict(X_test)\n",
    "\n",
    "smote_rfc.fit(X_train, y_train['HorseRankTop3'])\n",
    "smote_rfc_top3 = smote_rfc.predict(X_test)\n",
    "\n",
    "smote_rfc.fit(X_train, y_train['HorseRankTop50Percent'])\n",
    "smote_rfc_top50 = smote_rfc.predict(X_test)\n",
    "\n",
    "print('Running time for RFC + Smote is:', round(time.time() - start_time5, 3), 'seconds')"
   ]
  },
  {
   "cell_type": "code",
   "execution_count": 103,
   "metadata": {},
   "outputs": [],
   "source": [
    "# Create new dataframe for predictions\n",
    "smote_rfc_pred = pd.DataFrame()\n",
    "smote_rfc_pred['RaceID'] = df_test['race_id']\n",
    "smote_rfc_pred['HorseID'] = df_test['horse_id']\n",
    "\n",
    "smote_rfc_pred['HorseWin'] = smote_rfc_win\n",
    "smote_rfc_pred['HorseRankTop3'] = smote_rfc_top3\n",
    "smote_rfc_pred['HorseRankTop50Percent'] = smote_rfc_top50\n",
    "\n",
    "# Write predictions into csv file.\n",
    "smote_rfc_pred.to_csv('smote_rfc_pred.csv')"
   ]
  },
  {
   "cell_type": "code",
   "execution_count": 104,
   "metadata": {},
   "outputs": [
    {
     "name": "stdout",
     "output_type": "stream",
     "text": [
      "F1 score for RFC + Smote: \n",
      " Horse win: 0.31 \n",
      " Horse in Top 3: 0.532 \n",
      " Horse in Top 50%: 0.71\n"
     ]
    }
   ],
   "source": [
    "# f1 score for RFC + Smote\n",
    "f1_win = round(f1_score(y_test['HorseWin'], smote_rfc_win), 3)\n",
    "f1_top3 = round(f1_score(y_test['HorseRankTop3'], smote_rfc_top3), 3)\n",
    "f1_top50 = round(f1_score(y_test['HorseRankTop50Percent'], smote_rfc_top50), 3)\n",
    "\n",
    "# Print the F1 score\n",
    "print(\"F1 score for RFC + Smote:\",'\\n',\n",
    "        \"Horse win:\", f1_win,'\\n',\\\n",
    "        \"Horse in Top 3:\", f1_top3,'\\n',\\\n",
    "        \"Horse in Top 50%:\", f1_top50)"
   ]
  },
  {
   "cell_type": "code",
   "execution_count": 105,
   "metadata": {},
   "outputs": [
    {
     "data": {
      "image/png": "[encoded data removed]",
      "text/plain": [
       "<Figure size 360x360 with 2 Axes>"
      ]
     },
     "metadata": {
      "needs_background": "light"
     },
     "output_type": "display_data"
    },
    {
     "name": "stdout",
     "output_type": "stream",
     "text": [
      "True positive rate for HorseWin: 0.441\n"
     ]
    }
   ],
   "source": [
    "# Confusion matrix for HorseWin\n",
    "cm = confusion_matrix(y_test['HorseWin'], smote_rfc_win)\n",
    "\n",
    "# Plot the confusion matrix\n",
    "plt.figure(figsize = (5,5))\n",
    "sns.heatmap(cm, annot = True, fmt = 'd', cmap = 'Blues')\n",
    "plt.title('Confusion Matrix for HorseWin')\n",
    "plt.xlabel('Predicted')\n",
    "plt.ylabel('Actual')\n",
    "plt.show()\n",
    "\n",
    "# Print true positive rate\n",
    "tpr = round(cm[1,1]/(cm[1,1]+cm[1,0]), 3)\n",
    "print('True positive rate for HorseWin:', tpr)\n"
   ]
  },
  {
   "cell_type": "code",
   "execution_count": 106,
   "metadata": {},
   "outputs": [
    {
     "data": {
      "image/png": "[encoded data removed]",
      "text/plain": [
       "<Figure size 360x360 with 1 Axes>"
      ]
     },
     "metadata": {
      "needs_background": "light"
     },
     "output_type": "display_data"
    },
    {
     "name": "stdout",
     "output_type": "stream",
     "text": [
      "PR AUC score for RFC + Smote: 0.236\n"
     ]
    }
   ],
   "source": [
    "# PR AUC Curve for HorseWin\n",
    "\n",
    "# Get the probabilities for HorseWin\n",
    "smote_rfc.fit(X_train, y_train['HorseWin'])\n",
    "smote_rfc_win_prob = smote_rfc.predict_proba(X_test)[:,1]\n",
    "\n",
    "# Calculate the precision and recall\n",
    "precision, recall, _ = precision_recall_curve(y_test['HorseWin'], smote_rfc_win_prob)\n",
    "\n",
    "# Calculate the PR AUC score\n",
    "pr_auc = round(auc(recall, precision), 3)\n",
    "\n",
    "# Plot the PR AUC curve\n",
    "plt.figure(figsize = (5,5))\n",
    "plt.plot(recall, precision, marker = '.', label = 'RFC + Smote')\n",
    "plt.xlabel('Recall')\n",
    "plt.ylabel('Precision')\n",
    "plt.legend()\n",
    "plt.show()\n",
    "\n",
    "# Show the PR AUC score\n",
    "print('PR AUC score for RFC + Smote:', pr_auc)\n"
   ]
  },
  {
   "cell_type": "code",
   "execution_count": 107,
   "metadata": {},
   "outputs": [
    {
     "data": {
      "text/html": [
       "<div>\n",
       "<style scoped>\n",
       "    .dataframe tbody tr th:only-of-type {\n",
       "        vertical-align: middle;\n",
       "    }\n",
       "\n",
       "    .dataframe tbody tr th {\n",
       "        vertical-align: top;\n",
       "    }\n",
       "\n",
       "    .dataframe thead th {\n",
       "        text-align: right;\n",
       "    }\n",
       "</style>\n",
       "<table border=\"1\" class=\"dataframe\">\n",
       "  <thead>\n",
       "    <tr style=\"text-align: right;\">\n",
       "      <th></th>\n",
       "      <th>Model</th>\n",
       "      <th>F1_HorseWin</th>\n",
       "      <th>F1_HorseRankTop3</th>\n",
       "      <th>F1_HorseRankTop50Percent</th>\n",
       "      <th>PR_AUC_Score</th>\n",
       "      <th>TPR</th>\n",
       "    </tr>\n",
       "  </thead>\n",
       "  <tbody>\n",
       "    <tr>\n",
       "      <th>0</th>\n",
       "      <td>Logistic Regression</td>\n",
       "      <td>0.045</td>\n",
       "      <td>0.446</td>\n",
       "      <td>0.721</td>\n",
       "      <td>0.268</td>\n",
       "      <td>0.027</td>\n",
       "    </tr>\n",
       "    <tr>\n",
       "      <th>1</th>\n",
       "      <td>Gaussian Naive Bayes</td>\n",
       "      <td>0.282</td>\n",
       "      <td>0.506</td>\n",
       "      <td>0.718</td>\n",
       "      <td>0.237</td>\n",
       "      <td>0.349</td>\n",
       "    </tr>\n",
       "    <tr>\n",
       "      <th>2</th>\n",
       "      <td>Random Forest Classifier</td>\n",
       "      <td>0.148</td>\n",
       "      <td>0.379</td>\n",
       "      <td>0.694</td>\n",
       "      <td>0.237</td>\n",
       "      <td>0.084</td>\n",
       "    </tr>\n",
       "    <tr>\n",
       "      <th>3</th>\n",
       "      <td>Random Forest Classifier with SMOTE</td>\n",
       "      <td>0.310</td>\n",
       "      <td>0.532</td>\n",
       "      <td>0.710</td>\n",
       "      <td>0.236</td>\n",
       "      <td>0.441</td>\n",
       "    </tr>\n",
       "  </tbody>\n",
       "</table>\n",
       "</div>"
      ],
      "text/plain": [
       "                                 Model  F1_HorseWin  F1_HorseRankTop3  \\\n",
       "0                  Logistic Regression        0.045             0.446   \n",
       "1                 Gaussian Naive Bayes        0.282             0.506   \n",
       "2             Random Forest Classifier        0.148             0.379   \n",
       "3  Random Forest Classifier with SMOTE        0.310             0.532   \n",
       "\n",
       "   F1_HorseRankTop50Percent  PR_AUC_Score    TPR  \n",
       "0                     0.721         0.268  0.027  \n",
       "1                     0.718         0.237  0.349  \n",
       "2                     0.694         0.237  0.084  \n",
       "3                     0.710         0.236  0.441  "
      ]
     },
     "execution_count": 107,
     "metadata": {},
     "output_type": "execute_result"
    }
   ],
   "source": [
    "# Append the F1 score and PR AUC score to the table\n",
    "f1_pr_auc_table = f1_pr_auc_table.append({'Model': 'Random Forest Classifier with SMOTE',\n",
    "                                            'F1_HorseWin': f1_win,\n",
    "                                            'F1_HorseRankTop3': f1_top3,\n",
    "                                            'F1_HorseRankTop50Percent': f1_top50,\n",
    "                                            'PR_AUC_Score': pr_auc,\n",
    "                                            'TPR': tpr},\n",
    "                                            ignore_index = True)\n",
    "\n",
    "# Print the table\n",
    "f1_pr_auc_table\n",
    "\n"
   ]
  },
  {
   "cell_type": "markdown",
   "metadata": {},
   "source": [
    "### View the final results of our 4 classification models"
   ]
  },
  {
   "cell_type": "code",
   "execution_count": 108,
   "metadata": {},
   "outputs": [
    {
     "data": {
      "text/html": [
       "<div>\n",
       "<style scoped>\n",
       "    .dataframe tbody tr th:only-of-type {\n",
       "        vertical-align: middle;\n",
       "    }\n",
       "\n",
       "    .dataframe tbody tr th {\n",
       "        vertical-align: top;\n",
       "    }\n",
       "\n",
       "    .dataframe thead th {\n",
       "        text-align: right;\n",
       "    }\n",
       "</style>\n",
       "<table border=\"1\" class=\"dataframe\">\n",
       "  <thead>\n",
       "    <tr style=\"text-align: right;\">\n",
       "      <th></th>\n",
       "      <th>Model</th>\n",
       "      <th>HorseWin</th>\n",
       "      <th>HorseRankTop3</th>\n",
       "      <th>HorseRankTop50Percent</th>\n",
       "    </tr>\n",
       "  </thead>\n",
       "  <tbody>\n",
       "    <tr>\n",
       "      <th>0</th>\n",
       "      <td>Logistic Regression</td>\n",
       "      <td>0.045</td>\n",
       "      <td>0.446</td>\n",
       "      <td>0.721</td>\n",
       "    </tr>\n",
       "    <tr>\n",
       "      <th>1</th>\n",
       "      <td>Gaussian Naive Bayes</td>\n",
       "      <td>0.317</td>\n",
       "      <td>0.543</td>\n",
       "      <td>0.730</td>\n",
       "    </tr>\n",
       "    <tr>\n",
       "      <th>2</th>\n",
       "      <td>Random Forest Classifier</td>\n",
       "      <td>0.187</td>\n",
       "      <td>0.461</td>\n",
       "      <td>0.710</td>\n",
       "    </tr>\n",
       "    <tr>\n",
       "      <th>3</th>\n",
       "      <td>Random Forest Classifier with SMOTE</td>\n",
       "      <td>0.317</td>\n",
       "      <td>0.554</td>\n",
       "      <td>0.719</td>\n",
       "    </tr>\n",
       "  </tbody>\n",
       "</table>\n",
       "</div>"
      ],
      "text/plain": [
       "                                 Model  HorseWin  HorseRankTop3  \\\n",
       "0                  Logistic Regression     0.045          0.446   \n",
       "1                 Gaussian Naive Bayes     0.317          0.543   \n",
       "2             Random Forest Classifier     0.187          0.461   \n",
       "3  Random Forest Classifier with SMOTE     0.317          0.554   \n",
       "\n",
       "   HorseRankTop50Percent  \n",
       "0                  0.721  \n",
       "1                  0.730  \n",
       "2                  0.710  \n",
       "3                  0.719  "
      ]
     },
     "execution_count": 108,
     "metadata": {},
     "output_type": "execute_result"
    }
   ],
   "source": [
    "# View the cross validation score table\n",
    "cross_val_score_table"
   ]
  },
  {
   "cell_type": "code",
   "execution_count": 109,
   "metadata": {},
   "outputs": [
    {
     "data": {
      "text/html": [
       "<div>\n",
       "<style scoped>\n",
       "    .dataframe tbody tr th:only-of-type {\n",
       "        vertical-align: middle;\n",
       "    }\n",
       "\n",
       "    .dataframe tbody tr th {\n",
       "        vertical-align: top;\n",
       "    }\n",
       "\n",
       "    .dataframe thead th {\n",
       "        text-align: right;\n",
       "    }\n",
       "</style>\n",
       "<table border=\"1\" class=\"dataframe\">\n",
       "  <thead>\n",
       "    <tr style=\"text-align: right;\">\n",
       "      <th></th>\n",
       "      <th>Model</th>\n",
       "      <th>F1_HorseWin</th>\n",
       "      <th>F1_HorseRankTop3</th>\n",
       "      <th>F1_HorseRankTop50Percent</th>\n",
       "      <th>PR_AUC_Score</th>\n",
       "      <th>TPR</th>\n",
       "    </tr>\n",
       "  </thead>\n",
       "  <tbody>\n",
       "    <tr>\n",
       "      <th>0</th>\n",
       "      <td>Logistic Regression</td>\n",
       "      <td>0.045</td>\n",
       "      <td>0.446</td>\n",
       "      <td>0.721</td>\n",
       "      <td>0.268</td>\n",
       "      <td>0.027</td>\n",
       "    </tr>\n",
       "    <tr>\n",
       "      <th>1</th>\n",
       "      <td>Gaussian Naive Bayes</td>\n",
       "      <td>0.282</td>\n",
       "      <td>0.506</td>\n",
       "      <td>0.718</td>\n",
       "      <td>0.237</td>\n",
       "      <td>0.349</td>\n",
       "    </tr>\n",
       "    <tr>\n",
       "      <th>2</th>\n",
       "      <td>Random Forest Classifier</td>\n",
       "      <td>0.148</td>\n",
       "      <td>0.379</td>\n",
       "      <td>0.694</td>\n",
       "      <td>0.237</td>\n",
       "      <td>0.084</td>\n",
       "    </tr>\n",
       "    <tr>\n",
       "      <th>3</th>\n",
       "      <td>Random Forest Classifier with SMOTE</td>\n",
       "      <td>0.310</td>\n",
       "      <td>0.532</td>\n",
       "      <td>0.710</td>\n",
       "      <td>0.236</td>\n",
       "      <td>0.441</td>\n",
       "    </tr>\n",
       "  </tbody>\n",
       "</table>\n",
       "</div>"
      ],
      "text/plain": [
       "                                 Model  F1_HorseWin  F1_HorseRankTop3  \\\n",
       "0                  Logistic Regression        0.045             0.446   \n",
       "1                 Gaussian Naive Bayes        0.282             0.506   \n",
       "2             Random Forest Classifier        0.148             0.379   \n",
       "3  Random Forest Classifier with SMOTE        0.310             0.532   \n",
       "\n",
       "   F1_HorseRankTop50Percent  PR_AUC_Score    TPR  \n",
       "0                     0.721         0.268  0.027  \n",
       "1                     0.718         0.237  0.349  \n",
       "2                     0.694         0.237  0.084  \n",
       "3                     0.710         0.236  0.441  "
      ]
     },
     "execution_count": 109,
     "metadata": {},
     "output_type": "execute_result"
    }
   ],
   "source": [
    "# View the F1 score and PR AUC score table\n",
    "f1_pr_auc_table"
   ]
  },
  {
   "cell_type": "markdown",
   "metadata": {},
   "source": [
    "We will choose the Random Forest Classifer with SMOTE as our model."
   ]
  }
 ],
 "metadata": {
  "kernelspec": {
   "display_name": "Python 3 (ipykernel)",
   "language": "python",
   "name": "python3"
  },
  "language_info": {
   "codemirror_mode": {
    "name": "ipython",
    "version": 3
   },
   "file_extension": ".py",
   "mimetype": "text/x-python",
   "name": "python",
   "nbconvert_exporter": "python",
   "pygments_lexer": "ipython3",
   "version": "3.9.7"
  },
  "vscode": {
   "interpreter": {
    "hash": "fc902f5f9f1b4ac8244fa2d1a71d10e1bb8b95bd909217946ac119cb82bcf206"
   }
  }
 },
 "nbformat": 4,
 "nbformat_minor": 2
}
