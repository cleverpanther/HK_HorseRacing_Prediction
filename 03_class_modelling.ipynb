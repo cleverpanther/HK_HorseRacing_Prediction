{
 "cells": [
  {
   "cell_type": "markdown",
   "metadata": {},
   "source": [
    "# Part 3: Horse Race Prediction\n",
    "## Classification Modelling\n",
    "- In this section, we want to classify if a horse can win the race, and which three horses will be ranked in the top 3."
   ]
  },
  {
   "cell_type": "code",
   "execution_count": 2,
   "metadata": {},
   "outputs": [],
   "source": [
    "import numpy as np\n",
    "import pandas as pd\n",
    "import matplotlib.pyplot as plt\n",
    "import seaborn as sns\n",
    "\n",
    "from sklearn.linear_model import LogisticRegression\n",
    "from sklearn.model_selection import KFold\n",
    "from sklearn.model_selection import cross_val_score\n",
    "\n",
    "from sklearn.naive_bayes import GaussianNB\n",
    "from sklearn.ensemble import RandomForestClassifier\n",
    "from sklearn.svm import SVC\n",
    "\n",
    "from sklearn.metrics import f1_score, roc_curve, auc, confusion_matrix, average_precision_score\n",
    "from sklearn.metrics import precision_recall_curve\n",
    "from sklearn.metrics import plot_precision_recall_curve\n",
    "\n",
    "from imblearn.over_sampling import SMOTE\n",
    "from imblearn.pipeline import Pipeline\n",
    "\n",
    "import joblib\n",
    "import pickle\n",
    "import time\n",
    "\n",
    "import warnings\n",
    "warnings.filterwarnings(\"ignore\")\n",
    "\n",
    "%matplotlib inline"
   ]
  },
  {
   "cell_type": "code",
   "execution_count": 3,
   "metadata": {},
   "outputs": [],
   "source": [
    "# Read the train and test files\n",
    "df_train = pd.read_csv('./data/df_train.csv', index_col=0)\n",
    "df_test = pd.read_csv('./data/df_test.csv', index_col=0)"
   ]
  },
  {
   "cell_type": "code",
   "execution_count": 4,
   "metadata": {},
   "outputs": [
    {
     "name": "stdout",
     "output_type": "stream",
     "text": [
      "(23500, 26)\n",
      "(5864, 26)\n"
     ]
    }
   ],
   "source": [
    "# View the shape of the train and test files\n",
    "print(df_train.shape)\n",
    "print(df_test.shape)"
   ]
  },
  {
   "cell_type": "code",
   "execution_count": 5,
   "metadata": {},
   "outputs": [
    {
     "data": {
      "text/html": [
       "<div>\n",
       "<style scoped>\n",
       "    .dataframe tbody tr th:only-of-type {\n",
       "        vertical-align: middle;\n",
       "    }\n",
       "\n",
       "    .dataframe tbody tr th {\n",
       "        vertical-align: top;\n",
       "    }\n",
       "\n",
       "    .dataframe thead th {\n",
       "        text-align: right;\n",
       "    }\n",
       "</style>\n",
       "<table border=\"1\" class=\"dataframe\">\n",
       "  <thead>\n",
       "    <tr style=\"text-align: right;\">\n",
       "      <th></th>\n",
       "      <th>horse_number</th>\n",
       "      <th>horse_name</th>\n",
       "      <th>horse_id</th>\n",
       "      <th>jockey</th>\n",
       "      <th>trainer</th>\n",
       "      <th>actual_weight</th>\n",
       "      <th>declared_horse_weight</th>\n",
       "      <th>draw</th>\n",
       "      <th>length_behind_winner</th>\n",
       "      <th>running_position_1</th>\n",
       "      <th>...</th>\n",
       "      <th>running_position_6</th>\n",
       "      <th>race_id</th>\n",
       "      <th>recent_6_runs</th>\n",
       "      <th>recent_ave_rank</th>\n",
       "      <th>race_distance</th>\n",
       "      <th>HorseWin</th>\n",
       "      <th>HorseRankTop3</th>\n",
       "      <th>HorseRankTop50Percent</th>\n",
       "      <th>jockey_ave_rank</th>\n",
       "      <th>trainer_ave_rank</th>\n",
       "    </tr>\n",
       "    <tr>\n",
       "      <th>finishing_position</th>\n",
       "      <th></th>\n",
       "      <th></th>\n",
       "      <th></th>\n",
       "      <th></th>\n",
       "      <th></th>\n",
       "      <th></th>\n",
       "      <th></th>\n",
       "      <th></th>\n",
       "      <th></th>\n",
       "      <th></th>\n",
       "      <th></th>\n",
       "      <th></th>\n",
       "      <th></th>\n",
       "      <th></th>\n",
       "      <th></th>\n",
       "      <th></th>\n",
       "      <th></th>\n",
       "      <th></th>\n",
       "      <th></th>\n",
       "      <th></th>\n",
       "      <th></th>\n",
       "    </tr>\n",
       "  </thead>\n",
       "  <tbody>\n",
       "    <tr>\n",
       "      <th>1</th>\n",
       "      <td>1.0</td>\n",
       "      <td>DOUBLE DRAGON</td>\n",
       "      <td>K019</td>\n",
       "      <td>B Prebble</td>\n",
       "      <td>D Cruz</td>\n",
       "      <td>133</td>\n",
       "      <td>1032</td>\n",
       "      <td>1</td>\n",
       "      <td>-</td>\n",
       "      <td>1.0</td>\n",
       "      <td>...</td>\n",
       "      <td>NaN</td>\n",
       "      <td>2014-001</td>\n",
       "      <td>1</td>\n",
       "      <td>1.0</td>\n",
       "      <td>1400</td>\n",
       "      <td>1</td>\n",
       "      <td>1</td>\n",
       "      <td>1</td>\n",
       "      <td>6.052910</td>\n",
       "      <td>7.381862</td>\n",
       "    </tr>\n",
       "    <tr>\n",
       "      <th>2</th>\n",
       "      <td>2.0</td>\n",
       "      <td>PLAIN BLUE BANNER</td>\n",
       "      <td>S070</td>\n",
       "      <td>D Whyte</td>\n",
       "      <td>D E Ferraris</td>\n",
       "      <td>133</td>\n",
       "      <td>1075</td>\n",
       "      <td>13</td>\n",
       "      <td>2</td>\n",
       "      <td>8.0</td>\n",
       "      <td>...</td>\n",
       "      <td>NaN</td>\n",
       "      <td>2014-001</td>\n",
       "      <td>2</td>\n",
       "      <td>2.0</td>\n",
       "      <td>1400</td>\n",
       "      <td>0</td>\n",
       "      <td>1</td>\n",
       "      <td>1</td>\n",
       "      <td>5.825153</td>\n",
       "      <td>6.611465</td>\n",
       "    </tr>\n",
       "  </tbody>\n",
       "</table>\n",
       "<p>2 rows × 26 columns</p>\n",
       "</div>"
      ],
      "text/plain": [
       "                    horse_number         horse_name horse_id     jockey  \\\n",
       "finishing_position                                                        \n",
       "1                            1.0      DOUBLE DRAGON     K019  B Prebble   \n",
       "2                            2.0  PLAIN BLUE BANNER     S070    D Whyte   \n",
       "\n",
       "                         trainer  actual_weight  declared_horse_weight  draw  \\\n",
       "finishing_position                                                             \n",
       "1                         D Cruz            133                   1032     1   \n",
       "2                   D E Ferraris            133                   1075    13   \n",
       "\n",
       "                   length_behind_winner  running_position_1  ...  \\\n",
       "finishing_position                                           ...   \n",
       "1                                     -                 1.0  ...   \n",
       "2                                     2                 8.0  ...   \n",
       "\n",
       "                    running_position_6   race_id  recent_6_runs  \\\n",
       "finishing_position                                                \n",
       "1                                  NaN  2014-001              1   \n",
       "2                                  NaN  2014-001              2   \n",
       "\n",
       "                   recent_ave_rank  race_distance  HorseWin  HorseRankTop3  \\\n",
       "finishing_position                                                           \n",
       "1                              1.0           1400         1              1   \n",
       "2                              2.0           1400         0              1   \n",
       "\n",
       "                   HorseRankTop50Percent jockey_ave_rank  trainer_ave_rank  \n",
       "finishing_position                                                          \n",
       "1                                      1        6.052910          7.381862  \n",
       "2                                      1        5.825153          6.611465  \n",
       "\n",
       "[2 rows x 26 columns]"
      ]
     },
     "execution_count": 5,
     "metadata": {},
     "output_type": "execute_result"
    }
   ],
   "source": [
    "# View the first 2 rows of the train file\n",
    "df_train.head(2)"
   ]
  },
  {
   "cell_type": "code",
   "execution_count": 6,
   "metadata": {},
   "outputs": [
    {
     "data": {
      "text/html": [
       "<div>\n",
       "<style scoped>\n",
       "    .dataframe tbody tr th:only-of-type {\n",
       "        vertical-align: middle;\n",
       "    }\n",
       "\n",
       "    .dataframe tbody tr th {\n",
       "        vertical-align: top;\n",
       "    }\n",
       "\n",
       "    .dataframe thead th {\n",
       "        text-align: right;\n",
       "    }\n",
       "</style>\n",
       "<table border=\"1\" class=\"dataframe\">\n",
       "  <thead>\n",
       "    <tr style=\"text-align: right;\">\n",
       "      <th></th>\n",
       "      <th>horse_number</th>\n",
       "      <th>horse_name</th>\n",
       "      <th>horse_id</th>\n",
       "      <th>jockey</th>\n",
       "      <th>trainer</th>\n",
       "      <th>actual_weight</th>\n",
       "      <th>declared_horse_weight</th>\n",
       "      <th>draw</th>\n",
       "      <th>length_behind_winner</th>\n",
       "      <th>running_position_1</th>\n",
       "      <th>...</th>\n",
       "      <th>running_position_6</th>\n",
       "      <th>race_id</th>\n",
       "      <th>recent_6_runs</th>\n",
       "      <th>recent_ave_rank</th>\n",
       "      <th>race_distance</th>\n",
       "      <th>HorseWin</th>\n",
       "      <th>HorseRankTop3</th>\n",
       "      <th>HorseRankTop50Percent</th>\n",
       "      <th>jockey_ave_rank</th>\n",
       "      <th>trainer_ave_rank</th>\n",
       "    </tr>\n",
       "    <tr>\n",
       "      <th>finishing_position</th>\n",
       "      <th></th>\n",
       "      <th></th>\n",
       "      <th></th>\n",
       "      <th></th>\n",
       "      <th></th>\n",
       "      <th></th>\n",
       "      <th></th>\n",
       "      <th></th>\n",
       "      <th></th>\n",
       "      <th></th>\n",
       "      <th></th>\n",
       "      <th></th>\n",
       "      <th></th>\n",
       "      <th></th>\n",
       "      <th></th>\n",
       "      <th></th>\n",
       "      <th></th>\n",
       "      <th></th>\n",
       "      <th></th>\n",
       "      <th></th>\n",
       "      <th></th>\n",
       "    </tr>\n",
       "  </thead>\n",
       "  <tbody>\n",
       "    <tr>\n",
       "      <th>1</th>\n",
       "      <td>5.0</td>\n",
       "      <td>POWERMAX</td>\n",
       "      <td>A009</td>\n",
       "      <td>N Callan</td>\n",
       "      <td>R Gibson</td>\n",
       "      <td>126</td>\n",
       "      <td>1124</td>\n",
       "      <td>9</td>\n",
       "      <td>-</td>\n",
       "      <td>2.0</td>\n",
       "      <td>...</td>\n",
       "      <td>NaN</td>\n",
       "      <td>2016-328</td>\n",
       "      <td>1/4/3/3</td>\n",
       "      <td>2.7500</td>\n",
       "      <td>1200</td>\n",
       "      <td>1</td>\n",
       "      <td>1</td>\n",
       "      <td>1</td>\n",
       "      <td>6.438751</td>\n",
       "      <td>6.715420</td>\n",
       "    </tr>\n",
       "    <tr>\n",
       "      <th>2</th>\n",
       "      <td>2.0</td>\n",
       "      <td>BUDDY BUNDY</td>\n",
       "      <td>T157</td>\n",
       "      <td>K K Chiong</td>\n",
       "      <td>D Cruz</td>\n",
       "      <td>127</td>\n",
       "      <td>1193</td>\n",
       "      <td>8</td>\n",
       "      <td>SH</td>\n",
       "      <td>1.0</td>\n",
       "      <td>...</td>\n",
       "      <td>NaN</td>\n",
       "      <td>2016-328</td>\n",
       "      <td>2/11/5/2/6/9</td>\n",
       "      <td>6.8125</td>\n",
       "      <td>1200</td>\n",
       "      <td>0</td>\n",
       "      <td>1</td>\n",
       "      <td>1</td>\n",
       "      <td>6.499033</td>\n",
       "      <td>7.381862</td>\n",
       "    </tr>\n",
       "  </tbody>\n",
       "</table>\n",
       "<p>2 rows × 26 columns</p>\n",
       "</div>"
      ],
      "text/plain": [
       "                    horse_number   horse_name horse_id      jockey   trainer  \\\n",
       "finishing_position                                                             \n",
       "1                            5.0     POWERMAX     A009    N Callan  R Gibson   \n",
       "2                            2.0  BUDDY BUNDY     T157  K K Chiong    D Cruz   \n",
       "\n",
       "                    actual_weight  declared_horse_weight  draw  \\\n",
       "finishing_position                                               \n",
       "1                             126                   1124     9   \n",
       "2                             127                   1193     8   \n",
       "\n",
       "                   length_behind_winner  running_position_1  ...  \\\n",
       "finishing_position                                           ...   \n",
       "1                                     -                 2.0  ...   \n",
       "2                                    SH                 1.0  ...   \n",
       "\n",
       "                    running_position_6   race_id  recent_6_runs  \\\n",
       "finishing_position                                                \n",
       "1                                  NaN  2016-328        1/4/3/3   \n",
       "2                                  NaN  2016-328   2/11/5/2/6/9   \n",
       "\n",
       "                   recent_ave_rank  race_distance  HorseWin  HorseRankTop3  \\\n",
       "finishing_position                                                           \n",
       "1                           2.7500           1200         1              1   \n",
       "2                           6.8125           1200         0              1   \n",
       "\n",
       "                   HorseRankTop50Percent jockey_ave_rank  trainer_ave_rank  \n",
       "finishing_position                                                          \n",
       "1                                      1        6.438751          6.715420  \n",
       "2                                      1        6.499033          7.381862  \n",
       "\n",
       "[2 rows x 26 columns]"
      ]
     },
     "execution_count": 6,
     "metadata": {},
     "output_type": "execute_result"
    }
   ],
   "source": [
    "# View the first 2 rows of the test files\n",
    "df_test.head(2)"
   ]
  },
  {
   "cell_type": "code",
   "execution_count": 7,
   "metadata": {},
   "outputs": [],
   "source": [
    "# Keep the features we want to train our model on\n",
    "X_train = df_train[['actual_weight', 'declared_horse_weight',\n",
    "                    'draw', 'win_odds', 'jockey_ave_rank',\n",
    "                    'trainer_ave_rank', 'recent_ave_rank', 'race_distance']]\n",
    "\n",
    "y_train = df_train[['HorseWin', 'HorseRankTop3', 'HorseRankTop50Percent']]\n",
    "\n",
    "# Keep the features we want to train our model on\n",
    "X_test = df_test[['actual_weight', 'declared_horse_weight',\n",
    "                   'draw', 'win_odds','jockey_ave_rank',\n",
    "                    'trainer_ave_rank', 'recent_ave_rank', 'race_distance']]\n",
    "                    \n",
    "y_test = df_test[['HorseWin', 'HorseRankTop3', 'HorseRankTop50Percent']]"
   ]
  },
  {
   "cell_type": "code",
   "execution_count": 8,
   "metadata": {},
   "outputs": [
    {
     "name": "stdout",
     "output_type": "stream",
     "text": [
      "(23500, 8)\n",
      "(23500, 3)\n",
      "(5864, 8)\n",
      "(5864, 3)\n"
     ]
    }
   ],
   "source": [
    "# View the shape of the train and test files\n",
    "print(X_train.shape)\n",
    "print(y_train.shape)\n",
    "print(X_test.shape)\n",
    "print(y_test.shape)"
   ]
  },
  {
   "cell_type": "code",
   "execution_count": 9,
   "metadata": {},
   "outputs": [
    {
     "data": {
      "text/plain": [
       "HorseWin                 0.080128\n",
       "HorseRankTop3            0.239787\n",
       "HorseRankTop50Percent    0.499489\n",
       "dtype: float64"
      ]
     },
     "execution_count": 9,
     "metadata": {},
     "output_type": "execute_result"
    }
   ],
   "source": [
    "# Check the mean of the target variable\n",
    "y_train.mean()"
   ]
  },
  {
   "cell_type": "markdown",
   "metadata": {},
   "source": [
    "We can see that there is data imbalance for the HorseWin and HorseRankTop3 variables, so we need to account for these later when modelling."
   ]
  },
  {
   "cell_type": "code",
   "execution_count": 10,
   "metadata": {},
   "outputs": [],
   "source": [
    "# Specify kfold cross validation\n",
    "kfold = KFold(n_splits=5)"
   ]
  },
  {
   "cell_type": "markdown",
   "metadata": {},
   "source": [
    "### Define functions to run and evaluate models"
   ]
  },
  {
   "cell_type": "code",
   "execution_count": 11,
   "metadata": {},
   "outputs": [],
   "source": [
    "# Create an empty dataframe to store the results\n",
    "df_results = pd.DataFrame(columns=['Model', 'Prediction', 'CV', 'F1 Score', 'AUC', 'TPR'])"
   ]
  },
  {
   "cell_type": "code",
   "execution_count": 12,
   "metadata": {},
   "outputs": [],
   "source": [
    "# Define a function to run the model\n",
    "def run_model(model, X_train, y_train, X_test, y_test, kfold):\n",
    "\n",
    "    # Create a dataframe to store the predictions\n",
    "    df_pred = pd.DataFrame()\n",
    "    df_pred['RaceID'] = df_test['race_id']\n",
    "    df_pred['HorseID'] = df_test['horse_id']\n",
    "\n",
    "    # Store model name\n",
    "    model_name = str(model).split('(')[0]\n",
    "\n",
    "    for column in ['HorseWin', 'HorseRankTop3']:\n",
    "\n",
    "        # Print the column name\n",
    "        print(f\"Results for model {model_name} and target variable {column}:\")\n",
    "        \n",
    "        # Fit the model\n",
    "        model.fit(X_train, y_train[column].to_numpy())\n",
    "        \n",
    "        # Calculate the cross validation score\n",
    "        cv_score = cross_val_score(model, X_train, y_train[column].to_numpy(), cv=kfold, scoring='f1_weighted').mean()\n",
    "        cv_score = round(cv_score, 3)\n",
    "        \n",
    "        # Make predictions\n",
    "        y_pred = model.predict(X_test)\n",
    "\n",
    "        # Store the predictions in the dataframe\n",
    "        df_pred[column] = y_pred\n",
    "        \n",
    "        # Calculate the f1 score\n",
    "        f1 = f1_score(y_test[column].to_numpy(), y_pred, average='weighted')\n",
    "        f1 = round(f1, 3)\n",
    "        \n",
    "        # Calculate PR AUC\n",
    "        pr_auc = average_precision_score(y_test[column].to_numpy(), y_pred, average='weighted')\n",
    "        pr_auc = round(pr_auc, 3)\n",
    "\n",
    "        # Calculate TPR\n",
    "        tn, fp, fn, tp = confusion_matrix(y_test[column].to_numpy(), y_pred).ravel()\n",
    "        tpr = tp / (tp + fn)\n",
    "        tpr = round(tpr, 3)\n",
    "\n",
    "        # Append the results to the dataframe\n",
    "        df_results.loc[len(df_results)] = [model_name, column, cv_score, f1, pr_auc, tpr]\n",
    "\n",
    "        # Print the results\n",
    "        print('Cross Validation Score: ', cv_score)\n",
    "        print('F1 Score: ', f1)\n",
    "        print('PR AUC (Avg Precision): ', pr_auc)\n",
    "        print('TPR: ', tpr)\n",
    "\n",
    "        # Plot confusion matrix\n",
    "        plot_confusion_matrix(y_test, y_pred, column)\n",
    "\n",
    "        # Plot precision recall curve\n",
    "        plot_pr_auc(X_test, y_test, model, column)\n",
    "\n",
    "    return df_pred"
   ]
  },
  {
   "cell_type": "code",
   "execution_count": 13,
   "metadata": {},
   "outputs": [],
   "source": [
    "# Define plot confusion matrix function\n",
    "def plot_confusion_matrix(y_test, y_pred, column):\n",
    "    # Calculate the confusion matrix\n",
    "    cm = confusion_matrix(y_test[column].to_numpy(), y_pred)\n",
    "    cm = pd.DataFrame(cm, columns=['Predicted 0', 'Predicted 1'], index=['Actual 0', 'Actual 1'])\n",
    "\n",
    "    # Plot the confusion matrix\n",
    "    plt.figure(figsize=(8, 6))\n",
    "    sns.heatmap(cm, annot=True, fmt='d', cmap='Blues')\n",
    "    plt.title('Confusion Matrix for ' + column)\n",
    "    plt.show()"
   ]
  },
  {
   "cell_type": "code",
   "execution_count": 14,
   "metadata": {},
   "outputs": [],
   "source": [
    "# Define plot PR AUC function\n",
    "def plot_pr_auc(X_test, y_test, model, column):\n",
    "    # Get the probabilities of the predictions\n",
    "    win_prob = model.predict_proba(X_test)[:, 1]\n",
    "\n",
    "    # Get the precision and recall\n",
    "    precision, recall, thresholds = precision_recall_curve(y_test[column], win_prob)\n",
    "\n",
    "    # Calculate proportion of positive class\n",
    "    proportion_pos_class = y_test[column].mean()\n",
    "    \n",
    "    # Print the PR AUC score\n",
    "    pr_auc = round(auc(recall, precision),3)\n",
    "    print(f'PR AUC score for {column}:', pr_auc)\n",
    "\n",
    "    # Plot the PR AUC curve\n",
    "    plt.figure(figsize = (8, 6))\n",
    "    plt.plot([0, 1], [proportion_pos_class, proportion_pos_class], linestyle = '--')\n",
    "    plt.plot(recall, precision, marker = '.')\n",
    "    plt.title(f'PR AUC Curve for {column}')\n",
    "    plt.xlabel('Recall')\n",
    "    plt.ylabel('Precision')\n",
    "    plt.show()    "
   ]
  },
  {
   "cell_type": "markdown",
   "metadata": {},
   "source": [
    "### Model 1: Logistic Regression"
   ]
  },
  {
   "cell_type": "code",
   "execution_count": 15,
   "metadata": {},
   "outputs": [],
   "source": [
    "# Initialize the model\n",
    "lr = LogisticRegression()"
   ]
  },
  {
   "cell_type": "code",
   "execution_count": 16,
   "metadata": {},
   "outputs": [
    {
     "name": "stdout",
     "output_type": "stream",
     "text": [
      "Results for model LogisticRegression and target variable HorseWin:\n",
      "Cross Validation Score:  0.886\n",
      "F1 Score:  0.885\n",
      "PR AUC (Avg Precision):  0.106\n",
      "TPR:  0.027\n"
     ]
    },
    {
     "data": {
      "image/png": "[encoded data removed]",
      "text/plain": [
       "<Figure size 576x432 with 2 Axes>"
      ]
     },
     "metadata": {
      "needs_background": "light"
     },
     "output_type": "display_data"
    },
    {
     "name": "stdout",
     "output_type": "stream",
     "text": [
      "PR AUC score for HorseWin: 0.297\n"
     ]
    },
    {
     "data": {
      "image/png": "[encoded data removed]",
      "text/plain": [
       "<Figure size 576x432 with 1 Axes>"
      ]
     },
     "metadata": {
      "needs_background": "light"
     },
     "output_type": "display_data"
    },
    {
     "name": "stdout",
     "output_type": "stream",
     "text": [
      "Results for model LogisticRegression and target variable HorseRankTop3:\n",
      "Cross Validation Score:  0.774\n",
      "F1 Score:  0.744\n",
      "PR AUC (Avg Precision):  0.34\n",
      "TPR:  0.252\n"
     ]
    },
    {
     "data": {
      "image/png": "[encoded data removed]",
      "text/plain": [
       "<Figure size 576x432 with 2 Axes>"
      ]
     },
     "metadata": {
      "needs_background": "light"
     },
     "output_type": "display_data"
    },
    {
     "name": "stdout",
     "output_type": "stream",
     "text": [
      "PR AUC score for HorseRankTop3: 0.539\n"
     ]
    },
    {
     "data": {
      "image/png": "[encoded data removed]",
      "text/plain": [
       "<Figure size 576x432 with 1 Axes>"
      ]
     },
     "metadata": {
      "needs_background": "light"
     },
     "output_type": "display_data"
    }
   ],
   "source": [
    "# Run Logistics Regression model\n",
    "lr_pred = run_model(lr, X_train, y_train, X_test, y_test, kfold)"
   ]
  },
  {
   "cell_type": "code",
   "execution_count": 17,
   "metadata": {},
   "outputs": [
    {
     "data": {
      "text/html": [
       "<div>\n",
       "<style scoped>\n",
       "    .dataframe tbody tr th:only-of-type {\n",
       "        vertical-align: middle;\n",
       "    }\n",
       "\n",
       "    .dataframe tbody tr th {\n",
       "        vertical-align: top;\n",
       "    }\n",
       "\n",
       "    .dataframe thead th {\n",
       "        text-align: right;\n",
       "    }\n",
       "</style>\n",
       "<table border=\"1\" class=\"dataframe\">\n",
       "  <thead>\n",
       "    <tr style=\"text-align: right;\">\n",
       "      <th></th>\n",
       "      <th>Model</th>\n",
       "      <th>Prediction</th>\n",
       "      <th>CV</th>\n",
       "      <th>F1 Score</th>\n",
       "      <th>AUC</th>\n",
       "      <th>TPR</th>\n",
       "    </tr>\n",
       "  </thead>\n",
       "  <tbody>\n",
       "    <tr>\n",
       "      <th>0</th>\n",
       "      <td>LogisticRegression</td>\n",
       "      <td>HorseWin</td>\n",
       "      <td>0.886</td>\n",
       "      <td>0.885</td>\n",
       "      <td>0.106</td>\n",
       "      <td>0.027</td>\n",
       "    </tr>\n",
       "    <tr>\n",
       "      <th>1</th>\n",
       "      <td>LogisticRegression</td>\n",
       "      <td>HorseRankTop3</td>\n",
       "      <td>0.774</td>\n",
       "      <td>0.744</td>\n",
       "      <td>0.340</td>\n",
       "      <td>0.252</td>\n",
       "    </tr>\n",
       "  </tbody>\n",
       "</table>\n",
       "</div>"
      ],
      "text/plain": [
       "                Model     Prediction     CV  F1 Score    AUC    TPR\n",
       "0  LogisticRegression       HorseWin  0.886     0.885  0.106  0.027\n",
       "1  LogisticRegression  HorseRankTop3  0.774     0.744  0.340  0.252"
      ]
     },
     "execution_count": 17,
     "metadata": {},
     "output_type": "execute_result"
    }
   ],
   "source": [
    "# Print the results\n",
    "df_results"
   ]
  },
  {
   "cell_type": "markdown",
   "metadata": {},
   "source": [
    "### Model 2: Naive Bayes"
   ]
  },
  {
   "cell_type": "code",
   "execution_count": 18,
   "metadata": {},
   "outputs": [],
   "source": [
    "# Initialize the model\n",
    "gnb = GaussianNB()"
   ]
  },
  {
   "cell_type": "code",
   "execution_count": 19,
   "metadata": {},
   "outputs": [
    {
     "name": "stdout",
     "output_type": "stream",
     "text": [
      "Results for model GaussianNB and target variable HorseWin:\n",
      "Cross Validation Score:  0.873\n",
      "F1 Score:  0.867\n",
      "PR AUC (Avg Precision):  0.136\n",
      "TPR:  0.349\n"
     ]
    },
    {
     "data": {
      "image/png": "[encoded data removed]",
      "text/plain": [
       "<Figure size 576x432 with 2 Axes>"
      ]
     },
     "metadata": {
      "needs_background": "light"
     },
     "output_type": "display_data"
    },
    {
     "name": "stdout",
     "output_type": "stream",
     "text": [
      "PR AUC score for HorseWin: 0.239\n"
     ]
    },
    {
     "data": {
      "image/png": "[encoded data removed]",
      "text/plain": [
       "<Figure size 576x432 with 1 Axes>"
      ]
     },
     "metadata": {
      "needs_background": "light"
     },
     "output_type": "display_data"
    },
    {
     "name": "stdout",
     "output_type": "stream",
     "text": [
      "Results for model GaussianNB and target variable HorseRankTop3:\n",
      "Cross Validation Score:  0.748\n",
      "F1 Score:  0.726\n",
      "PR AUC (Avg Precision):  0.359\n",
      "TPR:  0.603\n"
     ]
    },
    {
     "data": {
      "image/png": "[encoded data removed]",
      "text/plain": [
       "<Figure size 576x432 with 2 Axes>"
      ]
     },
     "metadata": {
      "needs_background": "light"
     },
     "output_type": "display_data"
    },
    {
     "name": "stdout",
     "output_type": "stream",
     "text": [
      "PR AUC score for HorseRankTop3: 0.493\n"
     ]
    },
    {
     "data": {
      "image/png": "[encoded data removed]",
      "text/plain": [
       "<Figure size 576x432 with 1 Axes>"
      ]
     },
     "metadata": {
      "needs_background": "light"
     },
     "output_type": "display_data"
    }
   ],
   "source": [
    "# Run Naive Bayes model\n",
    "gnb_pred = run_model(gnb, X_train, y_train, X_test, y_test, kfold)"
   ]
  },
  {
   "cell_type": "code",
   "execution_count": 20,
   "metadata": {},
   "outputs": [
    {
     "data": {
      "text/html": [
       "<div>\n",
       "<style scoped>\n",
       "    .dataframe tbody tr th:only-of-type {\n",
       "        vertical-align: middle;\n",
       "    }\n",
       "\n",
       "    .dataframe tbody tr th {\n",
       "        vertical-align: top;\n",
       "    }\n",
       "\n",
       "    .dataframe thead th {\n",
       "        text-align: right;\n",
       "    }\n",
       "</style>\n",
       "<table border=\"1\" class=\"dataframe\">\n",
       "  <thead>\n",
       "    <tr style=\"text-align: right;\">\n",
       "      <th></th>\n",
       "      <th>Model</th>\n",
       "      <th>Prediction</th>\n",
       "      <th>CV</th>\n",
       "      <th>F1 Score</th>\n",
       "      <th>AUC</th>\n",
       "      <th>TPR</th>\n",
       "    </tr>\n",
       "  </thead>\n",
       "  <tbody>\n",
       "    <tr>\n",
       "      <th>0</th>\n",
       "      <td>LogisticRegression</td>\n",
       "      <td>HorseWin</td>\n",
       "      <td>0.886</td>\n",
       "      <td>0.885</td>\n",
       "      <td>0.106</td>\n",
       "      <td>0.027</td>\n",
       "    </tr>\n",
       "    <tr>\n",
       "      <th>1</th>\n",
       "      <td>LogisticRegression</td>\n",
       "      <td>HorseRankTop3</td>\n",
       "      <td>0.774</td>\n",
       "      <td>0.744</td>\n",
       "      <td>0.340</td>\n",
       "      <td>0.252</td>\n",
       "    </tr>\n",
       "    <tr>\n",
       "      <th>2</th>\n",
       "      <td>GaussianNB</td>\n",
       "      <td>HorseWin</td>\n",
       "      <td>0.873</td>\n",
       "      <td>0.867</td>\n",
       "      <td>0.136</td>\n",
       "      <td>0.349</td>\n",
       "    </tr>\n",
       "    <tr>\n",
       "      <th>3</th>\n",
       "      <td>GaussianNB</td>\n",
       "      <td>HorseRankTop3</td>\n",
       "      <td>0.748</td>\n",
       "      <td>0.726</td>\n",
       "      <td>0.359</td>\n",
       "      <td>0.603</td>\n",
       "    </tr>\n",
       "  </tbody>\n",
       "</table>\n",
       "</div>"
      ],
      "text/plain": [
       "                Model     Prediction     CV  F1 Score    AUC    TPR\n",
       "0  LogisticRegression       HorseWin  0.886     0.885  0.106  0.027\n",
       "1  LogisticRegression  HorseRankTop3  0.774     0.744  0.340  0.252\n",
       "2          GaussianNB       HorseWin  0.873     0.867  0.136  0.349\n",
       "3          GaussianNB  HorseRankTop3  0.748     0.726  0.359  0.603"
      ]
     },
     "execution_count": 20,
     "metadata": {},
     "output_type": "execute_result"
    }
   ],
   "source": [
    "# Print the results\n",
    "df_results"
   ]
  },
  {
   "cell_type": "markdown",
   "metadata": {},
   "source": [
    "### Model 3: Random Forest Classifier"
   ]
  },
  {
   "cell_type": "code",
   "execution_count": 21,
   "metadata": {},
   "outputs": [],
   "source": [
    "# Initialize the model\n",
    "rfc = RandomForestClassifier(n_estimators = 100, random_state = 42)"
   ]
  },
  {
   "cell_type": "code",
   "execution_count": 22,
   "metadata": {},
   "outputs": [
    {
     "name": "stdout",
     "output_type": "stream",
     "text": [
      "Results for model RandomForestClassifier and target variable HorseWin:\n",
      "Cross Validation Score:  0.899\n",
      "F1 Score:  0.893\n",
      "PR AUC (Avg Precision):  0.128\n",
      "TPR:  0.084\n"
     ]
    },
    {
     "data": {
      "image/png": "[encoded data removed]",
      "text/plain": [
       "<Figure size 576x432 with 2 Axes>"
      ]
     },
     "metadata": {
      "needs_background": "light"
     },
     "output_type": "display_data"
    },
    {
     "name": "stdout",
     "output_type": "stream",
     "text": [
      "PR AUC score for HorseWin: 0.314\n"
     ]
    },
    {
     "data": {
      "image/png": "[encoded data removed]",
      "text/plain": [
       "<Figure size 576x432 with 1 Axes>"
      ]
     },
     "metadata": {
      "needs_background": "light"
     },
     "output_type": "display_data"
    },
    {
     "name": "stdout",
     "output_type": "stream",
     "text": [
      "Results for model RandomForestClassifier and target variable HorseRankTop3:\n",
      "Cross Validation Score:  0.78\n",
      "F1 Score:  0.751\n",
      "PR AUC (Avg Precision):  0.354\n",
      "TPR:  0.266\n"
     ]
    },
    {
     "data": {
      "image/png": "[encoded data removed]",
      "text/plain": [
       "<Figure size 576x432 with 2 Axes>"
      ]
     },
     "metadata": {
      "needs_background": "light"
     },
     "output_type": "display_data"
    },
    {
     "name": "stdout",
     "output_type": "stream",
     "text": [
      "PR AUC score for HorseRankTop3: 0.557\n"
     ]
    },
    {
     "data": {
      "image/png": "[encoded data removed]",
      "text/plain": [
       "<Figure size 576x432 with 1 Axes>"
      ]
     },
     "metadata": {
      "needs_background": "light"
     },
     "output_type": "display_data"
    }
   ],
   "source": [
    "# Run Random Forest model\n",
    "rfc_pred = run_model(rfc, X_train, y_train, X_test, y_test, kfold)"
   ]
  },
  {
   "cell_type": "code",
   "execution_count": 23,
   "metadata": {},
   "outputs": [
    {
     "data": {
      "text/html": [
       "<div>\n",
       "<style scoped>\n",
       "    .dataframe tbody tr th:only-of-type {\n",
       "        vertical-align: middle;\n",
       "    }\n",
       "\n",
       "    .dataframe tbody tr th {\n",
       "        vertical-align: top;\n",
       "    }\n",
       "\n",
       "    .dataframe thead th {\n",
       "        text-align: right;\n",
       "    }\n",
       "</style>\n",
       "<table border=\"1\" class=\"dataframe\">\n",
       "  <thead>\n",
       "    <tr style=\"text-align: right;\">\n",
       "      <th></th>\n",
       "      <th>Model</th>\n",
       "      <th>Prediction</th>\n",
       "      <th>CV</th>\n",
       "      <th>F1 Score</th>\n",
       "      <th>AUC</th>\n",
       "      <th>TPR</th>\n",
       "    </tr>\n",
       "  </thead>\n",
       "  <tbody>\n",
       "    <tr>\n",
       "      <th>0</th>\n",
       "      <td>LogisticRegression</td>\n",
       "      <td>HorseWin</td>\n",
       "      <td>0.886</td>\n",
       "      <td>0.885</td>\n",
       "      <td>0.106</td>\n",
       "      <td>0.027</td>\n",
       "    </tr>\n",
       "    <tr>\n",
       "      <th>1</th>\n",
       "      <td>LogisticRegression</td>\n",
       "      <td>HorseRankTop3</td>\n",
       "      <td>0.774</td>\n",
       "      <td>0.744</td>\n",
       "      <td>0.340</td>\n",
       "      <td>0.252</td>\n",
       "    </tr>\n",
       "    <tr>\n",
       "      <th>2</th>\n",
       "      <td>GaussianNB</td>\n",
       "      <td>HorseWin</td>\n",
       "      <td>0.873</td>\n",
       "      <td>0.867</td>\n",
       "      <td>0.136</td>\n",
       "      <td>0.349</td>\n",
       "    </tr>\n",
       "    <tr>\n",
       "      <th>3</th>\n",
       "      <td>GaussianNB</td>\n",
       "      <td>HorseRankTop3</td>\n",
       "      <td>0.748</td>\n",
       "      <td>0.726</td>\n",
       "      <td>0.359</td>\n",
       "      <td>0.603</td>\n",
       "    </tr>\n",
       "    <tr>\n",
       "      <th>4</th>\n",
       "      <td>RandomForestClassifier</td>\n",
       "      <td>HorseWin</td>\n",
       "      <td>0.899</td>\n",
       "      <td>0.893</td>\n",
       "      <td>0.128</td>\n",
       "      <td>0.084</td>\n",
       "    </tr>\n",
       "    <tr>\n",
       "      <th>5</th>\n",
       "      <td>RandomForestClassifier</td>\n",
       "      <td>HorseRankTop3</td>\n",
       "      <td>0.780</td>\n",
       "      <td>0.751</td>\n",
       "      <td>0.354</td>\n",
       "      <td>0.266</td>\n",
       "    </tr>\n",
       "  </tbody>\n",
       "</table>\n",
       "</div>"
      ],
      "text/plain": [
       "                    Model     Prediction     CV  F1 Score    AUC    TPR\n",
       "0      LogisticRegression       HorseWin  0.886     0.885  0.106  0.027\n",
       "1      LogisticRegression  HorseRankTop3  0.774     0.744  0.340  0.252\n",
       "2              GaussianNB       HorseWin  0.873     0.867  0.136  0.349\n",
       "3              GaussianNB  HorseRankTop3  0.748     0.726  0.359  0.603\n",
       "4  RandomForestClassifier       HorseWin  0.899     0.893  0.128  0.084\n",
       "5  RandomForestClassifier  HorseRankTop3  0.780     0.751  0.354  0.266"
      ]
     },
     "execution_count": 23,
     "metadata": {},
     "output_type": "execute_result"
    }
   ],
   "source": [
    "# Print the results\n",
    "df_results"
   ]
  },
  {
   "cell_type": "markdown",
   "metadata": {},
   "source": [
    "### Model 4: SMOTE + Random Forest Classifier"
   ]
  },
  {
   "cell_type": "code",
   "execution_count": 24,
   "metadata": {},
   "outputs": [],
   "source": [
    "# Smote the training data\n",
    "sm = SMOTE(random_state = 42)\n",
    "rfc = RandomForestClassifier(max_depth=20, min_samples_leaf=10,\n",
    "                               random_state = 42)\n",
    "\n",
    "# Steps for the pipeline\n",
    "steps = [('smote', sm), ('rfc', rfc)]\n",
    "\n",
    "# Create the pipeline\n",
    "smote_rfc = Pipeline(steps = steps)\n"
   ]
  },
  {
   "cell_type": "code",
   "execution_count": 25,
   "metadata": {},
   "outputs": [
    {
     "name": "stdout",
     "output_type": "stream",
     "text": [
      "Results for model Pipeline and target variable HorseWin:\n",
      "Cross Validation Score:  0.863\n",
      "F1 Score:  0.861\n",
      "PR AUC (Avg Precision):  0.151\n",
      "TPR:  0.441\n"
     ]
    },
    {
     "data": {
      "image/png": "[encoded data removed]",
      "text/plain": [
       "<Figure size 576x432 with 2 Axes>"
      ]
     },
     "metadata": {
      "needs_background": "light"
     },
     "output_type": "display_data"
    },
    {
     "name": "stdout",
     "output_type": "stream",
     "text": [
      "PR AUC score for HorseWin: 0.236\n"
     ]
    },
    {
     "data": {
      "image/png": "[encoded data removed]",
      "text/plain": [
       "<Figure size 576x432 with 1 Axes>"
      ]
     },
     "metadata": {
      "needs_background": "light"
     },
     "output_type": "display_data"
    },
    {
     "name": "stdout",
     "output_type": "stream",
     "text": [
      "Results for model Pipeline and target variable HorseRankTop3:\n",
      "Cross Validation Score:  0.767\n",
      "F1 Score:  0.75\n",
      "PR AUC (Avg Precision):  0.383\n",
      "TPR:  0.605\n"
     ]
    },
    {
     "data": {
      "image/png": "[encoded data removed]",
      "text/plain": [
       "<Figure size 576x432 with 2 Axes>"
      ]
     },
     "metadata": {
      "needs_background": "light"
     },
     "output_type": "display_data"
    },
    {
     "name": "stdout",
     "output_type": "stream",
     "text": [
      "PR AUC score for HorseRankTop3: 0.544\n"
     ]
    },
    {
     "data": {
      "image/png": "[encoded data removed]",
      "text/plain": [
       "<Figure size 576x432 with 1 Axes>"
      ]
     },
     "metadata": {
      "needs_background": "light"
     },
     "output_type": "display_data"
    }
   ],
   "source": [
    "# Run the model\n",
    "smote_rfc_pred = run_model(smote_rfc, X_train, y_train, X_test, y_test, kfold)"
   ]
  },
  {
   "cell_type": "markdown",
   "metadata": {},
   "source": [
    "### View the final results of our 4 classification models"
   ]
  },
  {
   "cell_type": "code",
   "execution_count": 26,
   "metadata": {},
   "outputs": [
    {
     "data": {
      "text/html": [
       "<div>\n",
       "<style scoped>\n",
       "    .dataframe tbody tr th:only-of-type {\n",
       "        vertical-align: middle;\n",
       "    }\n",
       "\n",
       "    .dataframe tbody tr th {\n",
       "        vertical-align: top;\n",
       "    }\n",
       "\n",
       "    .dataframe thead th {\n",
       "        text-align: right;\n",
       "    }\n",
       "</style>\n",
       "<table border=\"1\" class=\"dataframe\">\n",
       "  <thead>\n",
       "    <tr style=\"text-align: right;\">\n",
       "      <th></th>\n",
       "      <th>Model</th>\n",
       "      <th>Prediction</th>\n",
       "      <th>CV</th>\n",
       "      <th>F1 Score</th>\n",
       "      <th>AUC</th>\n",
       "      <th>TPR</th>\n",
       "    </tr>\n",
       "  </thead>\n",
       "  <tbody>\n",
       "    <tr>\n",
       "      <th>0</th>\n",
       "      <td>LogisticRegression</td>\n",
       "      <td>HorseWin</td>\n",
       "      <td>0.886</td>\n",
       "      <td>0.885</td>\n",
       "      <td>0.106</td>\n",
       "      <td>0.027</td>\n",
       "    </tr>\n",
       "    <tr>\n",
       "      <th>2</th>\n",
       "      <td>GaussianNB</td>\n",
       "      <td>HorseWin</td>\n",
       "      <td>0.873</td>\n",
       "      <td>0.867</td>\n",
       "      <td>0.136</td>\n",
       "      <td>0.349</td>\n",
       "    </tr>\n",
       "    <tr>\n",
       "      <th>4</th>\n",
       "      <td>RandomForestClassifier</td>\n",
       "      <td>HorseWin</td>\n",
       "      <td>0.899</td>\n",
       "      <td>0.893</td>\n",
       "      <td>0.128</td>\n",
       "      <td>0.084</td>\n",
       "    </tr>\n",
       "    <tr>\n",
       "      <th>6</th>\n",
       "      <td>Pipeline</td>\n",
       "      <td>HorseWin</td>\n",
       "      <td>0.863</td>\n",
       "      <td>0.861</td>\n",
       "      <td>0.151</td>\n",
       "      <td>0.441</td>\n",
       "    </tr>\n",
       "    <tr>\n",
       "      <th>1</th>\n",
       "      <td>LogisticRegression</td>\n",
       "      <td>HorseRankTop3</td>\n",
       "      <td>0.774</td>\n",
       "      <td>0.744</td>\n",
       "      <td>0.340</td>\n",
       "      <td>0.252</td>\n",
       "    </tr>\n",
       "    <tr>\n",
       "      <th>3</th>\n",
       "      <td>GaussianNB</td>\n",
       "      <td>HorseRankTop3</td>\n",
       "      <td>0.748</td>\n",
       "      <td>0.726</td>\n",
       "      <td>0.359</td>\n",
       "      <td>0.603</td>\n",
       "    </tr>\n",
       "    <tr>\n",
       "      <th>5</th>\n",
       "      <td>RandomForestClassifier</td>\n",
       "      <td>HorseRankTop3</td>\n",
       "      <td>0.780</td>\n",
       "      <td>0.751</td>\n",
       "      <td>0.354</td>\n",
       "      <td>0.266</td>\n",
       "    </tr>\n",
       "    <tr>\n",
       "      <th>7</th>\n",
       "      <td>Pipeline</td>\n",
       "      <td>HorseRankTop3</td>\n",
       "      <td>0.767</td>\n",
       "      <td>0.750</td>\n",
       "      <td>0.383</td>\n",
       "      <td>0.605</td>\n",
       "    </tr>\n",
       "  </tbody>\n",
       "</table>\n",
       "</div>"
      ],
      "text/plain": [
       "                    Model     Prediction     CV  F1 Score    AUC    TPR\n",
       "0      LogisticRegression       HorseWin  0.886     0.885  0.106  0.027\n",
       "2              GaussianNB       HorseWin  0.873     0.867  0.136  0.349\n",
       "4  RandomForestClassifier       HorseWin  0.899     0.893  0.128  0.084\n",
       "6                Pipeline       HorseWin  0.863     0.861  0.151  0.441\n",
       "1      LogisticRegression  HorseRankTop3  0.774     0.744  0.340  0.252\n",
       "3              GaussianNB  HorseRankTop3  0.748     0.726  0.359  0.603\n",
       "5  RandomForestClassifier  HorseRankTop3  0.780     0.751  0.354  0.266\n",
       "7                Pipeline  HorseRankTop3  0.767     0.750  0.383  0.605"
      ]
     },
     "execution_count": 26,
     "metadata": {},
     "output_type": "execute_result"
    }
   ],
   "source": [
    "# View the results\n",
    "df_results.sort_values(by='Prediction', ascending=False)"
   ]
  },
  {
   "cell_type": "markdown",
   "metadata": {},
   "source": [
    "We will choose the Random Forest Classifer with SMOTE as our deployed model as it has good generalisation between the train and test F1 scores, the highest PR AUC and TPR."
   ]
  },
  {
   "cell_type": "code",
   "execution_count": 27,
   "metadata": {},
   "outputs": [],
   "source": [
    "# Save our models to csv\n",
    "lr_pred.to_csv('lr_pred.csv', index=False)\n",
    "gnb_pred.to_csv('gnb_pred.csv', index=False)\n",
    "rfc_pred.to_csv('rfc_pred.csv', index=False)\n",
    "smote_rfc_pred.to_csv('smote_rfc_pred.csv', index=False)"
   ]
  },
  {
   "cell_type": "code",
   "execution_count": 28,
   "metadata": {},
   "outputs": [
    {
     "data": {
      "text/plain": [
       "['./model/smote_rfc_model.pkl']"
      ]
     },
     "execution_count": 28,
     "metadata": {},
     "output_type": "execute_result"
    }
   ],
   "source": [
    "# Save our Pipeline model to a file\n",
    "joblib.dump(smote_rfc, './model/smote_rfc_model.pkl')"
   ]
  },
  {
   "cell_type": "code",
   "execution_count": 29,
   "metadata": {},
   "outputs": [],
   "source": [
    "# Save results to csv\n",
    "df_results.to_csv('./results/class_results.csv', index=False)\n"
   ]
  },
  {
   "cell_type": "code",
   "execution_count": 30,
   "metadata": {},
   "outputs": [
    {
     "data": {
      "text/html": [
       "<div>\n",
       "<style scoped>\n",
       "    .dataframe tbody tr th:only-of-type {\n",
       "        vertical-align: middle;\n",
       "    }\n",
       "\n",
       "    .dataframe tbody tr th {\n",
       "        vertical-align: top;\n",
       "    }\n",
       "\n",
       "    .dataframe thead th {\n",
       "        text-align: right;\n",
       "    }\n",
       "</style>\n",
       "<table border=\"1\" class=\"dataframe\">\n",
       "  <thead>\n",
       "    <tr style=\"text-align: right;\">\n",
       "      <th></th>\n",
       "      <th>RaceID</th>\n",
       "      <th>HorseID</th>\n",
       "      <th>HorseWin</th>\n",
       "      <th>HorseRankTop3</th>\n",
       "    </tr>\n",
       "    <tr>\n",
       "      <th>finishing_position</th>\n",
       "      <th></th>\n",
       "      <th></th>\n",
       "      <th></th>\n",
       "      <th></th>\n",
       "    </tr>\n",
       "  </thead>\n",
       "  <tbody>\n",
       "    <tr>\n",
       "      <th>1</th>\n",
       "      <td>2016-328</td>\n",
       "      <td>A009</td>\n",
       "      <td>0</td>\n",
       "      <td>1</td>\n",
       "    </tr>\n",
       "    <tr>\n",
       "      <th>2</th>\n",
       "      <td>2016-328</td>\n",
       "      <td>T157</td>\n",
       "      <td>0</td>\n",
       "      <td>0</td>\n",
       "    </tr>\n",
       "    <tr>\n",
       "      <th>3</th>\n",
       "      <td>2016-328</td>\n",
       "      <td>S098</td>\n",
       "      <td>0</td>\n",
       "      <td>0</td>\n",
       "    </tr>\n",
       "    <tr>\n",
       "      <th>4</th>\n",
       "      <td>2016-328</td>\n",
       "      <td>S329</td>\n",
       "      <td>0</td>\n",
       "      <td>0</td>\n",
       "    </tr>\n",
       "    <tr>\n",
       "      <th>5</th>\n",
       "      <td>2016-328</td>\n",
       "      <td>V273</td>\n",
       "      <td>0</td>\n",
       "      <td>0</td>\n",
       "    </tr>\n",
       "    <tr>\n",
       "      <th>...</th>\n",
       "      <td>...</td>\n",
       "      <td>...</td>\n",
       "      <td>...</td>\n",
       "      <td>...</td>\n",
       "    </tr>\n",
       "    <tr>\n",
       "      <th>9</th>\n",
       "      <td>2016-805</td>\n",
       "      <td>A139</td>\n",
       "      <td>0</td>\n",
       "      <td>0</td>\n",
       "    </tr>\n",
       "    <tr>\n",
       "      <th>10</th>\n",
       "      <td>2016-805</td>\n",
       "      <td>S362</td>\n",
       "      <td>0</td>\n",
       "      <td>0</td>\n",
       "    </tr>\n",
       "    <tr>\n",
       "      <th>11</th>\n",
       "      <td>2016-805</td>\n",
       "      <td>A163</td>\n",
       "      <td>0</td>\n",
       "      <td>0</td>\n",
       "    </tr>\n",
       "    <tr>\n",
       "      <th>12</th>\n",
       "      <td>2016-805</td>\n",
       "      <td>A249</td>\n",
       "      <td>0</td>\n",
       "      <td>0</td>\n",
       "    </tr>\n",
       "    <tr>\n",
       "      <th>13</th>\n",
       "      <td>2016-805</td>\n",
       "      <td>A352</td>\n",
       "      <td>0</td>\n",
       "      <td>0</td>\n",
       "    </tr>\n",
       "  </tbody>\n",
       "</table>\n",
       "<p>5864 rows × 4 columns</p>\n",
       "</div>"
      ],
      "text/plain": [
       "                      RaceID HorseID  HorseWin  HorseRankTop3\n",
       "finishing_position                                           \n",
       "1                   2016-328    A009         0              1\n",
       "2                   2016-328    T157         0              0\n",
       "3                   2016-328    S098         0              0\n",
       "4                   2016-328    S329         0              0\n",
       "5                   2016-328    V273         0              0\n",
       "...                      ...     ...       ...            ...\n",
       "9                   2016-805    A139         0              0\n",
       "10                  2016-805    S362         0              0\n",
       "11                  2016-805    A163         0              0\n",
       "12                  2016-805    A249         0              0\n",
       "13                  2016-805    A352         0              0\n",
       "\n",
       "[5864 rows x 4 columns]"
      ]
     },
     "execution_count": 30,
     "metadata": {},
     "output_type": "execute_result"
    }
   ],
   "source": [
    "lr_pred"
   ]
  },
  {
   "cell_type": "code",
   "execution_count": null,
   "metadata": {},
   "outputs": [],
   "source": []
  }
 ],
 "metadata": {
  "kernelspec": {
   "display_name": "Python 3 (ipykernel)",
   "language": "python",
   "name": "python3"
  },
  "language_info": {
   "codemirror_mode": {
    "name": "ipython",
    "version": 3
   },
   "file_extension": ".py",
   "mimetype": "text/x-python",
   "name": "python",
   "nbconvert_exporter": "python",
   "pygments_lexer": "ipython3",
   "version": "3.9.7"
  },
  "vscode": {
   "interpreter": {
    "hash": "fc902f5f9f1b4ac8244fa2d1a71d10e1bb8b95bd909217946ac119cb82bcf206"
   }
  }
 },
 "nbformat": 4,
 "nbformat_minor": 2
}
